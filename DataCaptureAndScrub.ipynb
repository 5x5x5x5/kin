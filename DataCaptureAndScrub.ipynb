{
 "metadata": {
  "name": "",
  "signature": "sha256:834704ef98713c174c8716e3f67826ff6e5e61fc7c7da96865b138c3229ff961"
 },
 "nbformat": 3,
 "nbformat_minor": 0,
 "worksheets": [
  {
   "cells": [
    {
     "cell_type": "code",
     "collapsed": false,
     "input": [
      "import sys\n",
      "sys.version"
     ],
     "language": "python",
     "metadata": {},
     "outputs": [
      {
       "metadata": {},
       "output_type": "pyout",
       "prompt_number": 1,
       "text": [
        "'3.3.5 |Anaconda 1.9.2 (64-bit)| (default, Mar 10 2014, 11:19:31) \\n[GCC 4.1.2 20080704 (Red Hat 4.1.2-54)]'"
       ]
      }
     ],
     "prompt_number": 1
    },
    {
     "cell_type": "code",
     "collapsed": false,
     "input": [
      "import numpy as np\n",
      "np.version.version"
     ],
     "language": "python",
     "metadata": {},
     "outputs": [
      {
       "metadata": {},
       "output_type": "pyout",
       "prompt_number": 2,
       "text": [
        "'1.8.0'"
       ]
      }
     ],
     "prompt_number": 2
    },
    {
     "cell_type": "code",
     "collapsed": false,
     "input": [
      "import pandas as pd\n",
      "pd.version.version"
     ],
     "language": "python",
     "metadata": {},
     "outputs": [
      {
       "metadata": {},
       "output_type": "pyout",
       "prompt_number": 3,
       "text": [
        "'0.13.1'"
       ]
      }
     ],
     "prompt_number": 3
    },
    {
     "cell_type": "code",
     "collapsed": false,
     "input": [
      "%timeit np.linalg.eigvals(np.random.rand(100,100))"
     ],
     "language": "python",
     "metadata": {},
     "outputs": [
      {
       "output_type": "stream",
       "stream": "stdout",
       "text": [
        "100 loops, best of 3: 8.88 ms per loop\n"
       ]
      }
     ],
     "prompt_number": 4
    },
    {
     "cell_type": "heading",
     "level": 3,
     "metadata": {},
     "source": [
      "Automated data capture and cleaning"
     ]
    },
    {
     "cell_type": "markdown",
     "metadata": {},
     "source": [
      "Assay data from: \n",
      "\n",
      "**Comprehansive Characterization of Cytochrome P450 Isozyme Selectivity across Chemical Libraries** *Nat Biotechnology.* November ; 27(11): 1050-1055. doi:10.1038/nbt.1851"
     ]
    },
    {
     "cell_type": "code",
     "collapsed": false,
     "input": [
      "# Download the molecular structures directly from PubChem\n",
      "!wget ftp://ftp-private.ncbi.nlm.nih.gov/pubchem/.fetch/46/4074412786212022583.txt -P data/"
     ],
     "language": "python",
     "metadata": {},
     "outputs": [
      {
       "output_type": "stream",
       "stream": "stdout",
       "text": [
        "--2014-05-29 03:45:50--  ftp://ftp-private.ncbi.nlm.nih.gov/pubchem/.fetch/46/4074412786212022583.txt\r\n",
        "           => 'data/4074412786212022583.txt.1'\r\n",
        "Resolving ftp-private.ncbi.nlm.nih.gov (ftp-private.ncbi.nlm.nih.gov)... "
       ]
      },
      {
       "output_type": "stream",
       "stream": "stdout",
       "text": [
        "130.14.29.30\r\n",
        "Connecting to ftp-private.ncbi.nlm.nih.gov (ftp-private.ncbi.nlm.nih.gov)|130.14.29.30|:21... connected.\r\n",
        "Logging in as anonymous ... Logged in!\r\n",
        "==> SYST ... done.    ==> PWD ... "
       ]
      },
      {
       "output_type": "stream",
       "stream": "stdout",
       "text": [
        "done.\r\n",
        "==> TYPE I ... done.  ==> CWD (1) /pubchem/.fetch/46 ... done.\r\n",
        "==> SIZE 4074412786212022583.txt ... 1051404\r\n",
        "==> PASV ... done.    ==> RETR 4074412786212022583.txt ... "
       ]
      },
      {
       "output_type": "stream",
       "stream": "stdout",
       "text": [
        "done.\r\n",
        "Length: 1051404 (1.0M) (unauthoritative)\r\n",
        "\r\n",
        "\r",
        " 0% [                                       ] 0           --.-K/s              "
       ]
      },
      {
       "output_type": "stream",
       "stream": "stdout",
       "text": [
        "\r",
        "100%[======================================>] 1,051,404   6.30MB/s   in 0.2s   \r\n",
        "\r\n",
        "2014-05-29 03:45:51 (6.30 MB/s) - 'data/4074412786212022583.txt.1' saved [1051404]\r\n",
        "\r\n"
       ]
      }
     ],
     "prompt_number": 5
    },
    {
     "cell_type": "code",
     "collapsed": false,
     "input": [
      "# Rename file into something easier to work with.\n",
      "!cp data/4074412786212022583.txt data/1851smiles.txt"
     ],
     "language": "python",
     "metadata": {},
     "outputs": [],
     "prompt_number": 6
    },
    {
     "cell_type": "code",
     "collapsed": false,
     "input": [
      "# Load the structure data into a DataFrame\n",
      "smiles = pd.read_table('data/1851smiles.txt', sep='\\t', names=('SID', 'SMILES'))"
     ],
     "language": "python",
     "metadata": {},
     "outputs": [],
     "prompt_number": 5
    },
    {
     "cell_type": "code",
     "collapsed": false,
     "input": [
      "# Inspect the first five rows of the DataFrame.\n",
      "smiles.head(5)"
     ],
     "language": "python",
     "metadata": {},
     "outputs": [
      {
       "html": [
        "<div style=\"max-height:1000px;max-width:1500px;overflow:auto;\">\n",
        "<table border=\"1\" class=\"dataframe\">\n",
        "  <thead>\n",
        "    <tr style=\"text-align: right;\">\n",
        "      <th></th>\n",
        "      <th>SID</th>\n",
        "      <th>SMILES</th>\n",
        "    </tr>\n",
        "  </thead>\n",
        "  <tbody>\n",
        "    <tr>\n",
        "      <th>0</th>\n",
        "      <td> 26751441</td>\n",
        "      <td>                     COC(=O)NC/C=C\\C1=NC(=CO1)CCCO</td>\n",
        "    </tr>\n",
        "    <tr>\n",
        "      <th>1</th>\n",
        "      <td> 26751440</td>\n",
        "      <td> C[C@H](C1=CC=CC=C1)N2C(=O)[C@@H]3CC[C@H]4[C@H]...</td>\n",
        "    </tr>\n",
        "    <tr>\n",
        "      <th>2</th>\n",
        "      <td> 26751439</td>\n",
        "      <td> CCN1C(=O)[C@H]2CC=C3[C@H]([C@H]2C1=O)[C@@H]([C...</td>\n",
        "    </tr>\n",
        "    <tr>\n",
        "      <th>3</th>\n",
        "      <td> 26751438</td>\n",
        "      <td> C1COC2([C@@H]3[C@H](O3)[C@H]([C@@H]4C2=CC[C@H]...</td>\n",
        "    </tr>\n",
        "    <tr>\n",
        "      <th>4</th>\n",
        "      <td> 26751437</td>\n",
        "      <td>          C=CC1=C[C@H]([C@H]2[C@@H](C13OCCCO3)O2)O</td>\n",
        "    </tr>\n",
        "  </tbody>\n",
        "</table>\n",
        "<p>5 rows \u00d7 2 columns</p>\n",
        "</div>"
       ],
       "metadata": {},
       "output_type": "pyout",
       "prompt_number": 6,
       "text": [
        "        SID                                             SMILES\n",
        "0  26751441                      COC(=O)NC/C=C\\C1=NC(=CO1)CCCO\n",
        "1  26751440  C[C@H](C1=CC=CC=C1)N2C(=O)[C@@H]3CC[C@H]4[C@H]...\n",
        "2  26751439  CCN1C(=O)[C@H]2CC=C3[C@H]([C@H]2C1=O)[C@@H]([C...\n",
        "3  26751438  C1COC2([C@@H]3[C@H](O3)[C@H]([C@@H]4C2=CC[C@H]...\n",
        "4  26751437           C=CC1=C[C@H]([C@H]2[C@@H](C13OCCCO3)O2)O\n",
        "\n",
        "[5 rows x 2 columns]"
       ]
      }
     ],
     "prompt_number": 6
    },
    {
     "cell_type": "code",
     "collapsed": false,
     "input": [],
     "language": "python",
     "metadata": {},
     "outputs": []
    },
    {
     "cell_type": "code",
     "collapsed": false,
     "input": [],
     "language": "python",
     "metadata": {},
     "outputs": []
    },
    {
     "cell_type": "code",
     "collapsed": false,
     "input": [
      "# Download bioassy data directly from PubChem\n",
      "!wget ftp://ftp-private.ncbi.nlm.nih.gov/pubchem/.fetch/3/3837744530006510797.csv -P data/"
     ],
     "language": "python",
     "metadata": {},
     "outputs": [
      {
       "output_type": "stream",
       "stream": "stdout",
       "text": [
        "--2014-05-29 03:46:07--  ftp://ftp-private.ncbi.nlm.nih.gov/pubchem/.fetch/3/3837744530006510797.csv\r\n",
        "           => 'data/3837744530006510797.csv.1'\r\n",
        "Resolving ftp-private.ncbi.nlm.nih.gov (ftp-private.ncbi.nlm.nih.gov)... 130.14.29.30\r\n",
        "Connecting to ftp-private.ncbi.nlm.nih.gov (ftp-private.ncbi.nlm.nih.gov)|130.14.29.30|:21... connected.\r\n",
        "Logging in as anonymous ... "
       ]
      },
      {
       "output_type": "stream",
       "stream": "stdout",
       "text": [
        "Logged in!\r\n",
        "==> SYST ... done.    ==> PWD ... done.\r\n",
        "==> TYPE I ... done.  ==> CWD (1) /pubchem/.fetch/3 ... done.\r\n",
        "==> SIZE 3837744530006510797.csv ... 12687619\r\n",
        "==> PASV ... done.    ==> RETR 3837744530006510797.csv ... done.\r\n",
        "Length: 12687619 (12M) (unauthoritative)\r\n",
        "\r\n",
        "\r",
        " 0% [                                       ] 0           --.-K/s              "
       ]
      },
      {
       "output_type": "stream",
       "stream": "stdout",
       "text": [
        "\r",
        "22% [=======>                               ] 2,836,136   13.5MB/s             "
       ]
      },
      {
       "output_type": "stream",
       "stream": "stdout",
       "text": [
        "\r",
        "86% [================================>      ] 11,010,422  25.1MB/s             "
       ]
      },
      {
       "output_type": "stream",
       "stream": "stdout",
       "text": [
        "\r",
        "100%[======================================>] 12,687,619  25.5MB/s   in 0.5s   \r\n",
        "\r\n",
        "2014-05-29 03:46:07 (25.5 MB/s) - 'data/3837744530006510797.csv.1' saved [12687619]\r\n",
        "\r\n"
       ]
      }
     ],
     "prompt_number": 9
    },
    {
     "cell_type": "code",
     "collapsed": false,
     "input": [
      "# Rename file into something easier to work with.\n",
      "!cp data/3837744530006510797.csv data/1851bioassay.csv"
     ],
     "language": "python",
     "metadata": {},
     "outputs": [],
     "prompt_number": 18
    },
    {
     "cell_type": "code",
     "collapsed": false,
     "input": [
      "# Load the data into a DataFrame\n",
      "bioassay = pd.read_csv('data/1851bioassay.csv')"
     ],
     "language": "python",
     "metadata": {},
     "outputs": [
      {
       "output_type": "stream",
       "stream": "stderr",
       "text": [
        "/home/ubuntu/miniconda3/lib/python3.3/site-packages/pandas/io/parsers.py:1070: DtypeWarning: Columns (12) have mixed types. Specify dtype option on import or set low_memory=False.\n",
        "  data = self._reader.read(nrows)\n"
       ]
      }
     ],
     "prompt_number": 7
    },
    {
     "cell_type": "code",
     "collapsed": false,
     "input": [
      "# Inspect the first three rows of the DataFrame.\n",
      "bioassay.head(3)"
     ],
     "language": "python",
     "metadata": {},
     "outputs": [
      {
       "html": [
        "<div style=\"max-height:1000px;max-width:1500px;overflow:auto;\">\n",
        "<table border=\"1\" class=\"dataframe\">\n",
        "  <thead>\n",
        "    <tr style=\"text-align: right;\">\n",
        "      <th></th>\n",
        "      <th>#</th>\n",
        "      <th>SID</th>\n",
        "      <th>CID</th>\n",
        "      <th>BioAssay_Source</th>\n",
        "      <th>RankScore</th>\n",
        "      <th>Outcome</th>\n",
        "      <th>Xref</th>\n",
        "      <th>URL</th>\n",
        "      <th>Comment</th>\n",
        "      <th>DepositDate</th>\n",
        "      <th>Inhibition Observed</th>\n",
        "      <th>Approved Drug</th>\n",
        "      <th>Collection</th>\n",
        "      <th>Analysis Comment</th>\n",
        "      <th>Activity Outcome</th>\n",
        "      <th>Activity Score</th>\n",
        "      <th>p450-cyp2c19-Potency_&amp;#956;M</th>\n",
        "      <th>p450-cyp2c19-Curve_Description</th>\n",
        "      <th>p450-cyp2c19-Fit_LogAC50</th>\n",
        "      <th>p450-cyp2c19-Fit_HillSlope</th>\n",
        "      <th></th>\n",
        "    </tr>\n",
        "  </thead>\n",
        "  <tbody>\n",
        "    <tr>\n",
        "      <th>0</th>\n",
        "      <td> 1</td>\n",
        "      <td> 26751441</td>\n",
        "      <td> 10847630</td>\n",
        "      <td> NCGC</td>\n",
        "      <td>NaN</td>\n",
        "      <td> Unspecified</td>\n",
        "      <td>NaN</td>\n",
        "      <td>NaN</td>\n",
        "      <td>NaN</td>\n",
        "      <td> 2009/07/08</td>\n",
        "      <td> False</td>\n",
        "      <td> Exploratory</td>\n",
        "      <td> NaN</td>\n",
        "      <td>NaN</td>\n",
        "      <td> 1</td>\n",
        "      <td>  0</td>\n",
        "      <td>     NaN</td>\n",
        "      <td>                             NaN</td>\n",
        "      <td> NaN</td>\n",
        "      <td>   NaN</td>\n",
        "      <td>...</td>\n",
        "    </tr>\n",
        "    <tr>\n",
        "      <th>1</th>\n",
        "      <td> 2</td>\n",
        "      <td> 26751440</td>\n",
        "      <td> 16758818</td>\n",
        "      <td> NCGC</td>\n",
        "      <td>NaN</td>\n",
        "      <td> Unspecified</td>\n",
        "      <td>NaN</td>\n",
        "      <td>NaN</td>\n",
        "      <td>NaN</td>\n",
        "      <td> 2009/07/08</td>\n",
        "      <td> False</td>\n",
        "      <td> Exploratory</td>\n",
        "      <td> NaN</td>\n",
        "      <td>NaN</td>\n",
        "      <td> 1</td>\n",
        "      <td>  0</td>\n",
        "      <td>     NaN</td>\n",
        "      <td>                             NaN</td>\n",
        "      <td> NaN</td>\n",
        "      <td>   NaN</td>\n",
        "      <td>...</td>\n",
        "    </tr>\n",
        "    <tr>\n",
        "      <th>2</th>\n",
        "      <td> 3</td>\n",
        "      <td> 26751439</td>\n",
        "      <td> 16758817</td>\n",
        "      <td> NCGC</td>\n",
        "      <td>NaN</td>\n",
        "      <td> Unspecified</td>\n",
        "      <td>NaN</td>\n",
        "      <td>NaN</td>\n",
        "      <td>NaN</td>\n",
        "      <td> 2009/07/08</td>\n",
        "      <td>  True</td>\n",
        "      <td> Exploratory</td>\n",
        "      <td> NaN</td>\n",
        "      <td>NaN</td>\n",
        "      <td> 2</td>\n",
        "      <td> 44</td>\n",
        "      <td> 1.58489</td>\n",
        "      <td> Partial curve; partial efficacy</td>\n",
        "      <td>-5.8</td>\n",
        "      <td> 3.132</td>\n",
        "      <td>...</td>\n",
        "    </tr>\n",
        "  </tbody>\n",
        "</table>\n",
        "<p>3 rows \u00d7 150 columns</p>\n",
        "</div>"
       ],
       "metadata": {},
       "output_type": "pyout",
       "prompt_number": 8,
       "text": [
        "   #       SID       CID BioAssay_Source  RankScore      Outcome  Xref  URL  \\\n",
        "0  1  26751441  10847630            NCGC        NaN  Unspecified   NaN  NaN   \n",
        "1  2  26751440  16758818            NCGC        NaN  Unspecified   NaN  NaN   \n",
        "2  3  26751439  16758817            NCGC        NaN  Unspecified   NaN  NaN   \n",
        "\n",
        "   Comment DepositDate Inhibition Observed Approved Drug Collection  \\\n",
        "0      NaN  2009/07/08               False   Exploratory        NaN   \n",
        "1      NaN  2009/07/08               False   Exploratory        NaN   \n",
        "2      NaN  2009/07/08                True   Exploratory        NaN   \n",
        "\n",
        "   Analysis Comment  Activity Outcome  Activity Score  \\\n",
        "0               NaN                 1               0   \n",
        "1               NaN                 1               0   \n",
        "2               NaN                 2              44   \n",
        "\n",
        "   p450-cyp2c19-Potency_&#956;M   p450-cyp2c19-Curve_Description  \\\n",
        "0                           NaN                              NaN   \n",
        "1                           NaN                              NaN   \n",
        "2                       1.58489  Partial curve; partial efficacy   \n",
        "\n",
        "   p450-cyp2c19-Fit_LogAC50  p450-cyp2c19-Fit_HillSlope      \n",
        "0                       NaN                         NaN ...  \n",
        "1                       NaN                         NaN ...  \n",
        "2                      -5.8                       3.132 ...  \n",
        "\n",
        "[3 rows x 150 columns]"
       ]
      }
     ],
     "prompt_number": 8
    },
    {
     "cell_type": "code",
     "collapsed": false,
     "input": [],
     "language": "python",
     "metadata": {},
     "outputs": []
    },
    {
     "cell_type": "code",
     "collapsed": false,
     "input": [
      "# Inspect the size of the data set\n",
      "bioassay.shape"
     ],
     "language": "python",
     "metadata": {},
     "outputs": [
      {
       "metadata": {},
       "output_type": "pyout",
       "prompt_number": 9,
       "text": [
        "(17143, 150)"
       ]
      }
     ],
     "prompt_number": 9
    },
    {
     "cell_type": "heading",
     "level": 2,
     "metadata": {},
     "source": [
      "Join Dataframes"
     ]
    },
    {
     "cell_type": "code",
     "collapsed": false,
     "input": [
      "merged = pd.merge(smiles, bioassay)\n",
      "merged.head(3)"
     ],
     "language": "python",
     "metadata": {},
     "outputs": [
      {
       "html": [
        "<div style=\"max-height:1000px;max-width:1500px;overflow:auto;\">\n",
        "<table border=\"1\" class=\"dataframe\">\n",
        "  <thead>\n",
        "    <tr style=\"text-align: right;\">\n",
        "      <th></th>\n",
        "      <th>SID</th>\n",
        "      <th>SMILES</th>\n",
        "      <th>#</th>\n",
        "      <th>CID</th>\n",
        "      <th>BioAssay_Source</th>\n",
        "      <th>RankScore</th>\n",
        "      <th>Outcome</th>\n",
        "      <th>Xref</th>\n",
        "      <th>URL</th>\n",
        "      <th>Comment</th>\n",
        "      <th>DepositDate</th>\n",
        "      <th>Inhibition Observed</th>\n",
        "      <th>Approved Drug</th>\n",
        "      <th>Collection</th>\n",
        "      <th>Analysis Comment</th>\n",
        "      <th>Activity Outcome</th>\n",
        "      <th>Activity Score</th>\n",
        "      <th>p450-cyp2c19-Potency_&amp;#956;M</th>\n",
        "      <th>p450-cyp2c19-Curve_Description</th>\n",
        "      <th>p450-cyp2c19-Fit_LogAC50</th>\n",
        "      <th></th>\n",
        "    </tr>\n",
        "  </thead>\n",
        "  <tbody>\n",
        "    <tr>\n",
        "      <th>0</th>\n",
        "      <td> 26751441</td>\n",
        "      <td>                     COC(=O)NC/C=C\\C1=NC(=CO1)CCCO</td>\n",
        "      <td> 1</td>\n",
        "      <td> 10847630</td>\n",
        "      <td> NCGC</td>\n",
        "      <td>NaN</td>\n",
        "      <td> Unspecified</td>\n",
        "      <td>NaN</td>\n",
        "      <td>NaN</td>\n",
        "      <td>NaN</td>\n",
        "      <td> 2009/07/08</td>\n",
        "      <td> False</td>\n",
        "      <td> Exploratory</td>\n",
        "      <td> NaN</td>\n",
        "      <td>NaN</td>\n",
        "      <td> 1</td>\n",
        "      <td>  0</td>\n",
        "      <td>     NaN</td>\n",
        "      <td>                             NaN</td>\n",
        "      <td> NaN</td>\n",
        "      <td>...</td>\n",
        "    </tr>\n",
        "    <tr>\n",
        "      <th>1</th>\n",
        "      <td> 26751440</td>\n",
        "      <td> C[C@H](C1=CC=CC=C1)N2C(=O)[C@@H]3CC[C@H]4[C@H]...</td>\n",
        "      <td> 2</td>\n",
        "      <td> 16758818</td>\n",
        "      <td> NCGC</td>\n",
        "      <td>NaN</td>\n",
        "      <td> Unspecified</td>\n",
        "      <td>NaN</td>\n",
        "      <td>NaN</td>\n",
        "      <td>NaN</td>\n",
        "      <td> 2009/07/08</td>\n",
        "      <td> False</td>\n",
        "      <td> Exploratory</td>\n",
        "      <td> NaN</td>\n",
        "      <td>NaN</td>\n",
        "      <td> 1</td>\n",
        "      <td>  0</td>\n",
        "      <td>     NaN</td>\n",
        "      <td>                             NaN</td>\n",
        "      <td> NaN</td>\n",
        "      <td>...</td>\n",
        "    </tr>\n",
        "    <tr>\n",
        "      <th>2</th>\n",
        "      <td> 26751439</td>\n",
        "      <td> CCN1C(=O)[C@H]2CC=C3[C@H]([C@H]2C1=O)[C@@H]([C...</td>\n",
        "      <td> 3</td>\n",
        "      <td> 16758817</td>\n",
        "      <td> NCGC</td>\n",
        "      <td>NaN</td>\n",
        "      <td> Unspecified</td>\n",
        "      <td>NaN</td>\n",
        "      <td>NaN</td>\n",
        "      <td>NaN</td>\n",
        "      <td> 2009/07/08</td>\n",
        "      <td>  True</td>\n",
        "      <td> Exploratory</td>\n",
        "      <td> NaN</td>\n",
        "      <td>NaN</td>\n",
        "      <td> 2</td>\n",
        "      <td> 44</td>\n",
        "      <td> 1.58489</td>\n",
        "      <td> Partial curve; partial efficacy</td>\n",
        "      <td>-5.8</td>\n",
        "      <td>...</td>\n",
        "    </tr>\n",
        "  </tbody>\n",
        "</table>\n",
        "<p>3 rows \u00d7 151 columns</p>\n",
        "</div>"
       ],
       "metadata": {},
       "output_type": "pyout",
       "prompt_number": 10,
       "text": [
        "        SID                                             SMILES  #       CID  \\\n",
        "0  26751441                      COC(=O)NC/C=C\\C1=NC(=CO1)CCCO  1  10847630   \n",
        "1  26751440  C[C@H](C1=CC=CC=C1)N2C(=O)[C@@H]3CC[C@H]4[C@H]...  2  16758818   \n",
        "2  26751439  CCN1C(=O)[C@H]2CC=C3[C@H]([C@H]2C1=O)[C@@H]([C...  3  16758817   \n",
        "\n",
        "  BioAssay_Source  RankScore      Outcome  Xref  URL  Comment DepositDate  \\\n",
        "0            NCGC        NaN  Unspecified   NaN  NaN      NaN  2009/07/08   \n",
        "1            NCGC        NaN  Unspecified   NaN  NaN      NaN  2009/07/08   \n",
        "2            NCGC        NaN  Unspecified   NaN  NaN      NaN  2009/07/08   \n",
        "\n",
        "  Inhibition Observed Approved Drug Collection  Analysis Comment  \\\n",
        "0               False   Exploratory        NaN               NaN   \n",
        "1               False   Exploratory        NaN               NaN   \n",
        "2                True   Exploratory        NaN               NaN   \n",
        "\n",
        "   Activity Outcome  Activity Score  p450-cyp2c19-Potency_&#956;M  \\\n",
        "0                 1               0                           NaN   \n",
        "1                 1               0                           NaN   \n",
        "2                 2              44                       1.58489   \n",
        "\n",
        "    p450-cyp2c19-Curve_Description  p450-cyp2c19-Fit_LogAC50      \n",
        "0                              NaN                       NaN ...  \n",
        "1                              NaN                       NaN ...  \n",
        "2  Partial curve; partial efficacy                      -5.8 ...  \n",
        "\n",
        "[3 rows x 151 columns]"
       ]
      }
     ],
     "prompt_number": 10
    },
    {
     "cell_type": "heading",
     "level": 2,
     "metadata": {},
     "source": [
      "Generate Descriptors in MOE and upload file."
     ]
    },
    {
     "cell_type": "code",
     "collapsed": false,
     "input": [
      "descriptors = pd.read_csv('data/SIDWashedstructureDescriptors.csv')"
     ],
     "language": "python",
     "metadata": {},
     "outputs": [],
     "prompt_number": 14
    },
    {
     "cell_type": "code",
     "collapsed": false,
     "input": [
      "descriptors.head(3)"
     ],
     "language": "python",
     "metadata": {},
     "outputs": [
      {
       "html": [
        "<div style=\"max-height:1000px;max-width:1500px;overflow:auto;\">\n",
        "<table border=\"1\" class=\"dataframe\">\n",
        "  <thead>\n",
        "    <tr style=\"text-align: right;\">\n",
        "      <th></th>\n",
        "      <th>SID</th>\n",
        "      <th>WashedMols</th>\n",
        "      <th>apol</th>\n",
        "      <th>a_acc</th>\n",
        "      <th>a_acid</th>\n",
        "      <th>a_aro</th>\n",
        "      <th>a_base</th>\n",
        "      <th>a_count</th>\n",
        "      <th>a_don</th>\n",
        "      <th>a_heavy</th>\n",
        "      <th>a_hyd</th>\n",
        "      <th>a_IC</th>\n",
        "      <th>a_ICM</th>\n",
        "      <th>a_nB</th>\n",
        "      <th>a_nBr</th>\n",
        "      <th>a_nC</th>\n",
        "      <th>a_nCl</th>\n",
        "      <th>a_nF</th>\n",
        "      <th>a_nH</th>\n",
        "      <th>a_nI</th>\n",
        "      <th></th>\n",
        "    </tr>\n",
        "  </thead>\n",
        "  <tbody>\n",
        "    <tr>\n",
        "      <th>0</th>\n",
        "      <td> 842238</td>\n",
        "      <td>             Clc1cc(NC(=O)CCC)ccc1N1CC[NH+](CC1)CC</td>\n",
        "      <td> 51.111824</td>\n",
        "      <td> 1</td>\n",
        "      <td> 0</td>\n",
        "      <td>  6</td>\n",
        "      <td> 1</td>\n",
        "      <td> 46</td>\n",
        "      <td> 1</td>\n",
        "      <td> 21</td>\n",
        "      <td> 16</td>\n",
        "      <td>  69.232559</td>\n",
        "      <td> 1.505056</td>\n",
        "      <td> 0</td>\n",
        "      <td> 0</td>\n",
        "      <td> 16</td>\n",
        "      <td> 1</td>\n",
        "      <td> 0</td>\n",
        "      <td> 25</td>\n",
        "      <td> 0</td>\n",
        "      <td>...</td>\n",
        "    </tr>\n",
        "    <tr>\n",
        "      <th>1</th>\n",
        "      <td> 842250</td>\n",
        "      <td> Fc1ccc(cc1)Cn1nnnc1C[NH+](CC1=Cc2c(NC1=O)cc1OC...</td>\n",
        "      <td> 66.848030</td>\n",
        "      <td> 7</td>\n",
        "      <td> 0</td>\n",
        "      <td> 17</td>\n",
        "      <td> 1</td>\n",
        "      <td> 58</td>\n",
        "      <td> 2</td>\n",
        "      <td> 34</td>\n",
        "      <td> 21</td>\n",
        "      <td> 102.172100</td>\n",
        "      <td> 1.761588</td>\n",
        "      <td> 0</td>\n",
        "      <td> 0</td>\n",
        "      <td> 23</td>\n",
        "      <td> 0</td>\n",
        "      <td> 1</td>\n",
        "      <td> 24</td>\n",
        "      <td> 0</td>\n",
        "      <td>...</td>\n",
        "    </tr>\n",
        "    <tr>\n",
        "      <th>2</th>\n",
        "      <td> 842319</td>\n",
        "      <td> S1\\C(=C/2\\c3c(N(CC)C\\2=O)cccc3)\\C(=O)N(CCCOC)C1=S</td>\n",
        "      <td> 52.328274</td>\n",
        "      <td> 4</td>\n",
        "      <td> 0</td>\n",
        "      <td>  6</td>\n",
        "      <td> 0</td>\n",
        "      <td> 42</td>\n",
        "      <td> 0</td>\n",
        "      <td> 24</td>\n",
        "      <td> 15</td>\n",
        "      <td>  73.176926</td>\n",
        "      <td> 1.742308</td>\n",
        "      <td> 0</td>\n",
        "      <td> 0</td>\n",
        "      <td> 17</td>\n",
        "      <td> 0</td>\n",
        "      <td> 0</td>\n",
        "      <td> 18</td>\n",
        "      <td> 0</td>\n",
        "      <td>...</td>\n",
        "    </tr>\n",
        "  </tbody>\n",
        "</table>\n",
        "<p>3 rows \u00d7 188 columns</p>\n",
        "</div>"
       ],
       "metadata": {},
       "output_type": "pyout",
       "prompt_number": 15,
       "text": [
        "      SID                                         WashedMols       apol  \\\n",
        "0  842238              Clc1cc(NC(=O)CCC)ccc1N1CC[NH+](CC1)CC  51.111824   \n",
        "1  842250  Fc1ccc(cc1)Cn1nnnc1C[NH+](CC1=Cc2c(NC1=O)cc1OC...  66.848030   \n",
        "2  842319  S1\\C(=C/2\\c3c(N(CC)C\\2=O)cccc3)\\C(=O)N(CCCOC)C1=S  52.328274   \n",
        "\n",
        "   a_acc  a_acid  a_aro  a_base  a_count  a_don  a_heavy  a_hyd        a_IC  \\\n",
        "0      1       0      6       1       46      1       21     16   69.232559   \n",
        "1      7       0     17       1       58      2       34     21  102.172100   \n",
        "2      4       0      6       0       42      0       24     15   73.176926   \n",
        "\n",
        "      a_ICM  a_nB  a_nBr  a_nC  a_nCl  a_nF  a_nH  a_nI      \n",
        "0  1.505056     0      0    16      1     0    25     0 ...  \n",
        "1  1.761588     0      0    23      0     1    24     0 ...  \n",
        "2  1.742308     0      0    17      0     0    18     0 ...  \n",
        "\n",
        "[3 rows x 188 columns]"
       ]
      }
     ],
     "prompt_number": 15
    },
    {
     "cell_type": "code",
     "collapsed": false,
     "input": [],
     "language": "python",
     "metadata": {},
     "outputs": []
    },
    {
     "cell_type": "code",
     "collapsed": false,
     "input": [
      "mergedmore = pd.merge(merged, descriptors)"
     ],
     "language": "python",
     "metadata": {},
     "outputs": [],
     "prompt_number": 16
    },
    {
     "cell_type": "code",
     "collapsed": false,
     "input": [
      "mergedmore.head(5)"
     ],
     "language": "python",
     "metadata": {},
     "outputs": [
      {
       "html": [
        "<div style=\"max-height:1000px;max-width:1500px;overflow:auto;\">\n",
        "<table border=\"1\" class=\"dataframe\">\n",
        "  <thead>\n",
        "    <tr style=\"text-align: right;\">\n",
        "      <th></th>\n",
        "      <th>SID</th>\n",
        "      <th>SMILES</th>\n",
        "      <th>#</th>\n",
        "      <th>CID</th>\n",
        "      <th>BioAssay_Source</th>\n",
        "      <th>RankScore</th>\n",
        "      <th>Outcome</th>\n",
        "      <th>Xref</th>\n",
        "      <th>URL</th>\n",
        "      <th>Comment</th>\n",
        "      <th>DepositDate</th>\n",
        "      <th>Inhibition Observed</th>\n",
        "      <th>Approved Drug</th>\n",
        "      <th>Collection</th>\n",
        "      <th>Analysis Comment</th>\n",
        "      <th>Activity Outcome</th>\n",
        "      <th>Activity Score</th>\n",
        "      <th>p450-cyp2c19-Potency_&amp;#956;M</th>\n",
        "      <th>p450-cyp2c19-Curve_Description</th>\n",
        "      <th>p450-cyp2c19-Fit_LogAC50</th>\n",
        "      <th></th>\n",
        "    </tr>\n",
        "  </thead>\n",
        "  <tbody>\n",
        "    <tr>\n",
        "      <th>0</th>\n",
        "      <td> 26751441</td>\n",
        "      <td>                     COC(=O)NC/C=C\\C1=NC(=CO1)CCCO</td>\n",
        "      <td> 1</td>\n",
        "      <td> 10847630</td>\n",
        "      <td> NCGC</td>\n",
        "      <td>NaN</td>\n",
        "      <td> Unspecified</td>\n",
        "      <td>NaN</td>\n",
        "      <td>NaN</td>\n",
        "      <td>NaN</td>\n",
        "      <td> 2009/07/08</td>\n",
        "      <td> False</td>\n",
        "      <td> Exploratory</td>\n",
        "      <td> NaN</td>\n",
        "      <td>NaN</td>\n",
        "      <td> 1</td>\n",
        "      <td>  0</td>\n",
        "      <td>     NaN</td>\n",
        "      <td>                                        NaN</td>\n",
        "      <td> NaN</td>\n",
        "      <td>...</td>\n",
        "    </tr>\n",
        "    <tr>\n",
        "      <th>1</th>\n",
        "      <td> 26751440</td>\n",
        "      <td> C[C@H](C1=CC=CC=C1)N2C(=O)[C@@H]3CC[C@H]4[C@H]...</td>\n",
        "      <td> 2</td>\n",
        "      <td> 16758818</td>\n",
        "      <td> NCGC</td>\n",
        "      <td>NaN</td>\n",
        "      <td> Unspecified</td>\n",
        "      <td>NaN</td>\n",
        "      <td>NaN</td>\n",
        "      <td>NaN</td>\n",
        "      <td> 2009/07/08</td>\n",
        "      <td> False</td>\n",
        "      <td> Exploratory</td>\n",
        "      <td> NaN</td>\n",
        "      <td>NaN</td>\n",
        "      <td> 1</td>\n",
        "      <td>  0</td>\n",
        "      <td>     NaN</td>\n",
        "      <td>                                        NaN</td>\n",
        "      <td> NaN</td>\n",
        "      <td>...</td>\n",
        "    </tr>\n",
        "    <tr>\n",
        "      <th>2</th>\n",
        "      <td> 26751439</td>\n",
        "      <td> CCN1C(=O)[C@H]2CC=C3[C@H]([C@H]2C1=O)[C@@H]([C...</td>\n",
        "      <td> 3</td>\n",
        "      <td> 16758817</td>\n",
        "      <td> NCGC</td>\n",
        "      <td>NaN</td>\n",
        "      <td> Unspecified</td>\n",
        "      <td>NaN</td>\n",
        "      <td>NaN</td>\n",
        "      <td>NaN</td>\n",
        "      <td> 2009/07/08</td>\n",
        "      <td>  True</td>\n",
        "      <td> Exploratory</td>\n",
        "      <td> NaN</td>\n",
        "      <td>NaN</td>\n",
        "      <td> 2</td>\n",
        "      <td> 44</td>\n",
        "      <td> 1.58489</td>\n",
        "      <td>            Partial curve; partial efficacy</td>\n",
        "      <td>-5.8</td>\n",
        "      <td>...</td>\n",
        "    </tr>\n",
        "    <tr>\n",
        "      <th>3</th>\n",
        "      <td> 26751438</td>\n",
        "      <td> C1COC2([C@@H]3[C@H](O3)[C@H]([C@@H]4C2=CC[C@H]...</td>\n",
        "      <td> 4</td>\n",
        "      <td> 16758816</td>\n",
        "      <td> NCGC</td>\n",
        "      <td>NaN</td>\n",
        "      <td> Unspecified</td>\n",
        "      <td>NaN</td>\n",
        "      <td>NaN</td>\n",
        "      <td>NaN</td>\n",
        "      <td> 2009/07/08</td>\n",
        "      <td> False</td>\n",
        "      <td> Exploratory</td>\n",
        "      <td> NaN</td>\n",
        "      <td>NaN</td>\n",
        "      <td> 1</td>\n",
        "      <td>  0</td>\n",
        "      <td>     NaN</td>\n",
        "      <td>                                        NaN</td>\n",
        "      <td> NaN</td>\n",
        "      <td>...</td>\n",
        "    </tr>\n",
        "    <tr>\n",
        "      <th>4</th>\n",
        "      <td> 26751437</td>\n",
        "      <td>          C=CC1=C[C@H]([C@H]2[C@@H](C13OCCCO3)O2)O</td>\n",
        "      <td> 5</td>\n",
        "      <td> 16758815</td>\n",
        "      <td> NCGC</td>\n",
        "      <td>NaN</td>\n",
        "      <td> Unspecified</td>\n",
        "      <td>NaN</td>\n",
        "      <td>NaN</td>\n",
        "      <td>NaN</td>\n",
        "      <td> 2009/07/08</td>\n",
        "      <td>  True</td>\n",
        "      <td> Exploratory</td>\n",
        "      <td> NaN</td>\n",
        "      <td>NaN</td>\n",
        "      <td> 3</td>\n",
        "      <td> 10</td>\n",
        "      <td>     NaN</td>\n",
        "      <td> Complete curve; partial efficacy; poor fit</td>\n",
        "      <td>-6.6</td>\n",
        "      <td>...</td>\n",
        "    </tr>\n",
        "  </tbody>\n",
        "</table>\n",
        "<p>5 rows \u00d7 338 columns</p>\n",
        "</div>"
       ],
       "metadata": {},
       "output_type": "pyout",
       "prompt_number": 17,
       "text": [
        "        SID                                             SMILES  #       CID  \\\n",
        "0  26751441                      COC(=O)NC/C=C\\C1=NC(=CO1)CCCO  1  10847630   \n",
        "1  26751440  C[C@H](C1=CC=CC=C1)N2C(=O)[C@@H]3CC[C@H]4[C@H]...  2  16758818   \n",
        "2  26751439  CCN1C(=O)[C@H]2CC=C3[C@H]([C@H]2C1=O)[C@@H]([C...  3  16758817   \n",
        "3  26751438  C1COC2([C@@H]3[C@H](O3)[C@H]([C@@H]4C2=CC[C@H]...  4  16758816   \n",
        "4  26751437           C=CC1=C[C@H]([C@H]2[C@@H](C13OCCCO3)O2)O  5  16758815   \n",
        "\n",
        "  BioAssay_Source  RankScore      Outcome  Xref  URL  Comment DepositDate  \\\n",
        "0            NCGC        NaN  Unspecified   NaN  NaN      NaN  2009/07/08   \n",
        "1            NCGC        NaN  Unspecified   NaN  NaN      NaN  2009/07/08   \n",
        "2            NCGC        NaN  Unspecified   NaN  NaN      NaN  2009/07/08   \n",
        "3            NCGC        NaN  Unspecified   NaN  NaN      NaN  2009/07/08   \n",
        "4            NCGC        NaN  Unspecified   NaN  NaN      NaN  2009/07/08   \n",
        "\n",
        "  Inhibition Observed Approved Drug Collection  Analysis Comment  \\\n",
        "0               False   Exploratory        NaN               NaN   \n",
        "1               False   Exploratory        NaN               NaN   \n",
        "2                True   Exploratory        NaN               NaN   \n",
        "3               False   Exploratory        NaN               NaN   \n",
        "4                True   Exploratory        NaN               NaN   \n",
        "\n",
        "   Activity Outcome  Activity Score  p450-cyp2c19-Potency_&#956;M  \\\n",
        "0                 1               0                           NaN   \n",
        "1                 1               0                           NaN   \n",
        "2                 2              44                       1.58489   \n",
        "3                 1               0                           NaN   \n",
        "4                 3              10                           NaN   \n",
        "\n",
        "               p450-cyp2c19-Curve_Description  p450-cyp2c19-Fit_LogAC50      \n",
        "0                                         NaN                       NaN ...  \n",
        "1                                         NaN                       NaN ...  \n",
        "2             Partial curve; partial efficacy                      -5.8 ...  \n",
        "3                                         NaN                       NaN ...  \n",
        "4  Complete curve; partial efficacy; poor fit                      -6.6 ...  \n",
        "\n",
        "[5 rows x 338 columns]"
       ]
      }
     ],
     "prompt_number": 17
    },
    {
     "cell_type": "code",
     "collapsed": false,
     "input": [
      "mergedmore.shape"
     ],
     "language": "python",
     "metadata": {},
     "outputs": [
      {
       "metadata": {},
       "output_type": "pyout",
       "prompt_number": 18,
       "text": [
        "(17143, 338)"
       ]
      }
     ],
     "prompt_number": 18
    },
    {
     "cell_type": "heading",
     "level": 2,
     "metadata": {},
     "source": [
      "Subset 2c19 data"
     ]
    },
    {
     "cell_type": "code",
     "collapsed": false,
     "input": [],
     "language": "python",
     "metadata": {},
     "outputs": []
    },
    {
     "cell_type": "code",
     "collapsed": false,
     "input": [],
     "language": "python",
     "metadata": {},
     "outputs": []
    },
    {
     "cell_type": "code",
     "collapsed": false,
     "input": [],
     "language": "python",
     "metadata": {},
     "outputs": []
    },
    {
     "cell_type": "code",
     "collapsed": false,
     "input": [],
     "language": "python",
     "metadata": {},
     "outputs": []
    }
   ],
   "metadata": {}
  }
 ]
}
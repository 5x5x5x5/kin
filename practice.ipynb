{
 "metadata": {
  "name": "",
  "signature": "sha256:332934d71e80406b21f1bcccc576e0321ffe4758884a85340bccde3241cd061b"
 },
 "nbformat": 3,
 "nbformat_minor": 0,
 "worksheets": [
  {
   "cells": [
    {
     "cell_type": "heading",
     "level": 1,
     "metadata": {},
     "source": [
      "Hello world"
     ]
    },
    {
     "cell_type": "code",
     "collapsed": false,
     "input": [
      "5 * 6"
     ],
     "language": "python",
     "metadata": {},
     "outputs": [
      {
       "metadata": {},
       "output_type": "pyout",
       "prompt_number": 13,
       "text": [
        "30"
       ]
      }
     ],
     "prompt_number": 13
    },
    {
     "cell_type": "code",
     "collapsed": false,
     "input": [
      "import numpy as np"
     ],
     "language": "python",
     "metadata": {},
     "outputs": [],
     "prompt_number": 230
    },
    {
     "cell_type": "code",
     "collapsed": false,
     "input": [
      "14 / 3"
     ],
     "language": "python",
     "metadata": {},
     "outputs": [
      {
       "metadata": {},
       "output_type": "pyout",
       "prompt_number": 15,
       "text": [
        "4.666666666666667"
       ]
      }
     ],
     "prompt_number": 15
    },
    {
     "cell_type": "code",
     "collapsed": false,
     "input": [
      "a = 123.4\n",
      "b23 = 'Jill'\n",
      "first_name = \"Bill\"\n",
      "b = 432\n",
      "c = a + b\n",
      "print(\"a + b is\",c)\n",
      "print(\"first_name is\",first_name)\n",
      "print(\"Sorted Parts, After Midnight or\",b23)"
     ],
     "language": "python",
     "metadata": {},
     "outputs": [
      {
       "output_type": "stream",
       "stream": "stdout",
       "text": [
        "a + b is 555.4\n",
        "first_name is Bill\n",
        "Sorted Parts, After Midnight or Jill\n"
       ]
      }
     ],
     "prompt_number": 16
    },
    {
     "cell_type": "code",
     "collapsed": false,
     "input": [
      "import sys\n",
      "sys.version\n",
      "np.version"
     ],
     "language": "python",
     "metadata": {},
     "outputs": [
      {
       "metadata": {},
       "output_type": "pyout",
       "prompt_number": 231,
       "text": [
        "<module 'numpy.version' from '/home/ubuntu/miniconda3/lib/python3.3/site-packages/numpy/version.py'>"
       ]
      }
     ],
     "prompt_number": 231
    },
    {
     "cell_type": "markdown",
     "metadata": {},
     "source": [
      "###Figure out how to display SMILES structure in notebook\n",
      "- Check out OpenBabel (only kit so far to support Python 3)\n",
      "- iMolecule on github by patrick fuller https://github.com/patrickfuller/imolecule"
     ]
    },
    {
     "cell_type": "raw",
     "metadata": {},
     "source": []
    },
    {
     "cell_type": "markdown",
     "metadata": {},
     "source": [
      "## Down sampling the negative cases\n",
      "\n",
      "- code adapted from DataRobot blog post on kNN in scikit-learn"
     ]
    },
    {
     "cell_type": "code",
     "collapsed": false,
     "input": [
      "import pandas as pd"
     ],
     "language": "python",
     "metadata": {},
     "outputs": [],
     "prompt_number": 232
    },
    {
     "cell_type": "code",
     "collapsed": false,
     "input": [
      "df = pd.read_csv('https://d1pqsl2386xqi9.cloudfront.net/notebooks/Default.csv', index_col=0)"
     ],
     "language": "python",
     "metadata": {},
     "outputs": []
    },
    {
     "cell_type": "code",
     "collapsed": false,
     "input": [
      "# Downsample negative cases -- there are many more negatives than positives\n",
      "indices = np.where(df.default =='No')[0]\n",
      "rng = np.random.RandomState(13)\n",
      "rng.shuffle(indices)\n",
      "n_pos = (df.default == 'Yes').sum()\n",
      "df = df.drop(df.index[indices[n_pos:]])\n",
      "\n",
      "df.head()"
     ],
     "language": "python",
     "metadata": {},
     "outputs": [
      {
       "html": [
        "<div style=\"max-height:1000px;max-width:1500px;overflow:auto;\">\n",
        "<table border=\"1\" class=\"dataframe\">\n",
        "  <thead>\n",
        "    <tr style=\"text-align: right;\">\n",
        "      <th></th>\n",
        "      <th>default</th>\n",
        "      <th>student</th>\n",
        "      <th>balance</th>\n",
        "      <th>income</th>\n",
        "    </tr>\n",
        "  </thead>\n",
        "  <tbody>\n",
        "    <tr>\n",
        "      <th>20</th>\n",
        "      <td> No</td>\n",
        "      <td> No</td>\n",
        "      <td> 1095.072735</td>\n",
        "      <td> 26464.631389</td>\n",
        "    </tr>\n",
        "    <tr>\n",
        "      <th>38</th>\n",
        "      <td> No</td>\n",
        "      <td> No</td>\n",
        "      <td>  351.453472</td>\n",
        "      <td> 35087.488648</td>\n",
        "    </tr>\n",
        "    <tr>\n",
        "      <th>61</th>\n",
        "      <td> No</td>\n",
        "      <td> No</td>\n",
        "      <td>  766.234379</td>\n",
        "      <td> 46478.294257</td>\n",
        "    </tr>\n",
        "    <tr>\n",
        "      <th>78</th>\n",
        "      <td> No</td>\n",
        "      <td> No</td>\n",
        "      <td>  728.373251</td>\n",
        "      <td> 45131.718265</td>\n",
        "    </tr>\n",
        "    <tr>\n",
        "      <th>79</th>\n",
        "      <td> No</td>\n",
        "      <td> No</td>\n",
        "      <td>   76.991291</td>\n",
        "      <td> 28392.093412</td>\n",
        "    </tr>\n",
        "  </tbody>\n",
        "</table>\n",
        "<p>5 rows \u00d7 4 columns</p>\n",
        "</div>"
       ],
       "metadata": {},
       "output_type": "pyout",
       "prompt_number": 233,
       "text": [
        "   default student      balance        income\n",
        "20      No      No  1095.072735  26464.631389\n",
        "38      No      No   351.453472  35087.488648\n",
        "61      No      No   766.234379  46478.294257\n",
        "78      No      No   728.373251  45131.718265\n",
        "79      No      No    76.991291  28392.093412\n",
        "\n",
        "[5 rows x 4 columns]"
       ]
      }
     ],
     "prompt_number": 233
    },
    {
     "cell_type": "code",
     "collapsed": false,
     "input": [
      "from matplotlib import pyplot as plt\n",
      "from matplotlib.colors import ListedColormap\n",
      "%pylab inline\n",
      "\n",
      "# setup figure\n",
      "plt.figure(figsize=(10, 8))\n",
      "\n",
      "# scatter plot of balance (x) and income (y)\n",
      "ax1 = plt.subplot(221)\n",
      "cm_bright = ListedColormap(['#FF0000', '#0000FF'])\n",
      "ax1.scatter(df.balance, df.income, c=(df.default == 'Yes'), cmap=cm_bright)\n",
      "\n",
      "ax1.set_xlim((df.balance.min(), df.balance.max()))\n",
      "ax1.set_ylim((df.income.min(), df.income.max()))\n",
      "ax1.set_xlabel('balance')\n",
      "ax1.set_ylabel('income')\n",
      "ax1.legend(loc='upper right')\n",
      "\n",
      "# box plots for income\n",
      "ax2 = plt.subplot(222)\n",
      "ax2.boxplot([df.income[df.default =='Yes'], df.income[df.default =='No']])\n",
      "ax2.set_ylim((df.income.min(), df.income.max()))\n",
      "ax2.set_xticklabels(('Yes', 'No'))\n",
      "ax2.set_ylabel('income')\n",
      "\n",
      "# box plots for balance\n",
      "ax3 = plt.subplot(223)\n",
      "ax3.boxplot([df.balance[df.default == 'Yes'], df.balance[df.default == 'No']], vert=0)\n",
      "ax3.set_xlim((df.balance.min(), df.balance.max()))\n",
      "ax3.set_yticklabels(('Yes', 'No'))\n",
      "ax3.set_xlabel('balance')\n",
      "plt.tight_layout()"
     ],
     "language": "python",
     "metadata": {},
     "outputs": [
      {
       "output_type": "stream",
       "stream": "stdout",
       "text": [
        "Populating the interactive namespace from numpy and matplotlib\n"
       ]
      },
      {
       "output_type": "stream",
       "stream": "stderr",
       "text": [
        "WARNING: pylab import has clobbered these variables: ['indices']\n",
        "`%matplotlib` prevents importing * from pylab and numpy\n"
       ]
      },
      {
       "metadata": {},
       "output_type": "display_data",
       "png": "[encoded data removed]",
       "text": [
        "<matplotlib.figure.Figure at 0x7ff500694ed0>"
       ]
      }
     ],
     "prompt_number": 27
    },
    {
     "cell_type": "markdown",
     "metadata": {},
     "source": [
      "### And now an ordinary least squares regression line over the logistic function of 1 = Yes to -1=No default.\n",
      "The line represents the decision surface, which is linear."
     ]
    },
    {
     "cell_type": "code",
     "collapsed": false,
     "input": [
      "from sklearn.linear_model import LinearRegression\n",
      "\n",
      "# get feature/predictor matrix as numpy array\n",
      "X = df[['balance', 'income']].values\n",
      "\n",
      "# encode class labels\n",
      "classes, y = np.unique(df.default.values, return_inverse=True)\n",
      "y = (y * 2) - 1   # map {0, 1} to {-1, 1}\n",
      "\n",
      "# fit OLS regression\n",
      "est = LinearRegression(fit_intercept=True, normalize=True)\n",
      "est.fit(X, y)\n",
      "\n",
      "# plot the decision surface\n",
      "ax = plt.gca()\n",
      "ax.scatter(df.balance, df.income, c=(df.default == 'Yes'), cmap=cm_bright)\n",
      "try:\n",
      "    plot_surface(est, X[:, 0], X[:, 1], ax=ax)\n",
      "except NameError:\n",
      "    print('Please run cells in Appendix first')"
     ],
     "language": "python",
     "metadata": {},
     "outputs": [
      {
       "metadata": {},
       "output_type": "display_data",
       "png": "[encoded data removed]",
       "text": [
        "<matplotlib.figure.Figure at 0x7ff4ffd42450>"
       ]
      }
     ],
     "prompt_number": 12
    },
    {
     "cell_type": "markdown",
     "metadata": {},
     "source": [
      "## Confusion matrix!\n",
      "Correct classification is shown on the diagnol. The off diagonal show the classification errors. A condensed summary of the model performance is given by the *missclassification rate* determined simply by dividing the number of errors by the total number of cases."
     ]
    },
    {
     "cell_type": "code",
     "collapsed": false,
     "input": [
      "from sklearn.metrics import confusion_matrix as sk_confusion_matrix\n",
      "\n",
      "# the larger operator will return a boolean array which we will cast as integers for fancy indexing\n",
      "y_pred = (2 * (est.predict(X) > 0.0)) - 1\n",
      "\n",
      "def confusion_matrix(Y_test, y_pred):\n",
      "    cm = sk_confusion_matrix(y, y_pred)\n",
      "    cm = pd.DataFrame(data=cm, columns=[-1, 1], index=[-1, 1])\n",
      "    cm.columns.name = 'Predicted label'\n",
      "    cm.index.name = 'True label'\n",
      "    error_rate = (y_pred != y).mean()\n",
      "    print('error rate: %.2f' %error_rate)\n",
      "    return cm\n",
      "\n",
      "confusion_matrix(y, y_pred)"
     ],
     "language": "python",
     "metadata": {},
     "outputs": [
      {
       "output_type": "stream",
       "stream": "stdout",
       "text": [
        "error rate: 0.11\n"
       ]
      },
      {
       "html": [
        "<div style=\"max-height:1000px;max-width:1500px;overflow:auto;\">\n",
        "<table border=\"1\" class=\"dataframe\">\n",
        "  <thead>\n",
        "    <tr style=\"text-align: right;\">\n",
        "      <th>Predicted label</th>\n",
        "      <th>-1</th>\n",
        "      <th>1</th>\n",
        "    </tr>\n",
        "    <tr>\n",
        "      <th>True label</th>\n",
        "      <th></th>\n",
        "      <th></th>\n",
        "    </tr>\n",
        "  </thead>\n",
        "  <tbody>\n",
        "    <tr>\n",
        "      <th>-1</th>\n",
        "      <td> 288</td>\n",
        "      <td>  45</td>\n",
        "    </tr>\n",
        "    <tr>\n",
        "      <th> 1</th>\n",
        "      <td>  31</td>\n",
        "      <td> 302</td>\n",
        "    </tr>\n",
        "  </tbody>\n",
        "</table>\n",
        "<p>2 rows \u00d7 2 columns</p>\n",
        "</div>"
       ],
       "metadata": {},
       "output_type": "pyout",
       "prompt_number": 19,
       "text": [
        "Predicted label   -1    1\n",
        "True label               \n",
        "-1               288   45\n",
        " 1                31  302\n",
        "\n",
        "[2 rows x 2 columns]"
       ]
      }
     ],
     "prompt_number": 19
    },
    {
     "cell_type": "markdown",
     "metadata": {},
     "source": [
      "## Train-Test Split!\n",
      "Cross validation of model performance by holding back 20% of the data and assessing the model on that set after training the model on the 80% retained."
     ]
    },
    {
     "cell_type": "code",
     "collapsed": false,
     "input": [
      "from sklearn.cross_validation import train_test_split\n",
      "\n",
      "# create 80%-20% train-test split\n",
      "X_train, X_test, y_train, y_test = train_test_split(X, y, test_size=0.2)\n",
      "\n",
      "# fit on training data\n",
      "est = LinearRegression().fit(X_train,y_train)\n",
      "\n",
      "# test on data that was not used for fitting\n",
      "y_pred = (2 * (est.predict(X) > 0.0)) - 1\n",
      "\n",
      "confusion_matrix(y_test, y_pred)"
     ],
     "language": "python",
     "metadata": {},
     "outputs": [
      {
       "output_type": "stream",
       "stream": "stdout",
       "text": [
        "error rate: 0.11\n"
       ]
      },
      {
       "html": [
        "<div style=\"max-height:1000px;max-width:1500px;overflow:auto;\">\n",
        "<table border=\"1\" class=\"dataframe\">\n",
        "  <thead>\n",
        "    <tr style=\"text-align: right;\">\n",
        "      <th>Predicted label</th>\n",
        "      <th>-1</th>\n",
        "      <th>1</th>\n",
        "    </tr>\n",
        "    <tr>\n",
        "      <th>True label</th>\n",
        "      <th></th>\n",
        "      <th></th>\n",
        "    </tr>\n",
        "  </thead>\n",
        "  <tbody>\n",
        "    <tr>\n",
        "      <th>-1</th>\n",
        "      <td> 285</td>\n",
        "      <td>  48</td>\n",
        "    </tr>\n",
        "    <tr>\n",
        "      <th> 1</th>\n",
        "      <td>  27</td>\n",
        "      <td> 306</td>\n",
        "    </tr>\n",
        "  </tbody>\n",
        "</table>\n",
        "<p>2 rows \u00d7 2 columns</p>\n",
        "</div>"
       ],
       "metadata": {},
       "output_type": "pyout",
       "prompt_number": 20,
       "text": [
        "Predicted label   -1    1\n",
        "True label               \n",
        "-1               285   48\n",
        " 1                27  306\n",
        "\n",
        "[2 rows x 2 columns]"
       ]
      }
     ],
     "prompt_number": 20
    },
    {
     "cell_type": "markdown",
     "metadata": {},
     "source": [
      "##simple logistic regression"
     ]
    },
    {
     "cell_type": "code",
     "collapsed": false,
     "input": [
      "x = np.linspace(-10, 10, 666)\n",
      "y = 1.0 / (1.0 + np.exp(-x))\n",
      "\n",
      "plt.plot(x, y, 'r-', label='logit')\n",
      "plt.legend(loc='lower right')"
     ],
     "language": "python",
     "metadata": {},
     "outputs": [
      {
       "metadata": {},
       "output_type": "pyout",
       "prompt_number": 34,
       "text": [
        "<matplotlib.legend.Legend at 0x7ff4ffd16490>"
       ]
      },
      {
       "metadata": {},
       "output_type": "display_data",
       "png": "[encoded data removed]",
       "text": [
        "<matplotlib.figure.Figure at 0x7ff4ffd16b90>"
       ]
      }
     ],
     "prompt_number": 34
    },
    {
     "cell_type": "markdown",
     "metadata": {},
     "source": [
      "## Let's try to do classification on this data\n",
      "- train_test_split\n",
      "- standardize the data\n",
      "- gradient lines for plotting\n",
      "- logistic regression\n",
      "- kNN"
     ]
    },
    {
     "cell_type": "code",
     "collapsed": false,
     "input": [],
     "language": "python",
     "metadata": {},
     "outputs": []
    },
    {
     "cell_type": "code",
     "collapsed": false,
     "input": [
      "from sklearn.preprocessing import StandardScaler\n",
      "from collections import OrderedDict\n",
      "from sklearn.neighbors import KNeighborsClassifier\n",
      "\n",
      "\n",
      "# get feature/predictor matrix as numpy array\n",
      "X, y = df[['balance', 'income']].values, np.where(df.default == 'No', 0, 1)\n",
      "\n",
      "# create 80%-20% train-test split\n",
      "X_train, X_test, y_train, y_test = train_test_split(X, y, test_size=0.4, random_state=1)\n",
      "\n",
      "# standardize data\n",
      "scaler = StandardScaler().fit(X_train)\n",
      "\n",
      "est = KNeighborsClassifier(3)\n",
      "est.fit(X_train, y_train)\n"
     ],
     "language": "python",
     "metadata": {},
     "outputs": [
      {
       "metadata": {},
       "output_type": "pyout",
       "prompt_number": 121,
       "text": [
        "KNeighborsClassifier(algorithm='auto', leaf_size=30, metric='minkowski',\n",
        "           n_neighbors=3, p=2, weights='uniform')"
       ]
      }
     ],
     "prompt_number": 121
    },
    {
     "cell_type": "code",
     "collapsed": false,
     "input": [
      "est.predict(X_test)"
     ],
     "language": "python",
     "metadata": {},
     "outputs": [
      {
       "metadata": {},
       "output_type": "pyout",
       "prompt_number": 122,
       "text": [
        "array([1, 0, 0, 1, 0, 1, 1, 1, 0, 1, 0, 0, 1, 1, 0, 1, 1, 0, 1, 1, 0, 1, 0,\n",
        "       0, 0, 1, 1, 1, 0, 1, 1, 1, 0, 1, 1, 1, 1, 1, 0, 0, 1, 1, 1, 0, 0, 0,\n",
        "       0, 0, 1, 0, 0, 0, 1, 1, 1, 0, 0, 0, 0, 1, 1, 0, 1, 1, 1, 0, 0, 1, 0,\n",
        "       1, 1, 0, 0, 0, 0, 1, 1, 0, 1, 0, 0, 0, 0, 1, 0, 1, 1, 1, 1, 0, 0, 0,\n",
        "       0, 0, 0, 0, 0, 1, 1, 0, 0, 1, 1, 0, 1, 0, 1, 0, 0, 0, 0, 1, 0, 1, 0,\n",
        "       1, 1, 1, 1, 0, 1, 1, 1, 0, 0, 0, 1, 1, 0, 1, 0, 0, 0, 1, 0, 1, 1, 0,\n",
        "       1, 1, 0, 0, 0, 0, 0, 1, 1, 0, 1, 1, 0, 0, 0, 1, 0, 1, 0, 1, 0, 0, 0,\n",
        "       1, 0, 1, 0, 1, 1, 0, 1, 1, 1, 0, 0, 0, 1, 1, 0, 1, 0, 0, 1, 1, 0, 1,\n",
        "       0, 0, 1, 0, 1, 0, 0, 0, 0, 1, 0, 0, 0, 1, 1, 0, 1, 1, 1, 1, 0, 1, 0,\n",
        "       1, 1, 0, 0, 1, 0, 1, 1, 0, 0, 1, 0, 1, 1, 1, 0, 0, 1, 1, 0, 1, 0, 0,\n",
        "       0, 1, 0, 1, 0, 0, 0, 0, 1, 0, 0, 1, 1, 0, 0, 0, 1, 0, 1, 1, 0, 0, 1,\n",
        "       1, 1, 1, 0, 0, 0, 0, 1, 1, 1, 0, 0, 1, 1])"
       ]
      }
     ],
     "prompt_number": 122
    },
    {
     "cell_type": "code",
     "collapsed": false,
     "input": [
      "y_predict = est.predict(X_test)"
     ],
     "language": "python",
     "metadata": {},
     "outputs": [],
     "prompt_number": 123
    },
    {
     "cell_type": "code",
     "collapsed": false,
     "input": [
      "errors = y_test - y_predict"
     ],
     "language": "python",
     "metadata": {},
     "outputs": [],
     "prompt_number": 124
    },
    {
     "cell_type": "code",
     "collapsed": false,
     "input": [
      "t_pos = (y_predict == 1).sum()\n",
      "t_neg = (y_predict == 0).sum()\n",
      "f_neg = (errors == 1).sum()\n",
      "f_pos = (errors == -1).sum()\n",
      "t_pos, t_neg, f_pos, f_neg"
     ],
     "language": "python",
     "metadata": {},
     "outputs": [
      {
       "metadata": {},
       "output_type": "pyout",
       "prompt_number": 125,
       "text": [
        "(129, 138, 19, 31)"
       ]
      }
     ],
     "prompt_number": 125
    },
    {
     "cell_type": "code",
     "collapsed": false,
     "input": [
      "f_pos/t_pos, f_neg/t_neg"
     ],
     "language": "python",
     "metadata": {},
     "outputs": [
      {
       "metadata": {},
       "output_type": "pyout",
       "prompt_number": 126,
       "text": [
        "(0.14728682170542637, 0.22463768115942029)"
       ]
      }
     ],
     "prompt_number": 126
    },
    {
     "cell_type": "code",
     "collapsed": false,
     "input": [
      "q = 78 + 56\n",
      "q * 4"
     ],
     "language": "python",
     "metadata": {},
     "outputs": [
      {
       "metadata": {},
       "output_type": "pyout",
       "prompt_number": 82,
       "text": [
        "536"
       ]
      }
     ],
     "prompt_number": 82
    },
    {
     "cell_type": "code",
     "collapsed": false,
     "input": [
      "X.shape"
     ],
     "language": "python",
     "metadata": {},
     "outputs": [
      {
       "metadata": {},
       "output_type": "pyout",
       "prompt_number": 81,
       "text": [
        "(666, 2)"
       ]
      }
     ],
     "prompt_number": 81
    },
    {
     "cell_type": "code",
     "collapsed": false,
     "input": [
      "plot(est)"
     ],
     "language": "python",
     "metadata": {},
     "outputs": [
      {
       "ename": "TypeError",
       "evalue": "float() argument must be a string or a number",
       "output_type": "pyerr",
       "traceback": [
        "\u001b[1;31m---------------------------------------------------------------------------\u001b[0m\n\u001b[1;31mTypeError\u001b[0m                                 Traceback (most recent call last)",
        "\u001b[1;32m<ipython-input-56-4fab3f0f451a>\u001b[0m in \u001b[0;36m<module>\u001b[1;34m()\u001b[0m\n\u001b[1;32m----> 1\u001b[1;33m \u001b[0mplot\u001b[0m\u001b[1;33m(\u001b[0m\u001b[0mest\u001b[0m\u001b[1;33m)\u001b[0m\u001b[1;33m\u001b[0m\u001b[0m\n\u001b[0m",
        "\u001b[1;32m/home/ubuntu/miniconda3/lib/python3.3/site-packages/matplotlib/pyplot.py\u001b[0m in \u001b[0;36mplot\u001b[1;34m(*args, **kwargs)\u001b[0m\n\u001b[0;32m   2985\u001b[0m         \u001b[0max\u001b[0m\u001b[1;33m.\u001b[0m\u001b[0mhold\u001b[0m\u001b[1;33m(\u001b[0m\u001b[0mhold\u001b[0m\u001b[1;33m)\u001b[0m\u001b[1;33m\u001b[0m\u001b[0m\n\u001b[0;32m   2986\u001b[0m     \u001b[1;32mtry\u001b[0m\u001b[1;33m:\u001b[0m\u001b[1;33m\u001b[0m\u001b[0m\n\u001b[1;32m-> 2987\u001b[1;33m         \u001b[0mret\u001b[0m \u001b[1;33m=\u001b[0m \u001b[0max\u001b[0m\u001b[1;33m.\u001b[0m\u001b[0mplot\u001b[0m\u001b[1;33m(\u001b[0m\u001b[1;33m*\u001b[0m\u001b[0margs\u001b[0m\u001b[1;33m,\u001b[0m \u001b[1;33m**\u001b[0m\u001b[0mkwargs\u001b[0m\u001b[1;33m)\u001b[0m\u001b[1;33m\u001b[0m\u001b[0m\n\u001b[0m\u001b[0;32m   2988\u001b[0m         \u001b[0mdraw_if_interactive\u001b[0m\u001b[1;33m(\u001b[0m\u001b[1;33m)\u001b[0m\u001b[1;33m\u001b[0m\u001b[0m\n\u001b[0;32m   2989\u001b[0m     \u001b[1;32mfinally\u001b[0m\u001b[1;33m:\u001b[0m\u001b[1;33m\u001b[0m\u001b[0m\n",
        "\u001b[1;32m/home/ubuntu/miniconda3/lib/python3.3/site-packages/matplotlib/axes.py\u001b[0m in \u001b[0;36mplot\u001b[1;34m(self, *args, **kwargs)\u001b[0m\n\u001b[0;32m   4138\u001b[0m \u001b[1;33m\u001b[0m\u001b[0m\n\u001b[0;32m   4139\u001b[0m         \u001b[1;32mfor\u001b[0m \u001b[0mline\u001b[0m \u001b[1;32min\u001b[0m \u001b[0mself\u001b[0m\u001b[1;33m.\u001b[0m\u001b[0m_get_lines\u001b[0m\u001b[1;33m(\u001b[0m\u001b[1;33m*\u001b[0m\u001b[0margs\u001b[0m\u001b[1;33m,\u001b[0m \u001b[1;33m**\u001b[0m\u001b[0mkwargs\u001b[0m\u001b[1;33m)\u001b[0m\u001b[1;33m:\u001b[0m\u001b[1;33m\u001b[0m\u001b[0m\n\u001b[1;32m-> 4140\u001b[1;33m             \u001b[0mself\u001b[0m\u001b[1;33m.\u001b[0m\u001b[0madd_line\u001b[0m\u001b[1;33m(\u001b[0m\u001b[0mline\u001b[0m\u001b[1;33m)\u001b[0m\u001b[1;33m\u001b[0m\u001b[0m\n\u001b[0m\u001b[0;32m   4141\u001b[0m             \u001b[0mlines\u001b[0m\u001b[1;33m.\u001b[0m\u001b[0mappend\u001b[0m\u001b[1;33m(\u001b[0m\u001b[0mline\u001b[0m\u001b[1;33m)\u001b[0m\u001b[1;33m\u001b[0m\u001b[0m\n\u001b[0;32m   4142\u001b[0m \u001b[1;33m\u001b[0m\u001b[0m\n",
        "\u001b[1;32m/home/ubuntu/miniconda3/lib/python3.3/site-packages/matplotlib/axes.py\u001b[0m in \u001b[0;36madd_line\u001b[1;34m(self, line)\u001b[0m\n\u001b[0;32m   1497\u001b[0m             \u001b[0mline\u001b[0m\u001b[1;33m.\u001b[0m\u001b[0mset_clip_path\u001b[0m\u001b[1;33m(\u001b[0m\u001b[0mself\u001b[0m\u001b[1;33m.\u001b[0m\u001b[0mpatch\u001b[0m\u001b[1;33m)\u001b[0m\u001b[1;33m\u001b[0m\u001b[0m\n\u001b[0;32m   1498\u001b[0m \u001b[1;33m\u001b[0m\u001b[0m\n\u001b[1;32m-> 1499\u001b[1;33m         \u001b[0mself\u001b[0m\u001b[1;33m.\u001b[0m\u001b[0m_update_line_limits\u001b[0m\u001b[1;33m(\u001b[0m\u001b[0mline\u001b[0m\u001b[1;33m)\u001b[0m\u001b[1;33m\u001b[0m\u001b[0m\n\u001b[0m\u001b[0;32m   1500\u001b[0m         \u001b[1;32mif\u001b[0m \u001b[1;32mnot\u001b[0m \u001b[0mline\u001b[0m\u001b[1;33m.\u001b[0m\u001b[0mget_label\u001b[0m\u001b[1;33m(\u001b[0m\u001b[1;33m)\u001b[0m\u001b[1;33m:\u001b[0m\u001b[1;33m\u001b[0m\u001b[0m\n\u001b[0;32m   1501\u001b[0m             \u001b[0mline\u001b[0m\u001b[1;33m.\u001b[0m\u001b[0mset_label\u001b[0m\u001b[1;33m(\u001b[0m\u001b[1;34m'_line%d'\u001b[0m \u001b[1;33m%\u001b[0m \u001b[0mlen\u001b[0m\u001b[1;33m(\u001b[0m\u001b[0mself\u001b[0m\u001b[1;33m.\u001b[0m\u001b[0mlines\u001b[0m\u001b[1;33m)\u001b[0m\u001b[1;33m)\u001b[0m\u001b[1;33m\u001b[0m\u001b[0m\n",
        "\u001b[1;32m/home/ubuntu/miniconda3/lib/python3.3/site-packages/matplotlib/axes.py\u001b[0m in \u001b[0;36m_update_line_limits\u001b[1;34m(self, line)\u001b[0m\n\u001b[0;32m   1508\u001b[0m         \u001b[0mFigures\u001b[0m \u001b[0mout\u001b[0m \u001b[0mthe\u001b[0m \u001b[0mdata\u001b[0m \u001b[0mlimit\u001b[0m \u001b[0mof\u001b[0m \u001b[0mthe\u001b[0m \u001b[0mgiven\u001b[0m \u001b[0mline\u001b[0m\u001b[1;33m,\u001b[0m \u001b[0mupdating\u001b[0m \u001b[0mself\u001b[0m\u001b[1;33m.\u001b[0m\u001b[0mdataLim\u001b[0m\u001b[1;33m.\u001b[0m\u001b[1;33m\u001b[0m\u001b[0m\n\u001b[0;32m   1509\u001b[0m         \"\"\"\n\u001b[1;32m-> 1510\u001b[1;33m         \u001b[0mpath\u001b[0m \u001b[1;33m=\u001b[0m \u001b[0mline\u001b[0m\u001b[1;33m.\u001b[0m\u001b[0mget_path\u001b[0m\u001b[1;33m(\u001b[0m\u001b[1;33m)\u001b[0m\u001b[1;33m\u001b[0m\u001b[0m\n\u001b[0m\u001b[0;32m   1511\u001b[0m         \u001b[1;32mif\u001b[0m \u001b[0mpath\u001b[0m\u001b[1;33m.\u001b[0m\u001b[0mvertices\u001b[0m\u001b[1;33m.\u001b[0m\u001b[0msize\u001b[0m \u001b[1;33m==\u001b[0m \u001b[1;36m0\u001b[0m\u001b[1;33m:\u001b[0m\u001b[1;33m\u001b[0m\u001b[0m\n\u001b[0;32m   1512\u001b[0m             \u001b[1;32mreturn\u001b[0m\u001b[1;33m\u001b[0m\u001b[0m\n",
        "\u001b[1;32m/home/ubuntu/miniconda3/lib/python3.3/site-packages/matplotlib/lines.py\u001b[0m in \u001b[0;36mget_path\u001b[1;34m(self)\u001b[0m\n\u001b[0;32m    742\u001b[0m         \"\"\"\n\u001b[0;32m    743\u001b[0m         \u001b[1;32mif\u001b[0m \u001b[0mself\u001b[0m\u001b[1;33m.\u001b[0m\u001b[0m_invalidy\u001b[0m \u001b[1;32mor\u001b[0m \u001b[0mself\u001b[0m\u001b[1;33m.\u001b[0m\u001b[0m_invalidx\u001b[0m\u001b[1;33m:\u001b[0m\u001b[1;33m\u001b[0m\u001b[0m\n\u001b[1;32m--> 744\u001b[1;33m             \u001b[0mself\u001b[0m\u001b[1;33m.\u001b[0m\u001b[0mrecache\u001b[0m\u001b[1;33m(\u001b[0m\u001b[1;33m)\u001b[0m\u001b[1;33m\u001b[0m\u001b[0m\n\u001b[0m\u001b[0;32m    745\u001b[0m         \u001b[1;32mreturn\u001b[0m \u001b[0mself\u001b[0m\u001b[1;33m.\u001b[0m\u001b[0m_path\u001b[0m\u001b[1;33m\u001b[0m\u001b[0m\n\u001b[0;32m    746\u001b[0m \u001b[1;33m\u001b[0m\u001b[0m\n",
        "\u001b[1;32m/home/ubuntu/miniconda3/lib/python3.3/site-packages/matplotlib/lines.py\u001b[0m in \u001b[0;36mrecache\u001b[1;34m(self, always)\u001b[0m\n\u001b[0;32m    428\u001b[0m                 \u001b[0my\u001b[0m \u001b[1;33m=\u001b[0m \u001b[0mma\u001b[0m\u001b[1;33m.\u001b[0m\u001b[0masarray\u001b[0m\u001b[1;33m(\u001b[0m\u001b[0myconv\u001b[0m\u001b[1;33m,\u001b[0m \u001b[0mnp\u001b[0m\u001b[1;33m.\u001b[0m\u001b[0mfloat_\u001b[0m\u001b[1;33m)\u001b[0m\u001b[1;33m\u001b[0m\u001b[0m\n\u001b[0;32m    429\u001b[0m             \u001b[1;32melse\u001b[0m\u001b[1;33m:\u001b[0m\u001b[1;33m\u001b[0m\u001b[0m\n\u001b[1;32m--> 430\u001b[1;33m                 \u001b[0my\u001b[0m \u001b[1;33m=\u001b[0m \u001b[0mnp\u001b[0m\u001b[1;33m.\u001b[0m\u001b[0masarray\u001b[0m\u001b[1;33m(\u001b[0m\u001b[0myconv\u001b[0m\u001b[1;33m,\u001b[0m \u001b[0mnp\u001b[0m\u001b[1;33m.\u001b[0m\u001b[0mfloat_\u001b[0m\u001b[1;33m)\u001b[0m\u001b[1;33m\u001b[0m\u001b[0m\n\u001b[0m\u001b[0;32m    431\u001b[0m             \u001b[0my\u001b[0m \u001b[1;33m=\u001b[0m \u001b[0my\u001b[0m\u001b[1;33m.\u001b[0m\u001b[0mravel\u001b[0m\u001b[1;33m(\u001b[0m\u001b[1;33m)\u001b[0m\u001b[1;33m\u001b[0m\u001b[0m\n\u001b[0;32m    432\u001b[0m         \u001b[1;32melse\u001b[0m\u001b[1;33m:\u001b[0m\u001b[1;33m\u001b[0m\u001b[0m\n",
        "\u001b[1;32m/home/ubuntu/miniconda3/lib/python3.3/site-packages/numpy/core/numeric.py\u001b[0m in \u001b[0;36masarray\u001b[1;34m(a, dtype, order)\u001b[0m\n\u001b[0;32m    458\u001b[0m \u001b[1;33m\u001b[0m\u001b[0m\n\u001b[0;32m    459\u001b[0m     \"\"\"\n\u001b[1;32m--> 460\u001b[1;33m     \u001b[1;32mreturn\u001b[0m \u001b[0marray\u001b[0m\u001b[1;33m(\u001b[0m\u001b[0ma\u001b[0m\u001b[1;33m,\u001b[0m \u001b[0mdtype\u001b[0m\u001b[1;33m,\u001b[0m \u001b[0mcopy\u001b[0m\u001b[1;33m=\u001b[0m\u001b[1;32mFalse\u001b[0m\u001b[1;33m,\u001b[0m \u001b[0morder\u001b[0m\u001b[1;33m=\u001b[0m\u001b[0morder\u001b[0m\u001b[1;33m)\u001b[0m\u001b[1;33m\u001b[0m\u001b[0m\n\u001b[0m\u001b[0;32m    461\u001b[0m \u001b[1;33m\u001b[0m\u001b[0m\n\u001b[0;32m    462\u001b[0m \u001b[1;32mdef\u001b[0m \u001b[0masanyarray\u001b[0m\u001b[1;33m(\u001b[0m\u001b[0ma\u001b[0m\u001b[1;33m,\u001b[0m \u001b[0mdtype\u001b[0m\u001b[1;33m=\u001b[0m\u001b[1;32mNone\u001b[0m\u001b[1;33m,\u001b[0m \u001b[0morder\u001b[0m\u001b[1;33m=\u001b[0m\u001b[1;32mNone\u001b[0m\u001b[1;33m)\u001b[0m\u001b[1;33m:\u001b[0m\u001b[1;33m\u001b[0m\u001b[0m\n",
        "\u001b[1;31mTypeError\u001b[0m: float() argument must be a string or a number"
       ]
      },
      {
       "metadata": {},
       "output_type": "display_data",
       "png": "[encoded data removed]",
       "text": [
        "<matplotlib.figure.Figure at 0x7ff503591450>"
       ]
      }
     ],
     "prompt_number": 56
    },
    {
     "cell_type": "markdown",
     "metadata": {},
     "source": [
      "## Appendix"
     ]
    },
    {
     "cell_type": "code",
     "collapsed": false,
     "input": [
      "def plot_surface(est, x_1, x_2, ax=None, threshold=0.0, contourf=False):\n",
      "    \"\"\"Plots the decision surface of ``est`` on features ``x1`` and ``x2``. \"\"\"\n",
      "    xx1, xx2 = np.meshgrid(np.linspace(x_1.min(), x_1.max(), 666), \n",
      "                           np.linspace(x_2.min(), x_2.max(), 666))\n",
      "    # plot the hyperplane by evaluating the parameters on the grid\n",
      "    X_pred = np.c_[xx1.ravel(), xx2.ravel()]  # convert 2d grid into seq of points\n",
      "    if hasattr(est, 'predict_proba'):  # check if ``est`` supports probabilities\n",
      "        # take probability of positive class\n",
      "        pred = est.predict_proba(X_pred)[:, 1]\n",
      "    else:\n",
      "        pred = est.predict(X_pred)\n",
      "    Z = pred.reshape((666, 666))  # reshape seq to grid\n",
      "    if ax is None:\n",
      "        ax = plt.gca()\n",
      "    # plot line via contour plot\n",
      "\n",
      "    if contourf:\n",
      "        ax.contourf(xx1, xx2, Z, levels=np.linspace(0, 1.0, 10), cmap=plt.cm.RdBu, alpha=0.6)\n",
      "    ax.contour(xx1, xx2, Z, levels=[threshold], colors='black')\n",
      "    ax.set_xlim((x_1.min(), x_1.max()))\n",
      "    ax.set_ylim((x_2.min(), x_2.max()))\n",
      "\n",
      "def plot_datasets(est=None):\n",
      "    \"\"\"Plotsthe decision surface of ``est`` on each of the three datasets. \"\"\"\n",
      "    fig, axes = plt.subplots(1, 3, figsize=(10, 4))\n",
      "    for (name, ds), ax in zip(datasets.iteritems(), axes):\n",
      "        X_train = ds['X_train']\n",
      "        y_train = ds['y_train']\n",
      "        X_test = ds['X_test']\n",
      "        y_test = ds['y_test']\n",
      "\n",
      "        # plot test lighter than training\n",
      "        cm_bright = ListedColormap(['#FF0000', '#0000FF'])\n",
      "        # Plot the training points\n",
      "        ax.scatter(X_train[:, 0], X_train[:, 1], c=y_train, cmap=cm_bright)\n",
      "        # and testing points\n",
      "        ax.scatter(X_test[:, 0], X_test[:, 1], c=y_test, cmap=cm_bright, alpha=0.6)\n",
      "        # plot limits\n",
      "        ax.set_xlim(X_train[:, 0].min(), X_train[:, 0].max())\n",
      "        ax.set_ylim(X_train[:, 1].min(), X_train[:, 1].max())\n",
      "        # no ticks\n",
      "        ax.set_xticks(())\n",
      "        ax.set_yticks(())\n",
      "        ax.set_ylabel('$x_1$')\n",
      "        ax.set_xlabel('$x_0$')\n",
      "        ax.set_title(name)\n",
      "        if est is not None:\n",
      "            est.fit(X_train, y_train)\n",
      "            plot_surface(est, X_train[:, 0], X_train[:, 1], ax=ax, threshold=0.5, contourf=True)\n",
      "            err = (y_test != est.predict(X_test)).mean()\n",
      "            ax.text(0.88, 0.02, '%.2f' % err, transform=ax.transAxes)\n",
      "\n",
      "    fig.subplots_adjust(left=.02, right=.98)"
     ],
     "language": "python",
     "metadata": {},
     "outputs": [],
     "prompt_number": 31
    },
    {
     "cell_type": "code",
     "collapsed": false,
     "input": [
      "!wget http://files.figshare.com/1471458/5isozymedw1bin.txt"
     ],
     "language": "python",
     "metadata": {},
     "outputs": [
      {
       "output_type": "stream",
       "stream": "stdout",
       "text": [
        "--2014-05-11 01:33:47--  http://files.figshare.com/1471458/5isozymedw1bin.txt\r\n",
        "Resolving files.figshare.com (files.figshare.com)... 176.32.109.108\r\n",
        "Connecting to files.figshare.com (files.figshare.com)|176.32.109.108|:80... "
       ]
      },
      {
       "output_type": "stream",
       "stream": "stdout",
       "text": [
        "connected.\r\n",
        "HTTP request sent, awaiting response... "
       ]
      },
      {
       "output_type": "stream",
       "stream": "stdout",
       "text": [
        "200 OK\r\n",
        "Length: 31191417 (30M) [text/plain]\r\n",
        "Saving to: '5isozymedw1bin.txt'\r\n",
        "\r\n",
        "\r",
        " 0% [                                       ] 0           --.-K/s              "
       ]
      },
      {
       "output_type": "stream",
       "stream": "stdout",
       "text": [
        "\r",
        " 0% [                                       ] 292,359     1.39MB/s             "
       ]
      },
      {
       "output_type": "stream",
       "stream": "stdout",
       "text": [
        "\r",
        " 2% [                                       ] 774,159     1.84MB/s             "
       ]
      },
      {
       "output_type": "stream",
       "stream": "stdout",
       "text": [
        "\r",
        " 5% [>                                      ] 1,565,479   2.49MB/s             "
       ]
      },
      {
       "output_type": "stream",
       "stream": "stdout",
       "text": [
        "\r",
        " 7% [==>                                    ] 2,427,771   2.81MB/s             "
       ]
      },
      {
       "output_type": "stream",
       "stream": "stdout",
       "text": [
        "\r",
        "11% [===>                                   ] 3,440,119   3.20MB/s             "
       ]
      },
      {
       "output_type": "stream",
       "stream": "stdout",
       "text": [
        "\r",
        "14% [====>                                  ] 4,587,679   3.57MB/s             "
       ]
      },
      {
       "output_type": "stream",
       "stream": "stdout",
       "text": [
        "\r",
        "18% [======>                                ] 5,856,419   3.92MB/s             "
       ]
      },
      {
       "output_type": "stream",
       "stream": "stdout",
       "text": [
        "\r",
        "23% [========>                              ] 7,229,711   4.24MB/s             "
       ]
      },
      {
       "output_type": "stream",
       "stream": "stdout",
       "text": [
        "\r",
        "27% [=========>                             ] 8,643,559   4.50MB/s             "
       ]
      },
      {
       "output_type": "stream",
       "stream": "stdout",
       "text": [
        "\r",
        "33% [===========>                           ] 10,341,539  4.86MB/s             "
       ]
      },
      {
       "output_type": "stream",
       "stream": "stdout",
       "text": [
        "\r",
        "39% [==============>                        ] 12,203,039  5.22MB/s             "
       ]
      },
      {
       "output_type": "stream",
       "stream": "stdout",
       "text": [
        "\r",
        "45% [================>                      ] 14,239,171  5.58MB/s             "
       ]
      },
      {
       "output_type": "stream",
       "stream": "stdout",
       "text": [
        "\r",
        "52% [===================>                   ] 16,413,679  5.95MB/s             "
       ]
      },
      {
       "output_type": "stream",
       "stream": "stdout",
       "text": [
        "\r",
        "60% [======================>                ] 18,824,139  6.34MB/s             "
       ]
      },
      {
       "output_type": "stream",
       "stream": "stdout",
       "text": [
        "\r",
        "69% [==========================>            ] 21,612,739  6.80MB/s  eta 1s     "
       ]
      },
      {
       "output_type": "stream",
       "stream": "stdout",
       "text": [
        "\r",
        "78% [=============================>         ] 24,550,259  7.24MB/s  eta 1s     "
       ]
      },
      {
       "output_type": "stream",
       "stream": "stdout",
       "text": [
        "\r",
        "89% [=================================>     ] 27,808,411  8.45MB/s  eta 1s     "
       ]
      },
      {
       "output_type": "stream",
       "stream": "stdout",
       "text": [
        "\r",
        "100%[======================================>] 31,191,417  9.18MB/s   in 3.6s   \r\n",
        "\r\n",
        "2014-05-11 01:33:51 (8.20 MB/s) - '5isozymedw1bin.txt' saved [31191417/31191417]\r\n",
        "\r\n"
       ]
      }
     ],
     "prompt_number": 95
    },
    {
     "cell_type": "code",
     "collapsed": false,
     "input": [
      "mv 5isozymedw1bin.txt data/5isozymedw1bin.txt"
     ],
     "language": "python",
     "metadata": {},
     "outputs": [],
     "prompt_number": 97
    },
    {
     "cell_type": "code",
     "collapsed": false,
     "input": [
      "datafr = pd.read_csv('data/5isozymedw1bin.txt')\n",
      "datafr.head()"
     ],
     "language": "python",
     "metadata": {},
     "outputs": [
      {
       "html": [
        "<div style=\"max-height:1000px;max-width:1500px;overflow:auto;\">\n",
        "<table border=\"1\" class=\"dataframe\">\n",
        "  <thead>\n",
        "    <tr style=\"text-align: right;\">\n",
        "      <th></th>\n",
        "      <th>PUBCHEM_SID</th>\n",
        "      <th>WashedMols</th>\n",
        "      <th>PUBCHEM_CID</th>\n",
        "      <th>Inhibition Observed</th>\n",
        "      <th>Approved Drug</th>\n",
        "      <th>p450-cyp2c19-Activity Outcome</th>\n",
        "      <th>p450-cyp2c19-Activity-Over-40</th>\n",
        "      <th>p450-cyp2c19-Activity Score</th>\n",
        "      <th>p450-cyp2d6-Activity Outcome</th>\n",
        "      <th>p450-cyp2d6-Activity Score</th>\n",
        "      <th>p450-cyp3a4-Activity Outcome</th>\n",
        "      <th>p450-cyp3a4-Activity Score</th>\n",
        "      <th>p450-cyp1a2-Activity Outcome</th>\n",
        "      <th>p450-cyp1a2-Activity Score</th>\n",
        "      <th>p450-cyp2c9-Activity Outcome</th>\n",
        "      <th>p450-cyp2c9-Activity Score</th>\n",
        "      <th>apol</th>\n",
        "      <th>a_acc</th>\n",
        "      <th>a_acid</th>\n",
        "      <th>a_aro</th>\n",
        "      <th></th>\n",
        "    </tr>\n",
        "  </thead>\n",
        "  <tbody>\n",
        "    <tr>\n",
        "      <th>0</th>\n",
        "      <td> 842238</td>\n",
        "      <td>             Clc1cc(NC(=O)CCC)ccc1N1CC[NH+](CC1)CC</td>\n",
        "      <td> 6602638</td>\n",
        "      <td> True</td>\n",
        "      <td> Biodiverse</td>\n",
        "      <td> 1</td>\n",
        "      <td> 0</td>\n",
        "      <td>  0</td>\n",
        "      <td> 3</td>\n",
        "      <td> 20</td>\n",
        "      <td> 1</td>\n",
        "      <td>  0</td>\n",
        "      <td> 1</td>\n",
        "      <td>  0</td>\n",
        "      <td> 3</td>\n",
        "      <td> 20</td>\n",
        "      <td> 51.111824</td>\n",
        "      <td> 1</td>\n",
        "      <td> 0</td>\n",
        "      <td>  6</td>\n",
        "      <td>...</td>\n",
        "    </tr>\n",
        "    <tr>\n",
        "      <th>1</th>\n",
        "      <td> 842250</td>\n",
        "      <td> Fc1ccc(cc1)Cn1nnnc1C[NH+](CC1=Cc2c(NC1=O)cc1OC...</td>\n",
        "      <td>  644510</td>\n",
        "      <td> True</td>\n",
        "      <td> Biodiverse</td>\n",
        "      <td> 3</td>\n",
        "      <td> 0</td>\n",
        "      <td> 20</td>\n",
        "      <td> 3</td>\n",
        "      <td> 21</td>\n",
        "      <td> 2</td>\n",
        "      <td> 85</td>\n",
        "      <td> 2</td>\n",
        "      <td> 42</td>\n",
        "      <td> 3</td>\n",
        "      <td> 20</td>\n",
        "      <td> 66.848030</td>\n",
        "      <td> 7</td>\n",
        "      <td> 0</td>\n",
        "      <td> 17</td>\n",
        "      <td>...</td>\n",
        "    </tr>\n",
        "    <tr>\n",
        "      <th>2</th>\n",
        "      <td> 842319</td>\n",
        "      <td> S1\\C(=C/2\\c3c(N(CC)C\\2=O)cccc3)\\C(=O)N(CCCOC)C1=S</td>\n",
        "      <td> 1960010</td>\n",
        "      <td> True</td>\n",
        "      <td> Biodiverse</td>\n",
        "      <td> 3</td>\n",
        "      <td> 0</td>\n",
        "      <td> 20</td>\n",
        "      <td> 1</td>\n",
        "      <td>  0</td>\n",
        "      <td> 3</td>\n",
        "      <td> 22</td>\n",
        "      <td> 2</td>\n",
        "      <td> 85</td>\n",
        "      <td> 2</td>\n",
        "      <td> 87</td>\n",
        "      <td> 52.328274</td>\n",
        "      <td> 4</td>\n",
        "      <td> 0</td>\n",
        "      <td>  6</td>\n",
        "      <td>...</td>\n",
        "    </tr>\n",
        "    <tr>\n",
        "      <th>3</th>\n",
        "      <td> 842408</td>\n",
        "      <td>        S1c2cc(N(S(=O)(=O)c3sccc3)C(=O)C)ccc2OC1=O</td>\n",
        "      <td>  644675</td>\n",
        "      <td> True</td>\n",
        "      <td> Biodiverse</td>\n",
        "      <td> 2</td>\n",
        "      <td> 1</td>\n",
        "      <td> 90</td>\n",
        "      <td> 1</td>\n",
        "      <td>  0</td>\n",
        "      <td> 2</td>\n",
        "      <td> 41</td>\n",
        "      <td> 2</td>\n",
        "      <td> 41</td>\n",
        "      <td> 3</td>\n",
        "      <td> 20</td>\n",
        "      <td> 42.691135</td>\n",
        "      <td> 4</td>\n",
        "      <td> 0</td>\n",
        "      <td> 11</td>\n",
        "      <td>...</td>\n",
        "    </tr>\n",
        "    <tr>\n",
        "      <th>4</th>\n",
        "      <td> 842584</td>\n",
        "      <td>                  Clc1ccccc1-c1[nH]nc(n1)-c1ccccc1</td>\n",
        "      <td>  644851</td>\n",
        "      <td> True</td>\n",
        "      <td> Biodiverse</td>\n",
        "      <td> 2</td>\n",
        "      <td> 1</td>\n",
        "      <td> 41</td>\n",
        "      <td> 3</td>\n",
        "      <td> 20</td>\n",
        "      <td> 3</td>\n",
        "      <td> 20</td>\n",
        "      <td> 2</td>\n",
        "      <td> 86</td>\n",
        "      <td> 2</td>\n",
        "      <td> 40</td>\n",
        "      <td> 36.787930</td>\n",
        "      <td> 3</td>\n",
        "      <td> 0</td>\n",
        "      <td> 17</td>\n",
        "      <td>...</td>\n",
        "    </tr>\n",
        "  </tbody>\n",
        "</table>\n",
        "<p>5 rows \u00d7 211 columns</p>\n",
        "</div>"
       ],
       "metadata": {},
       "output_type": "pyout",
       "prompt_number": 234,
       "text": [
        "   PUBCHEM_SID                                         WashedMols  \\\n",
        "0       842238              Clc1cc(NC(=O)CCC)ccc1N1CC[NH+](CC1)CC   \n",
        "1       842250  Fc1ccc(cc1)Cn1nnnc1C[NH+](CC1=Cc2c(NC1=O)cc1OC...   \n",
        "2       842319  S1\\C(=C/2\\c3c(N(CC)C\\2=O)cccc3)\\C(=O)N(CCCOC)C1=S   \n",
        "3       842408         S1c2cc(N(S(=O)(=O)c3sccc3)C(=O)C)ccc2OC1=O   \n",
        "4       842584                   Clc1ccccc1-c1[nH]nc(n1)-c1ccccc1   \n",
        "\n",
        "   PUBCHEM_CID Inhibition Observed Approved Drug  \\\n",
        "0      6602638                True    Biodiverse   \n",
        "1       644510                True    Biodiverse   \n",
        "2      1960010                True    Biodiverse   \n",
        "3       644675                True    Biodiverse   \n",
        "4       644851                True    Biodiverse   \n",
        "\n",
        "   p450-cyp2c19-Activity Outcome  p450-cyp2c19-Activity-Over-40  \\\n",
        "0                              1                              0   \n",
        "1                              3                              0   \n",
        "2                              3                              0   \n",
        "3                              2                              1   \n",
        "4                              2                              1   \n",
        "\n",
        "   p450-cyp2c19-Activity Score  p450-cyp2d6-Activity Outcome  \\\n",
        "0                            0                             3   \n",
        "1                           20                             3   \n",
        "2                           20                             1   \n",
        "3                           90                             1   \n",
        "4                           41                             3   \n",
        "\n",
        "   p450-cyp2d6-Activity Score  p450-cyp3a4-Activity Outcome  \\\n",
        "0                          20                             1   \n",
        "1                          21                             2   \n",
        "2                           0                             3   \n",
        "3                           0                             2   \n",
        "4                          20                             3   \n",
        "\n",
        "   p450-cyp3a4-Activity Score  p450-cyp1a2-Activity Outcome  \\\n",
        "0                           0                             1   \n",
        "1                          85                             2   \n",
        "2                          22                             2   \n",
        "3                          41                             2   \n",
        "4                          20                             2   \n",
        "\n",
        "   p450-cyp1a2-Activity Score  p450-cyp2c9-Activity Outcome  \\\n",
        "0                           0                             3   \n",
        "1                          42                             3   \n",
        "2                          85                             2   \n",
        "3                          41                             3   \n",
        "4                          86                             2   \n",
        "\n",
        "   p450-cyp2c9-Activity Score       apol  a_acc  a_acid  a_aro      \n",
        "0                          20  51.111824      1       0      6 ...  \n",
        "1                          20  66.848030      7       0     17 ...  \n",
        "2                          87  52.328274      4       0      6 ...  \n",
        "3                          20  42.691135      4       0     11 ...  \n",
        "4                          40  36.787930      3       0     17 ...  \n",
        "\n",
        "[5 rows x 211 columns]"
       ]
      }
     ],
     "prompt_number": 234
    },
    {
     "cell_type": "code",
     "collapsed": false,
     "input": [
      "activityColumn = datafr.ix[:, ['p450-cyp2c19-Activity-Over-40']]\n",
      "activityColumn.head(4)"
     ],
     "language": "python",
     "metadata": {},
     "outputs": [
      {
       "html": [
        "<div style=\"max-height:1000px;max-width:1500px;overflow:auto;\">\n",
        "<table border=\"1\" class=\"dataframe\">\n",
        "  <thead>\n",
        "    <tr style=\"text-align: right;\">\n",
        "      <th></th>\n",
        "      <th>p450-cyp2c19-Activity-Over-40</th>\n",
        "    </tr>\n",
        "  </thead>\n",
        "  <tbody>\n",
        "    <tr>\n",
        "      <th>0</th>\n",
        "      <td> 0</td>\n",
        "    </tr>\n",
        "    <tr>\n",
        "      <th>1</th>\n",
        "      <td> 0</td>\n",
        "    </tr>\n",
        "    <tr>\n",
        "      <th>2</th>\n",
        "      <td> 0</td>\n",
        "    </tr>\n",
        "    <tr>\n",
        "      <th>3</th>\n",
        "      <td> 1</td>\n",
        "    </tr>\n",
        "  </tbody>\n",
        "</table>\n",
        "<p>4 rows \u00d7 1 columns</p>\n",
        "</div>"
       ],
       "metadata": {},
       "output_type": "pyout",
       "prompt_number": 235,
       "text": [
        "   p450-cyp2c19-Activity-Over-40\n",
        "0                              0\n",
        "1                              0\n",
        "2                              0\n",
        "3                              1\n",
        "\n",
        "[4 rows x 1 columns]"
       ]
      }
     ],
     "prompt_number": 235
    },
    {
     "cell_type": "code",
     "collapsed": false,
     "input": [
      "binned = datafr[list([6])]\n",
      "binned.head()"
     ],
     "language": "python",
     "metadata": {},
     "outputs": [
      {
       "html": [
        "<div style=\"max-height:1000px;max-width:1500px;overflow:auto;\">\n",
        "<table border=\"1\" class=\"dataframe\">\n",
        "  <thead>\n",
        "    <tr style=\"text-align: right;\">\n",
        "      <th></th>\n",
        "      <th>p450-cyp2c19-Activity-Over-40</th>\n",
        "    </tr>\n",
        "  </thead>\n",
        "  <tbody>\n",
        "    <tr>\n",
        "      <th>0</th>\n",
        "      <td> 0</td>\n",
        "    </tr>\n",
        "    <tr>\n",
        "      <th>1</th>\n",
        "      <td> 0</td>\n",
        "    </tr>\n",
        "    <tr>\n",
        "      <th>2</th>\n",
        "      <td> 0</td>\n",
        "    </tr>\n",
        "    <tr>\n",
        "      <th>3</th>\n",
        "      <td> 1</td>\n",
        "    </tr>\n",
        "    <tr>\n",
        "      <th>4</th>\n",
        "      <td> 1</td>\n",
        "    </tr>\n",
        "  </tbody>\n",
        "</table>\n",
        "<p>5 rows \u00d7 1 columns</p>\n",
        "</div>"
       ],
       "metadata": {},
       "output_type": "pyout",
       "prompt_number": 256,
       "text": [
        "   p450-cyp2c19-Activity-Over-40\n",
        "0                              0\n",
        "1                              0\n",
        "2                              0\n",
        "3                              1\n",
        "4                              1\n",
        "\n",
        "[5 rows x 1 columns]"
       ]
      }
     ],
     "prompt_number": 256
    },
    {
     "cell_type": "code",
     "collapsed": false,
     "input": [
      "datafr.rename(columns={'p450-cyp2c19-Activity-Over-40': 'binnedActivity'}, inplace=True)"
     ],
     "language": "python",
     "metadata": {},
     "outputs": [],
     "prompt_number": 263
    },
    {
     "cell_type": "code",
     "collapsed": false,
     "input": [
      "# Downsample negative cases -- there are many more negatives than positives\n",
      "\n",
      "indices = np.where(datafr.binnedActivity == 0)[0]\n",
      "rng = np.random.RandomState(19)\n",
      "rng.shuffle(indices)\n",
      "n_pos = (datafr.binnedActivity == 1).sum()\n",
      "balanced = datafr.drop(datafr.index[indices[n_pos:]])\n",
      "\n",
      "balanced.head()"
     ],
     "language": "python",
     "metadata": {},
     "outputs": [
      {
       "html": [
        "<div style=\"max-height:1000px;max-width:1500px;overflow:auto;\">\n",
        "<table border=\"1\" class=\"dataframe\">\n",
        "  <thead>\n",
        "    <tr style=\"text-align: right;\">\n",
        "      <th></th>\n",
        "      <th>PUBCHEM_SID</th>\n",
        "      <th>WashedMols</th>\n",
        "      <th>PUBCHEM_CID</th>\n",
        "      <th>Inhibition Observed</th>\n",
        "      <th>Approved Drug</th>\n",
        "      <th>p450-cyp2c19-Activity Outcome</th>\n",
        "      <th>binnedActivity</th>\n",
        "      <th>p450-cyp2c19-Activity Score</th>\n",
        "      <th>p450-cyp2d6-Activity Outcome</th>\n",
        "      <th>p450-cyp2d6-Activity Score</th>\n",
        "      <th>p450-cyp3a4-Activity Outcome</th>\n",
        "      <th>p450-cyp3a4-Activity Score</th>\n",
        "      <th>p450-cyp1a2-Activity Outcome</th>\n",
        "      <th>p450-cyp1a2-Activity Score</th>\n",
        "      <th>p450-cyp2c9-Activity Outcome</th>\n",
        "      <th>p450-cyp2c9-Activity Score</th>\n",
        "      <th>apol</th>\n",
        "      <th>a_acc</th>\n",
        "      <th>a_acid</th>\n",
        "      <th>a_aro</th>\n",
        "      <th></th>\n",
        "    </tr>\n",
        "  </thead>\n",
        "  <tbody>\n",
        "    <tr>\n",
        "      <th>0</th>\n",
        "      <td> 842238</td>\n",
        "      <td>             Clc1cc(NC(=O)CCC)ccc1N1CC[NH+](CC1)CC</td>\n",
        "      <td> 6602638</td>\n",
        "      <td> True</td>\n",
        "      <td> Biodiverse</td>\n",
        "      <td> 1</td>\n",
        "      <td> 0</td>\n",
        "      <td>  0</td>\n",
        "      <td> 3</td>\n",
        "      <td> 20</td>\n",
        "      <td> 1</td>\n",
        "      <td>  0</td>\n",
        "      <td> 1</td>\n",
        "      <td>  0</td>\n",
        "      <td> 3</td>\n",
        "      <td> 20</td>\n",
        "      <td> 51.111824</td>\n",
        "      <td> 1</td>\n",
        "      <td> 0</td>\n",
        "      <td>  6</td>\n",
        "      <td>...</td>\n",
        "    </tr>\n",
        "    <tr>\n",
        "      <th>2</th>\n",
        "      <td> 842319</td>\n",
        "      <td> S1\\C(=C/2\\c3c(N(CC)C\\2=O)cccc3)\\C(=O)N(CCCOC)C1=S</td>\n",
        "      <td> 1960010</td>\n",
        "      <td> True</td>\n",
        "      <td> Biodiverse</td>\n",
        "      <td> 3</td>\n",
        "      <td> 0</td>\n",
        "      <td> 20</td>\n",
        "      <td> 1</td>\n",
        "      <td>  0</td>\n",
        "      <td> 3</td>\n",
        "      <td> 22</td>\n",
        "      <td> 2</td>\n",
        "      <td> 85</td>\n",
        "      <td> 2</td>\n",
        "      <td> 87</td>\n",
        "      <td> 52.328274</td>\n",
        "      <td> 4</td>\n",
        "      <td> 0</td>\n",
        "      <td>  6</td>\n",
        "      <td>...</td>\n",
        "    </tr>\n",
        "    <tr>\n",
        "      <th>3</th>\n",
        "      <td> 842408</td>\n",
        "      <td>        S1c2cc(N(S(=O)(=O)c3sccc3)C(=O)C)ccc2OC1=O</td>\n",
        "      <td>  644675</td>\n",
        "      <td> True</td>\n",
        "      <td> Biodiverse</td>\n",
        "      <td> 2</td>\n",
        "      <td> 1</td>\n",
        "      <td> 90</td>\n",
        "      <td> 1</td>\n",
        "      <td>  0</td>\n",
        "      <td> 2</td>\n",
        "      <td> 41</td>\n",
        "      <td> 2</td>\n",
        "      <td> 41</td>\n",
        "      <td> 3</td>\n",
        "      <td> 20</td>\n",
        "      <td> 42.691135</td>\n",
        "      <td> 4</td>\n",
        "      <td> 0</td>\n",
        "      <td> 11</td>\n",
        "      <td>...</td>\n",
        "    </tr>\n",
        "    <tr>\n",
        "      <th>4</th>\n",
        "      <td> 842584</td>\n",
        "      <td>                  Clc1ccccc1-c1[nH]nc(n1)-c1ccccc1</td>\n",
        "      <td>  644851</td>\n",
        "      <td> True</td>\n",
        "      <td> Biodiverse</td>\n",
        "      <td> 2</td>\n",
        "      <td> 1</td>\n",
        "      <td> 41</td>\n",
        "      <td> 3</td>\n",
        "      <td> 20</td>\n",
        "      <td> 3</td>\n",
        "      <td> 20</td>\n",
        "      <td> 2</td>\n",
        "      <td> 86</td>\n",
        "      <td> 2</td>\n",
        "      <td> 40</td>\n",
        "      <td> 36.787930</td>\n",
        "      <td> 3</td>\n",
        "      <td> 0</td>\n",
        "      <td> 17</td>\n",
        "      <td>...</td>\n",
        "    </tr>\n",
        "    <tr>\n",
        "      <th>5</th>\n",
        "      <td> 842618</td>\n",
        "      <td> O(C)c1ccccc1C([NH+]1CC[NH+](CC1)Cc1ccncc1)c1nn...</td>\n",
        "      <td>  644890</td>\n",
        "      <td> True</td>\n",
        "      <td> Biodiverse</td>\n",
        "      <td> 2</td>\n",
        "      <td> 1</td>\n",
        "      <td> 85</td>\n",
        "      <td> 2</td>\n",
        "      <td> 44</td>\n",
        "      <td> 2</td>\n",
        "      <td> 84</td>\n",
        "      <td> 3</td>\n",
        "      <td> 20</td>\n",
        "      <td> 2</td>\n",
        "      <td> 88</td>\n",
        "      <td> 70.986168</td>\n",
        "      <td> 5</td>\n",
        "      <td> 0</td>\n",
        "      <td> 17</td>\n",
        "      <td>...</td>\n",
        "    </tr>\n",
        "  </tbody>\n",
        "</table>\n",
        "<p>5 rows \u00d7 211 columns</p>\n",
        "</div>"
       ],
       "metadata": {},
       "output_type": "pyout",
       "prompt_number": 264,
       "text": [
        "   PUBCHEM_SID                                         WashedMols  \\\n",
        "0       842238              Clc1cc(NC(=O)CCC)ccc1N1CC[NH+](CC1)CC   \n",
        "2       842319  S1\\C(=C/2\\c3c(N(CC)C\\2=O)cccc3)\\C(=O)N(CCCOC)C1=S   \n",
        "3       842408         S1c2cc(N(S(=O)(=O)c3sccc3)C(=O)C)ccc2OC1=O   \n",
        "4       842584                   Clc1ccccc1-c1[nH]nc(n1)-c1ccccc1   \n",
        "5       842618  O(C)c1ccccc1C([NH+]1CC[NH+](CC1)Cc1ccncc1)c1nn...   \n",
        "\n",
        "   PUBCHEM_CID Inhibition Observed Approved Drug  \\\n",
        "0      6602638                True    Biodiverse   \n",
        "2      1960010                True    Biodiverse   \n",
        "3       644675                True    Biodiverse   \n",
        "4       644851                True    Biodiverse   \n",
        "5       644890                True    Biodiverse   \n",
        "\n",
        "   p450-cyp2c19-Activity Outcome  binnedActivity  p450-cyp2c19-Activity Score  \\\n",
        "0                              1               0                            0   \n",
        "2                              3               0                           20   \n",
        "3                              2               1                           90   \n",
        "4                              2               1                           41   \n",
        "5                              2               1                           85   \n",
        "\n",
        "   p450-cyp2d6-Activity Outcome  p450-cyp2d6-Activity Score  \\\n",
        "0                             3                          20   \n",
        "2                             1                           0   \n",
        "3                             1                           0   \n",
        "4                             3                          20   \n",
        "5                             2                          44   \n",
        "\n",
        "   p450-cyp3a4-Activity Outcome  p450-cyp3a4-Activity Score  \\\n",
        "0                             1                           0   \n",
        "2                             3                          22   \n",
        "3                             2                          41   \n",
        "4                             3                          20   \n",
        "5                             2                          84   \n",
        "\n",
        "   p450-cyp1a2-Activity Outcome  p450-cyp1a2-Activity Score  \\\n",
        "0                             1                           0   \n",
        "2                             2                          85   \n",
        "3                             2                          41   \n",
        "4                             2                          86   \n",
        "5                             3                          20   \n",
        "\n",
        "   p450-cyp2c9-Activity Outcome  p450-cyp2c9-Activity Score       apol  a_acc  \\\n",
        "0                             3                          20  51.111824      1   \n",
        "2                             2                          87  52.328274      4   \n",
        "3                             3                          20  42.691135      4   \n",
        "4                             2                          40  36.787930      3   \n",
        "5                             2                          88  70.986168      5   \n",
        "\n",
        "   a_acid  a_aro      \n",
        "0       0      6 ...  \n",
        "2       0      6 ...  \n",
        "3       0     11 ...  \n",
        "4       0     17 ...  \n",
        "5       0     17 ...  \n",
        "\n",
        "[5 rows x 211 columns]"
       ]
      }
     ],
     "prompt_number": 264
    },
    {
     "cell_type": "markdown",
     "metadata": {},
     "source": [
      "## The code below was run on the imbalanced dataset - with far more inactive than actives"
     ]
    },
    {
     "cell_type": "code",
     "collapsed": false,
     "input": [
      "datafr.columns[16:25], datafr.columns[200:202], datafr.columns[6]"
     ],
     "language": "python",
     "metadata": {},
     "outputs": [
      {
       "metadata": {},
       "output_type": "pyout",
       "prompt_number": 265,
       "text": [
        "(Index(['apol', 'a_acc', 'a_acid', 'a_aro', 'a_base', 'a_count', 'a_don', 'a_heavy', 'a_hyd'], dtype='object'),\n",
        " Index(['weinerPol', 'zagreb'], dtype='object'),\n",
        " 'binnedActivity')"
       ]
      }
     ],
     "prompt_number": 265
    },
    {
     "cell_type": "code",
     "collapsed": false,
     "input": [
      "datafr1 = datafr.ix[:,16:202]"
     ],
     "language": "python",
     "metadata": {},
     "outputs": [],
     "prompt_number": 266
    },
    {
     "cell_type": "code",
     "collapsed": false,
     "input": [
      "o = datafr[[6]]\n",
      "np.ravel(o)"
     ],
     "language": "python",
     "metadata": {},
     "outputs": [
      {
       "metadata": {},
       "output_type": "pyout",
       "prompt_number": 267,
       "text": [
        "array([0, 0, 0, ..., 1, 0, 0])"
       ]
      }
     ],
     "prompt_number": 267
    },
    {
     "cell_type": "code",
     "collapsed": false,
     "input": [
      "X, y = datafr.ix[:,16:202], np.ravel(o)\n",
      "\n",
      "# create 80%-20% train-test split\n",
      "X_train, X_test, y_train, y_test = train_test_split(X, y, test_size=0.2, random_state=1)\n",
      "\n",
      "# standardize data\n",
      "scaler = StandardScaler().fit(X_train)\n",
      "\n",
      "est = KNeighborsClassifier(9)\n",
      "est.fit(X_train, y_train)"
     ],
     "language": "python",
     "metadata": {},
     "outputs": [
      {
       "metadata": {},
       "output_type": "pyout",
       "prompt_number": 268,
       "text": [
        "KNeighborsClassifier(algorithm='auto', leaf_size=30, metric='minkowski',\n",
        "           n_neighbors=9, p=2, weights='uniform')"
       ]
      }
     ],
     "prompt_number": 268
    },
    {
     "cell_type": "code",
     "collapsed": false,
     "input": [
      "y_predict = est.predict(X_train)"
     ],
     "language": "python",
     "metadata": {},
     "outputs": [],
     "prompt_number": 269
    },
    {
     "cell_type": "code",
     "collapsed": false,
     "input": [
      "y_predict.shape"
     ],
     "language": "python",
     "metadata": {},
     "outputs": [
      {
       "metadata": {},
       "output_type": "pyout",
       "prompt_number": 270,
       "text": [
        "(13714,)"
       ]
      }
     ],
     "prompt_number": 270
    },
    {
     "cell_type": "code",
     "collapsed": false,
     "input": [
      "errors = y_train - y_predict"
     ],
     "language": "python",
     "metadata": {},
     "outputs": [],
     "prompt_number": 214
    },
    {
     "cell_type": "code",
     "collapsed": false,
     "input": [
      "t_pos = (y_predict == 1).sum()\n",
      "t_neg = (y_predict == 0).sum()\n",
      "f_neg = (errors == 1).sum()\n",
      "f_pos = (errors == -1).sum()\n",
      "t_pos, t_neg, f_pos, f_neg"
     ],
     "language": "python",
     "metadata": {},
     "outputs": [
      {
       "metadata": {},
       "output_type": "pyout",
       "prompt_number": 215,
       "text": [
        "(4157, 9557, 1207, 1732)"
       ]
      }
     ],
     "prompt_number": 215
    },
    {
     "cell_type": "code",
     "collapsed": false,
     "input": [
      "f_pos/t_pos, f_neg/t_neg"
     ],
     "language": "python",
     "metadata": {},
     "outputs": [
      {
       "metadata": {},
       "output_type": "pyout",
       "prompt_number": 216,
       "text": [
        "(0.29035362039932644, 0.18122841895992467)"
       ]
      }
     ],
     "prompt_number": 216
    },
    {
     "cell_type": "markdown",
     "metadata": {},
     "source": [
      "## This is copied an pasted from the above scratchwork for use with the balanced dataset"
     ]
    },
    {
     "cell_type": "code",
     "collapsed": false,
     "input": [
      "balanced.columns[16:25], balanced.columns[200:202], balanced.columns[6]"
     ],
     "language": "python",
     "metadata": {},
     "outputs": [
      {
       "metadata": {},
       "output_type": "pyout",
       "prompt_number": 271,
       "text": [
        "(Index(['apol', 'a_acc', 'a_acid', 'a_aro', 'a_base', 'a_count', 'a_don', 'a_heavy', 'a_hyd'], dtype='object'),\n",
        " Index(['weinerPol', 'zagreb'], dtype='object'),\n",
        " 'binnedActivity')"
       ]
      }
     ],
     "prompt_number": 271
    },
    {
     "cell_type": "code",
     "collapsed": false,
     "input": [
      "datafr1 = balanced.ix[:,16:202]"
     ],
     "language": "python",
     "metadata": {},
     "outputs": [],
     "prompt_number": 272
    },
    {
     "cell_type": "code",
     "collapsed": false,
     "input": [
      "o = balanced[[6]]\n",
      "np.ravel(o)"
     ],
     "language": "python",
     "metadata": {},
     "outputs": [
      {
       "metadata": {},
       "output_type": "pyout",
       "prompt_number": 273,
       "text": [
        "array([0, 0, 1, ..., 0, 1, 0])"
       ]
      }
     ],
     "prompt_number": 273
    },
    {
     "cell_type": "code",
     "collapsed": false,
     "input": [
      "X, y = balanced.ix[:,16:202], np.ravel(o)\n",
      "\n",
      "# create 80%-20% train-test split\n",
      "X_train, X_test, y_train, y_test = train_test_split(X, y, test_size=0.2, random_state=1)\n",
      "\n",
      "# standardize data\n",
      "scaler = StandardScaler().fit(X_train)\n",
      "\n",
      "est = KNeighborsClassifier(5)\n",
      "est.fit(X_train, y_train)"
     ],
     "language": "python",
     "metadata": {},
     "outputs": [
      {
       "metadata": {},
       "output_type": "pyout",
       "prompt_number": 275,
       "text": [
        "KNeighborsClassifier(algorithm='auto', leaf_size=30, metric='minkowski',\n",
        "           n_neighbors=5, p=2, weights='uniform')"
       ]
      }
     ],
     "prompt_number": 275
    },
    {
     "cell_type": "code",
     "collapsed": false,
     "input": [
      "y_predict = est.predict(X_train)"
     ],
     "language": "python",
     "metadata": {},
     "outputs": [],
     "prompt_number": 276
    },
    {
     "cell_type": "code",
     "collapsed": false,
     "input": [
      "y_predict.shape"
     ],
     "language": "python",
     "metadata": {},
     "outputs": [
      {
       "metadata": {},
       "output_type": "pyout",
       "prompt_number": 277,
       "text": [
        "(9462,)"
       ]
      }
     ],
     "prompt_number": 277
    },
    {
     "cell_type": "code",
     "collapsed": false,
     "input": [
      "errors = y_train - y_predict"
     ],
     "language": "python",
     "metadata": {},
     "outputs": [],
     "prompt_number": 278
    },
    {
     "cell_type": "code",
     "collapsed": false,
     "input": [
      "t_pos = (y_predict == 1).sum()\n",
      "t_neg = (y_predict == 0).sum()\n",
      "f_neg = (errors == 1).sum()\n",
      "f_pos = (errors == -1).sum()\n",
      "t_pos, t_neg, f_pos, f_neg"
     ],
     "language": "python",
     "metadata": {},
     "outputs": [
      {
       "metadata": {},
       "output_type": "pyout",
       "prompt_number": 279,
       "text": [
        "(5097, 4365, 1108, 781)"
       ]
      }
     ],
     "prompt_number": 279
    },
    {
     "cell_type": "code",
     "collapsed": false,
     "input": [
      "f_pos/t_pos, f_neg/t_neg"
     ],
     "language": "python",
     "metadata": {},
     "outputs": [
      {
       "metadata": {},
       "output_type": "pyout",
       "prompt_number": 280,
       "text": [
        "(0.21738277418089072, 0.17892325315005728)"
       ]
      }
     ],
     "prompt_number": 280
    },
    {
     "cell_type": "code",
     "collapsed": false,
     "input": [],
     "language": "python",
     "metadata": {},
     "outputs": []
    }
   ],
   "metadata": {}
  }
 ]
}
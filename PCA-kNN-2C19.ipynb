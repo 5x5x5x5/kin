{
 "metadata": {
  "name": "",
  "signature": "sha256:0b54593a0e763312164039857287b2225ff73176a835413bf7cc5e3fd3149b8b"
 },
 "nbformat": 3,
 "nbformat_minor": 0,
 "worksheets": [
  {
   "cells": [
    {
     "cell_type": "code",
     "collapsed": false,
     "input": [
      "import numpy as np"
     ],
     "language": "python",
     "metadata": {},
     "outputs": [],
     "prompt_number": 1
    },
    {
     "cell_type": "code",
     "collapsed": false,
     "input": [
      "import sys\n",
      "sys.version\n",
      "np.version"
     ],
     "language": "python",
     "metadata": {},
     "outputs": [
      {
       "metadata": {},
       "output_type": "pyout",
       "prompt_number": 2,
       "text": [
        "<module 'numpy.version' from '/home/ubuntu/miniconda3/lib/python3.3/site-packages/numpy/version.py'>"
       ]
      }
     ],
     "prompt_number": 2
    },
    {
     "cell_type": "code",
     "collapsed": false,
     "input": [
      "import pandas as pd"
     ],
     "language": "python",
     "metadata": {},
     "outputs": [],
     "prompt_number": 3
    },
    {
     "cell_type": "code",
     "collapsed": false,
     "input": [],
     "language": "python",
     "metadata": {},
     "outputs": []
    },
    {
     "cell_type": "markdown",
     "metadata": {},
     "source": [
      "## Confusion matrix!\n",
      "Correct classification is shown on the diagnol. The off diagonal show the classification errors. A condensed summary of the model performance is given by the *missclassification rate* determined simply by dividing the number of errors by the total number of cases."
     ]
    },
    {
     "cell_type": "code",
     "collapsed": false,
     "input": [
      "from sklearn.metrics import confusion_matrix as sk_confusion_matrix\n",
      "\n",
      "# the larger operator will return a boolean array which we will cast as integers for fancy indexing\n",
      "y_pred = (2 * (est.predict(X) > 0.0)) - 1\n",
      "\n",
      "def confusion_matrix(Y_test, y_pred):\n",
      "    cm = sk_confusion_matrix(y, y_pred)\n",
      "    cm = pd.DataFrame(data=cm, columns=[-1, 1], index=[-1, 1])\n",
      "    cm.columns.name = 'Predicted label'\n",
      "    cm.index.name = 'True label'\n",
      "    error_rate = (y_pred != y).mean()\n",
      "    print('error rate: %.2f' %error_rate)\n",
      "    return cm\n",
      "\n",
      "confusion_matrix(y, y_pred)"
     ],
     "language": "python",
     "metadata": {},
     "outputs": []
    },
    {
     "cell_type": "markdown",
     "metadata": {},
     "source": [
      "## Train-Test Split!\n",
      "Cross validation of model performance by holding back 20% of the data and assessing the model on that set after training the model on the 80% retained."
     ]
    },
    {
     "cell_type": "code",
     "collapsed": false,
     "input": [
      "from sklearn.cross_validation import train_test_split\n",
      "\n",
      "# create 80%-20% train-test split\n",
      "X_train, X_test, y_train, y_test = train_test_split(X, y, test_size=0.2)\n",
      "\n",
      "# fit on training data\n",
      "est = LinearRegression().fit(X_train,y_train)\n",
      "\n",
      "# test on data that was not used for fitting\n",
      "y_pred = (2 * (est.predict(X) > 0.0)) - 1\n",
      "\n",
      "confusion_matrix(y_test, y_pred)"
     ],
     "language": "python",
     "metadata": {},
     "outputs": [
      {
       "ename": "NameError",
       "evalue": "name 'LinearRegression' is not defined",
       "output_type": "pyerr",
       "traceback": [
        "\u001b[1;31m---------------------------------------------------------------------------\u001b[0m\n\u001b[1;31mNameError\u001b[0m                                 Traceback (most recent call last)",
        "\u001b[1;32m<ipython-input-29-a2b7397d8bb9>\u001b[0m in \u001b[0;36m<module>\u001b[1;34m()\u001b[0m\n\u001b[0;32m      5\u001b[0m \u001b[1;33m\u001b[0m\u001b[0m\n\u001b[0;32m      6\u001b[0m \u001b[1;31m# fit on training data\u001b[0m\u001b[1;33m\u001b[0m\u001b[1;33m\u001b[0m\u001b[0m\n\u001b[1;32m----> 7\u001b[1;33m \u001b[0mest\u001b[0m \u001b[1;33m=\u001b[0m \u001b[0mLinearRegression\u001b[0m\u001b[1;33m(\u001b[0m\u001b[1;33m)\u001b[0m\u001b[1;33m.\u001b[0m\u001b[0mfit\u001b[0m\u001b[1;33m(\u001b[0m\u001b[0mX_train\u001b[0m\u001b[1;33m,\u001b[0m\u001b[0my_train\u001b[0m\u001b[1;33m)\u001b[0m\u001b[1;33m\u001b[0m\u001b[0m\n\u001b[0m\u001b[0;32m      8\u001b[0m \u001b[1;33m\u001b[0m\u001b[0m\n\u001b[0;32m      9\u001b[0m \u001b[1;31m# test on data that was not used for fitting\u001b[0m\u001b[1;33m\u001b[0m\u001b[1;33m\u001b[0m\u001b[0m\n",
        "\u001b[1;31mNameError\u001b[0m: name 'LinearRegression' is not defined"
       ]
      }
     ],
     "prompt_number": 29
    },
    {
     "cell_type": "markdown",
     "metadata": {},
     "source": [
      "##simple logistic regression"
     ]
    },
    {
     "cell_type": "code",
     "collapsed": false,
     "input": [
      "x = np.linspace(-10, 10, 666)\n",
      "y = 1.0 / (1.0 + np.exp(-x))\n",
      "\n",
      "plt.plot(x, y, 'r-', label='logit')\n",
      "plt.legend(loc='lower right')"
     ],
     "language": "python",
     "metadata": {},
     "outputs": []
    },
    {
     "cell_type": "markdown",
     "metadata": {},
     "source": [
      "## Let's try to do classification on this data\n",
      "- train_test_split\n",
      "- standardize the data\n",
      "- gradient lines for plotting\n",
      "- logistic regression\n",
      "- kNN"
     ]
    },
    {
     "cell_type": "code",
     "collapsed": false,
     "input": [],
     "language": "python",
     "metadata": {},
     "outputs": []
    },
    {
     "cell_type": "code",
     "collapsed": false,
     "input": [
      "from sklearn.preprocessing import StandardScaler\n",
      "from collections import OrderedDict\n",
      "from sklearn.neighbors import KNeighborsClassifier\n",
      "\n",
      "\n",
      "# get feature/predictor matrix as numpy array\n",
      "X, y = df[['balance', 'income']].values, np.where(df.default == 'No', 0, 1)\n",
      "\n",
      "# create 80%-20% train-test split\n",
      "X_train, X_test, y_train, y_test = train_test_split(X, y, test_size=0.4, random_state=1)\n",
      "\n",
      "# standardize data\n",
      "scaler = StandardScaler().fit(X_train)\n",
      "\n",
      "est = KNeighborsClassifier(3)\n",
      "est.fit(X_train, y_train)\n"
     ],
     "language": "python",
     "metadata": {},
     "outputs": []
    },
    {
     "cell_type": "code",
     "collapsed": false,
     "input": [
      "est.predict(X_test)"
     ],
     "language": "python",
     "metadata": {},
     "outputs": []
    },
    {
     "cell_type": "code",
     "collapsed": false,
     "input": [
      "y_predict = est.predict(X_test)"
     ],
     "language": "python",
     "metadata": {},
     "outputs": []
    },
    {
     "cell_type": "code",
     "collapsed": false,
     "input": [
      "errors = y_test - y_predict"
     ],
     "language": "python",
     "metadata": {},
     "outputs": []
    },
    {
     "cell_type": "code",
     "collapsed": false,
     "input": [
      "t_pos = (y_predict == 1).sum()\n",
      "t_neg = (y_predict == 0).sum()\n",
      "f_neg = (errors == 1).sum()\n",
      "f_pos = (errors == -1).sum()\n",
      "t_pos, t_neg, f_pos, f_neg"
     ],
     "language": "python",
     "metadata": {},
     "outputs": []
    },
    {
     "cell_type": "code",
     "collapsed": false,
     "input": [
      "f_pos/t_pos, f_neg/t_neg"
     ],
     "language": "python",
     "metadata": {},
     "outputs": []
    },
    {
     "cell_type": "code",
     "collapsed": false,
     "input": [
      "q = 78 + 56\n",
      "q * 4"
     ],
     "language": "python",
     "metadata": {},
     "outputs": []
    },
    {
     "cell_type": "code",
     "collapsed": false,
     "input": [
      "X.shape"
     ],
     "language": "python",
     "metadata": {},
     "outputs": []
    },
    {
     "cell_type": "code",
     "collapsed": false,
     "input": [
      "plot(est)"
     ],
     "language": "python",
     "metadata": {},
     "outputs": []
    },
    {
     "cell_type": "markdown",
     "metadata": {},
     "source": [
      "## Appendix"
     ]
    },
    {
     "cell_type": "code",
     "collapsed": false,
     "input": [
      "def plot_surface(est, x_1, x_2, ax=None, threshold=0.0, contourf=False):\n",
      "    \"\"\"Plots the decision surface of ``est`` on features ``x1`` and ``x2``. \"\"\"\n",
      "    xx1, xx2 = np.meshgrid(np.linspace(x_1.min(), x_1.max(), 666), \n",
      "                           np.linspace(x_2.min(), x_2.max(), 666))\n",
      "    # plot the hyperplane by evaluating the parameters on the grid\n",
      "    X_pred = np.c_[xx1.ravel(), xx2.ravel()]  # convert 2d grid into seq of points\n",
      "    if hasattr(est, 'predict_proba'):  # check if ``est`` supports probabilities\n",
      "        # take probability of positive class\n",
      "        pred = est.predict_proba(X_pred)[:, 1]\n",
      "    else:\n",
      "        pred = est.predict(X_pred)\n",
      "    Z = pred.reshape((666, 666))  # reshape seq to grid\n",
      "    if ax is None:\n",
      "        ax = plt.gca()\n",
      "    # plot line via contour plot\n",
      "\n",
      "    if contourf:\n",
      "        ax.contourf(xx1, xx2, Z, levels=np.linspace(0, 1.0, 10), cmap=plt.cm.RdBu, alpha=0.6)\n",
      "    ax.contour(xx1, xx2, Z, levels=[threshold], colors='black')\n",
      "    ax.set_xlim((x_1.min(), x_1.max()))\n",
      "    ax.set_ylim((x_2.min(), x_2.max()))\n",
      "\n",
      "def plot_datasets(est=None):\n",
      "    \"\"\"Plotsthe decision surface of ``est`` on each of the three datasets. \"\"\"\n",
      "    fig, axes = plt.subplots(1, 3, figsize=(10, 4))\n",
      "    for (name, ds), ax in zip(datasets.iteritems(), axes):\n",
      "        X_train = ds['X_train']\n",
      "        y_train = ds['y_train']\n",
      "        X_test = ds['X_test']\n",
      "        y_test = ds['y_test']\n",
      "\n",
      "        # plot test lighter than training\n",
      "        cm_bright = ListedColormap(['#FF0000', '#0000FF'])\n",
      "        # Plot the training points\n",
      "        ax.scatter(X_train[:, 0], X_train[:, 1], c=y_train, cmap=cm_bright)\n",
      "        # and testing points\n",
      "        ax.scatter(X_test[:, 0], X_test[:, 1], c=y_test, cmap=cm_bright, alpha=0.6)\n",
      "        # plot limits\n",
      "        ax.set_xlim(X_train[:, 0].min(), X_train[:, 0].max())\n",
      "        ax.set_ylim(X_train[:, 1].min(), X_train[:, 1].max())\n",
      "        # no ticks\n",
      "        ax.set_xticks(())\n",
      "        ax.set_yticks(())\n",
      "        ax.set_ylabel('$x_1$')\n",
      "        ax.set_xlabel('$x_0$')\n",
      "        ax.set_title(name)\n",
      "        if est is not None:\n",
      "            est.fit(X_train, y_train)\n",
      "            plot_surface(est, X_train[:, 0], X_train[:, 1], ax=ax, threshold=0.5, contourf=True)\n",
      "            err = (y_test != est.predict(X_test)).mean()\n",
      "            ax.text(0.88, 0.02, '%.2f' % err, transform=ax.transAxes)\n",
      "\n",
      "    fig.subplots_adjust(left=.02, right=.98)"
     ],
     "language": "python",
     "metadata": {},
     "outputs": []
    },
    {
     "cell_type": "code",
     "collapsed": false,
     "input": [
      "!wget http://files.figshare.com/1471458/5isozymedw1bin.txt"
     ],
     "language": "python",
     "metadata": {},
     "outputs": [
      {
       "output_type": "stream",
       "stream": "stdout",
       "text": [
        "--2014-05-21 18:14:09--  http://files.figshare.com/1471458/5isozymedw1bin.txt\r\n",
        "Resolving files.figshare.com (files.figshare.com)... "
       ]
      },
      {
       "output_type": "stream",
       "stream": "stdout",
       "text": [
        "54.239.34.28\r\n",
        "Connecting to files.figshare.com (files.figshare.com)|54.239.34.28|:80... "
       ]
      },
      {
       "output_type": "stream",
       "stream": "stdout",
       "text": [
        "connected.\r\n",
        "HTTP request sent, awaiting response... "
       ]
      },
      {
       "output_type": "stream",
       "stream": "stdout",
       "text": [
        "200 OK\r\n",
        "Length: 31191417 (30M) [text/plain]\r\n",
        "Saving to: '5isozymedw1bin.txt'\r\n",
        "\r\n",
        "\r",
        " 0% [                                       ] 0           --.-K/s              "
       ]
      },
      {
       "output_type": "stream",
       "stream": "stdout",
       "text": [
        "\r",
        " 0% [                                       ] 65,579       240KB/s             "
       ]
      },
      {
       "output_type": "stream",
       "stream": "stdout",
       "text": [
        "\r",
        " 0% [                                       ] 176,539      367KB/s             "
       ]
      },
      {
       "output_type": "stream",
       "stream": "stdout",
       "text": [
        "\r",
        " 0% [                                       ] 305,019      419KB/s             "
       ]
      },
      {
       "output_type": "stream",
       "stream": "stdout",
       "text": [
        "\r",
        " 1% [                                       ] 524,019      561KB/s             "
       ]
      },
      {
       "output_type": "stream",
       "stream": "stdout",
       "text": [
        "\r",
        " 2% [>                                      ] 858,359      726KB/s             "
       ]
      },
      {
       "output_type": "stream",
       "stream": "stdout",
       "text": [
        "\r",
        " 4% [>                                      ] 1,344,539    968KB/s             "
       ]
      },
      {
       "output_type": "stream",
       "stream": "stdout",
       "text": [
        "\r",
        " 6% [=>                                     ] 1,943,139   1.19MB/s             "
       ]
      },
      {
       "output_type": "stream",
       "stream": "stdout",
       "text": [
        "\r",
        " 8% [==>                                    ] 2,541,739   1.36MB/s             "
       ]
      },
      {
       "output_type": "stream",
       "stream": "stdout",
       "text": [
        "\r",
        "10% [===>                                   ] 3,423,579   1.65MB/s             "
       ]
      },
      {
       "output_type": "stream",
       "stream": "stdout",
       "text": [
        "\r",
        "14% [====>                                  ] 4,461,639   1.95MB/s             "
       ]
      },
      {
       "output_type": "stream",
       "stream": "stdout",
       "text": [
        "\r",
        "17% [=====>                                 ] 5,432,539   2.16MB/s             "
       ]
      },
      {
       "output_type": "stream",
       "stream": "stdout",
       "text": [
        "\r",
        "21% [=======>                               ] 6,747,999   2.48MB/s             "
       ]
      },
      {
       "output_type": "stream",
       "stream": "stdout",
       "text": [
        "\r",
        "26% [=========>                             ] 8,231,359   2.80MB/s             "
       ]
      },
      {
       "output_type": "stream",
       "stream": "stdout",
       "text": [
        "\r",
        "30% [===========>                           ] 9,649,019   3.04MB/s  eta 7s     "
       ]
      },
      {
       "output_type": "stream",
       "stream": "stdout",
       "text": [
        "\r",
        "36% [=============>                         ] 11,497,379  3.40MB/s  eta 7s     "
       ]
      },
      {
       "output_type": "stream",
       "stream": "stdout",
       "text": [
        "\r",
        "43% [===============>                       ] 13,586,639  3.78MB/s  eta 7s     "
       ]
      },
      {
       "output_type": "stream",
       "stream": "stdout",
       "text": [
        "\r",
        "50% [==================>                    ] 15,632,099  4.09MB/s  eta 7s     "
       ]
      },
      {
       "output_type": "stream",
       "stream": "stdout",
       "text": [
        "\r",
        "58% [=====================>                 ] 18,219,219  4.72MB/s  eta 7s     "
       ]
      },
      {
       "output_type": "stream",
       "stream": "stdout",
       "text": [
        "\r",
        "67% [=========================>             ] 21,172,979  5.44MB/s  eta 2s     "
       ]
      },
      {
       "output_type": "stream",
       "stream": "stdout",
       "text": [
        "\r",
        "77% [=============================>         ] 24,056,479  6.36MB/s  eta 2s     "
       ]
      },
      {
       "output_type": "stream",
       "stream": "stdout",
       "text": [
        "\r",
        "88% [=================================>     ] 27,626,179  7.23MB/s  eta 2s     "
       ]
      },
      {
       "output_type": "stream",
       "stream": "stdout",
       "text": [
        "\r",
        "100%[======================================>] 31,191,417  8.09MB/s   in 4.7s   \r\n",
        "\r\n",
        "2014-05-21 18:14:15 (6.38 MB/s) - '5isozymedw1bin.txt' saved [31191417/31191417]\r\n",
        "\r\n"
       ]
      }
     ],
     "prompt_number": 10
    },
    {
     "cell_type": "code",
     "collapsed": false,
     "input": [
      "mv 5isozymedw1bin.txt data/5isozymedw1bin.txt"
     ],
     "language": "python",
     "metadata": {},
     "outputs": [],
     "prompt_number": 12
    },
    {
     "cell_type": "code",
     "collapsed": false,
     "input": [
      "datafr = pd.read_csv('data/5isozymedw1bin.txt')\n",
      "datafr.head()"
     ],
     "language": "python",
     "metadata": {},
     "outputs": [
      {
       "html": [
        "<div style=\"max-height:1000px;max-width:1500px;overflow:auto;\">\n",
        "<table border=\"1\" class=\"dataframe\">\n",
        "  <thead>\n",
        "    <tr style=\"text-align: right;\">\n",
        "      <th></th>\n",
        "      <th>PUBCHEM_SID</th>\n",
        "      <th>WashedMols</th>\n",
        "      <th>PUBCHEM_CID</th>\n",
        "      <th>Inhibition Observed</th>\n",
        "      <th>Approved Drug</th>\n",
        "      <th>p450-cyp2c19-Activity Outcome</th>\n",
        "      <th>p450-cyp2c19-Activity-Over-40</th>\n",
        "      <th>p450-cyp2c19-Activity Score</th>\n",
        "      <th>p450-cyp2d6-Activity Outcome</th>\n",
        "      <th>p450-cyp2d6-Activity Score</th>\n",
        "      <th>p450-cyp3a4-Activity Outcome</th>\n",
        "      <th>p450-cyp3a4-Activity Score</th>\n",
        "      <th>p450-cyp1a2-Activity Outcome</th>\n",
        "      <th>p450-cyp1a2-Activity Score</th>\n",
        "      <th>p450-cyp2c9-Activity Outcome</th>\n",
        "      <th>p450-cyp2c9-Activity Score</th>\n",
        "      <th>apol</th>\n",
        "      <th>a_acc</th>\n",
        "      <th>a_acid</th>\n",
        "      <th>a_aro</th>\n",
        "      <th></th>\n",
        "    </tr>\n",
        "  </thead>\n",
        "  <tbody>\n",
        "    <tr>\n",
        "      <th>0</th>\n",
        "      <td> 842238</td>\n",
        "      <td>             Clc1cc(NC(=O)CCC)ccc1N1CC[NH+](CC1)CC</td>\n",
        "      <td> 6602638</td>\n",
        "      <td> True</td>\n",
        "      <td> Biodiverse</td>\n",
        "      <td> 1</td>\n",
        "      <td> 0</td>\n",
        "      <td>  0</td>\n",
        "      <td> 3</td>\n",
        "      <td> 20</td>\n",
        "      <td> 1</td>\n",
        "      <td>  0</td>\n",
        "      <td> 1</td>\n",
        "      <td>  0</td>\n",
        "      <td> 3</td>\n",
        "      <td> 20</td>\n",
        "      <td> 51.111824</td>\n",
        "      <td> 1</td>\n",
        "      <td> 0</td>\n",
        "      <td>  6</td>\n",
        "      <td>...</td>\n",
        "    </tr>\n",
        "    <tr>\n",
        "      <th>1</th>\n",
        "      <td> 842250</td>\n",
        "      <td> Fc1ccc(cc1)Cn1nnnc1C[NH+](CC1=Cc2c(NC1=O)cc1OC...</td>\n",
        "      <td>  644510</td>\n",
        "      <td> True</td>\n",
        "      <td> Biodiverse</td>\n",
        "      <td> 3</td>\n",
        "      <td> 0</td>\n",
        "      <td> 20</td>\n",
        "      <td> 3</td>\n",
        "      <td> 21</td>\n",
        "      <td> 2</td>\n",
        "      <td> 85</td>\n",
        "      <td> 2</td>\n",
        "      <td> 42</td>\n",
        "      <td> 3</td>\n",
        "      <td> 20</td>\n",
        "      <td> 66.848030</td>\n",
        "      <td> 7</td>\n",
        "      <td> 0</td>\n",
        "      <td> 17</td>\n",
        "      <td>...</td>\n",
        "    </tr>\n",
        "    <tr>\n",
        "      <th>2</th>\n",
        "      <td> 842319</td>\n",
        "      <td> S1\\C(=C/2\\c3c(N(CC)C\\2=O)cccc3)\\C(=O)N(CCCOC)C1=S</td>\n",
        "      <td> 1960010</td>\n",
        "      <td> True</td>\n",
        "      <td> Biodiverse</td>\n",
        "      <td> 3</td>\n",
        "      <td> 0</td>\n",
        "      <td> 20</td>\n",
        "      <td> 1</td>\n",
        "      <td>  0</td>\n",
        "      <td> 3</td>\n",
        "      <td> 22</td>\n",
        "      <td> 2</td>\n",
        "      <td> 85</td>\n",
        "      <td> 2</td>\n",
        "      <td> 87</td>\n",
        "      <td> 52.328274</td>\n",
        "      <td> 4</td>\n",
        "      <td> 0</td>\n",
        "      <td>  6</td>\n",
        "      <td>...</td>\n",
        "    </tr>\n",
        "    <tr>\n",
        "      <th>3</th>\n",
        "      <td> 842408</td>\n",
        "      <td>        S1c2cc(N(S(=O)(=O)c3sccc3)C(=O)C)ccc2OC1=O</td>\n",
        "      <td>  644675</td>\n",
        "      <td> True</td>\n",
        "      <td> Biodiverse</td>\n",
        "      <td> 2</td>\n",
        "      <td> 1</td>\n",
        "      <td> 90</td>\n",
        "      <td> 1</td>\n",
        "      <td>  0</td>\n",
        "      <td> 2</td>\n",
        "      <td> 41</td>\n",
        "      <td> 2</td>\n",
        "      <td> 41</td>\n",
        "      <td> 3</td>\n",
        "      <td> 20</td>\n",
        "      <td> 42.691135</td>\n",
        "      <td> 4</td>\n",
        "      <td> 0</td>\n",
        "      <td> 11</td>\n",
        "      <td>...</td>\n",
        "    </tr>\n",
        "    <tr>\n",
        "      <th>4</th>\n",
        "      <td> 842584</td>\n",
        "      <td>                  Clc1ccccc1-c1[nH]nc(n1)-c1ccccc1</td>\n",
        "      <td>  644851</td>\n",
        "      <td> True</td>\n",
        "      <td> Biodiverse</td>\n",
        "      <td> 2</td>\n",
        "      <td> 1</td>\n",
        "      <td> 41</td>\n",
        "      <td> 3</td>\n",
        "      <td> 20</td>\n",
        "      <td> 3</td>\n",
        "      <td> 20</td>\n",
        "      <td> 2</td>\n",
        "      <td> 86</td>\n",
        "      <td> 2</td>\n",
        "      <td> 40</td>\n",
        "      <td> 36.787930</td>\n",
        "      <td> 3</td>\n",
        "      <td> 0</td>\n",
        "      <td> 17</td>\n",
        "      <td>...</td>\n",
        "    </tr>\n",
        "  </tbody>\n",
        "</table>\n",
        "<p>5 rows \u00d7 211 columns</p>\n",
        "</div>"
       ],
       "metadata": {},
       "output_type": "pyout",
       "prompt_number": 13,
       "text": [
        "   PUBCHEM_SID                                         WashedMols  \\\n",
        "0       842238              Clc1cc(NC(=O)CCC)ccc1N1CC[NH+](CC1)CC   \n",
        "1       842250  Fc1ccc(cc1)Cn1nnnc1C[NH+](CC1=Cc2c(NC1=O)cc1OC...   \n",
        "2       842319  S1\\C(=C/2\\c3c(N(CC)C\\2=O)cccc3)\\C(=O)N(CCCOC)C1=S   \n",
        "3       842408         S1c2cc(N(S(=O)(=O)c3sccc3)C(=O)C)ccc2OC1=O   \n",
        "4       842584                   Clc1ccccc1-c1[nH]nc(n1)-c1ccccc1   \n",
        "\n",
        "   PUBCHEM_CID Inhibition Observed Approved Drug  \\\n",
        "0      6602638                True    Biodiverse   \n",
        "1       644510                True    Biodiverse   \n",
        "2      1960010                True    Biodiverse   \n",
        "3       644675                True    Biodiverse   \n",
        "4       644851                True    Biodiverse   \n",
        "\n",
        "   p450-cyp2c19-Activity Outcome  p450-cyp2c19-Activity-Over-40  \\\n",
        "0                              1                              0   \n",
        "1                              3                              0   \n",
        "2                              3                              0   \n",
        "3                              2                              1   \n",
        "4                              2                              1   \n",
        "\n",
        "   p450-cyp2c19-Activity Score  p450-cyp2d6-Activity Outcome  \\\n",
        "0                            0                             3   \n",
        "1                           20                             3   \n",
        "2                           20                             1   \n",
        "3                           90                             1   \n",
        "4                           41                             3   \n",
        "\n",
        "   p450-cyp2d6-Activity Score  p450-cyp3a4-Activity Outcome  \\\n",
        "0                          20                             1   \n",
        "1                          21                             2   \n",
        "2                           0                             3   \n",
        "3                           0                             2   \n",
        "4                          20                             3   \n",
        "\n",
        "   p450-cyp3a4-Activity Score  p450-cyp1a2-Activity Outcome  \\\n",
        "0                           0                             1   \n",
        "1                          85                             2   \n",
        "2                          22                             2   \n",
        "3                          41                             2   \n",
        "4                          20                             2   \n",
        "\n",
        "   p450-cyp1a2-Activity Score  p450-cyp2c9-Activity Outcome  \\\n",
        "0                           0                             3   \n",
        "1                          42                             3   \n",
        "2                          85                             2   \n",
        "3                          41                             3   \n",
        "4                          86                             2   \n",
        "\n",
        "   p450-cyp2c9-Activity Score       apol  a_acc  a_acid  a_aro      \n",
        "0                          20  51.111824      1       0      6 ...  \n",
        "1                          20  66.848030      7       0     17 ...  \n",
        "2                          87  52.328274      4       0      6 ...  \n",
        "3                          20  42.691135      4       0     11 ...  \n",
        "4                          40  36.787930      3       0     17 ...  \n",
        "\n",
        "[5 rows x 211 columns]"
       ]
      }
     ],
     "prompt_number": 13
    },
    {
     "cell_type": "code",
     "collapsed": false,
     "input": [
      "activityColumn = datafr.ix[:, ['p450-cyp2c19-Activity-Over-40']]\n",
      "activityColumn.head(4)"
     ],
     "language": "python",
     "metadata": {},
     "outputs": [
      {
       "html": [
        "<div style=\"max-height:1000px;max-width:1500px;overflow:auto;\">\n",
        "<table border=\"1\" class=\"dataframe\">\n",
        "  <thead>\n",
        "    <tr style=\"text-align: right;\">\n",
        "      <th></th>\n",
        "      <th>p450-cyp2c19-Activity-Over-40</th>\n",
        "    </tr>\n",
        "  </thead>\n",
        "  <tbody>\n",
        "    <tr>\n",
        "      <th>0</th>\n",
        "      <td> 0</td>\n",
        "    </tr>\n",
        "    <tr>\n",
        "      <th>1</th>\n",
        "      <td> 0</td>\n",
        "    </tr>\n",
        "    <tr>\n",
        "      <th>2</th>\n",
        "      <td> 0</td>\n",
        "    </tr>\n",
        "    <tr>\n",
        "      <th>3</th>\n",
        "      <td> 1</td>\n",
        "    </tr>\n",
        "  </tbody>\n",
        "</table>\n",
        "<p>4 rows \u00d7 1 columns</p>\n",
        "</div>"
       ],
       "metadata": {},
       "output_type": "pyout",
       "prompt_number": 14,
       "text": [
        "   p450-cyp2c19-Activity-Over-40\n",
        "0                              0\n",
        "1                              0\n",
        "2                              0\n",
        "3                              1\n",
        "\n",
        "[4 rows x 1 columns]"
       ]
      }
     ],
     "prompt_number": 14
    },
    {
     "cell_type": "code",
     "collapsed": false,
     "input": [
      "binned = datafr[list([6])]\n",
      "binned.head()"
     ],
     "language": "python",
     "metadata": {},
     "outputs": [
      {
       "html": [
        "<div style=\"max-height:1000px;max-width:1500px;overflow:auto;\">\n",
        "<table border=\"1\" class=\"dataframe\">\n",
        "  <thead>\n",
        "    <tr style=\"text-align: right;\">\n",
        "      <th></th>\n",
        "      <th>p450-cyp2c19-Activity-Over-40</th>\n",
        "    </tr>\n",
        "  </thead>\n",
        "  <tbody>\n",
        "    <tr>\n",
        "      <th>0</th>\n",
        "      <td> 0</td>\n",
        "    </tr>\n",
        "    <tr>\n",
        "      <th>1</th>\n",
        "      <td> 0</td>\n",
        "    </tr>\n",
        "    <tr>\n",
        "      <th>2</th>\n",
        "      <td> 0</td>\n",
        "    </tr>\n",
        "    <tr>\n",
        "      <th>3</th>\n",
        "      <td> 1</td>\n",
        "    </tr>\n",
        "    <tr>\n",
        "      <th>4</th>\n",
        "      <td> 1</td>\n",
        "    </tr>\n",
        "  </tbody>\n",
        "</table>\n",
        "<p>5 rows \u00d7 1 columns</p>\n",
        "</div>"
       ],
       "metadata": {},
       "output_type": "pyout",
       "prompt_number": 15,
       "text": [
        "   p450-cyp2c19-Activity-Over-40\n",
        "0                              0\n",
        "1                              0\n",
        "2                              0\n",
        "3                              1\n",
        "4                              1\n",
        "\n",
        "[5 rows x 1 columns]"
       ]
      }
     ],
     "prompt_number": 15
    },
    {
     "cell_type": "code",
     "collapsed": false,
     "input": [
      "datafr.rename(columns={'p450-cyp2c19-Activity-Over-40': 'binnedActivity'}, inplace=True)"
     ],
     "language": "python",
     "metadata": {},
     "outputs": [],
     "prompt_number": 16
    },
    {
     "cell_type": "code",
     "collapsed": false,
     "input": [
      "# Downsample negative cases -- there are many more negatives than positives\n",
      "\n",
      "indices = np.where(datafr.binnedActivity == 0)[0]\n",
      "rng = np.random.RandomState(19)\n",
      "rng.shuffle(indices)\n",
      "n_pos = (datafr.binnedActivity == 1).sum()\n",
      "balanced = datafr.drop(datafr.index[indices[n_pos:]])\n",
      "\n",
      "balanced.head()"
     ],
     "language": "python",
     "metadata": {},
     "outputs": [
      {
       "html": [
        "<div style=\"max-height:1000px;max-width:1500px;overflow:auto;\">\n",
        "<table border=\"1\" class=\"dataframe\">\n",
        "  <thead>\n",
        "    <tr style=\"text-align: right;\">\n",
        "      <th></th>\n",
        "      <th>PUBCHEM_SID</th>\n",
        "      <th>WashedMols</th>\n",
        "      <th>PUBCHEM_CID</th>\n",
        "      <th>Inhibition Observed</th>\n",
        "      <th>Approved Drug</th>\n",
        "      <th>p450-cyp2c19-Activity Outcome</th>\n",
        "      <th>binnedActivity</th>\n",
        "      <th>p450-cyp2c19-Activity Score</th>\n",
        "      <th>p450-cyp2d6-Activity Outcome</th>\n",
        "      <th>p450-cyp2d6-Activity Score</th>\n",
        "      <th>p450-cyp3a4-Activity Outcome</th>\n",
        "      <th>p450-cyp3a4-Activity Score</th>\n",
        "      <th>p450-cyp1a2-Activity Outcome</th>\n",
        "      <th>p450-cyp1a2-Activity Score</th>\n",
        "      <th>p450-cyp2c9-Activity Outcome</th>\n",
        "      <th>p450-cyp2c9-Activity Score</th>\n",
        "      <th>apol</th>\n",
        "      <th>a_acc</th>\n",
        "      <th>a_acid</th>\n",
        "      <th>a_aro</th>\n",
        "      <th></th>\n",
        "    </tr>\n",
        "  </thead>\n",
        "  <tbody>\n",
        "    <tr>\n",
        "      <th>0</th>\n",
        "      <td> 842238</td>\n",
        "      <td>             Clc1cc(NC(=O)CCC)ccc1N1CC[NH+](CC1)CC</td>\n",
        "      <td> 6602638</td>\n",
        "      <td> True</td>\n",
        "      <td> Biodiverse</td>\n",
        "      <td> 1</td>\n",
        "      <td> 0</td>\n",
        "      <td>  0</td>\n",
        "      <td> 3</td>\n",
        "      <td> 20</td>\n",
        "      <td> 1</td>\n",
        "      <td>  0</td>\n",
        "      <td> 1</td>\n",
        "      <td>  0</td>\n",
        "      <td> 3</td>\n",
        "      <td> 20</td>\n",
        "      <td> 51.111824</td>\n",
        "      <td> 1</td>\n",
        "      <td> 0</td>\n",
        "      <td>  6</td>\n",
        "      <td>...</td>\n",
        "    </tr>\n",
        "    <tr>\n",
        "      <th>2</th>\n",
        "      <td> 842319</td>\n",
        "      <td> S1\\C(=C/2\\c3c(N(CC)C\\2=O)cccc3)\\C(=O)N(CCCOC)C1=S</td>\n",
        "      <td> 1960010</td>\n",
        "      <td> True</td>\n",
        "      <td> Biodiverse</td>\n",
        "      <td> 3</td>\n",
        "      <td> 0</td>\n",
        "      <td> 20</td>\n",
        "      <td> 1</td>\n",
        "      <td>  0</td>\n",
        "      <td> 3</td>\n",
        "      <td> 22</td>\n",
        "      <td> 2</td>\n",
        "      <td> 85</td>\n",
        "      <td> 2</td>\n",
        "      <td> 87</td>\n",
        "      <td> 52.328274</td>\n",
        "      <td> 4</td>\n",
        "      <td> 0</td>\n",
        "      <td>  6</td>\n",
        "      <td>...</td>\n",
        "    </tr>\n",
        "    <tr>\n",
        "      <th>3</th>\n",
        "      <td> 842408</td>\n",
        "      <td>        S1c2cc(N(S(=O)(=O)c3sccc3)C(=O)C)ccc2OC1=O</td>\n",
        "      <td>  644675</td>\n",
        "      <td> True</td>\n",
        "      <td> Biodiverse</td>\n",
        "      <td> 2</td>\n",
        "      <td> 1</td>\n",
        "      <td> 90</td>\n",
        "      <td> 1</td>\n",
        "      <td>  0</td>\n",
        "      <td> 2</td>\n",
        "      <td> 41</td>\n",
        "      <td> 2</td>\n",
        "      <td> 41</td>\n",
        "      <td> 3</td>\n",
        "      <td> 20</td>\n",
        "      <td> 42.691135</td>\n",
        "      <td> 4</td>\n",
        "      <td> 0</td>\n",
        "      <td> 11</td>\n",
        "      <td>...</td>\n",
        "    </tr>\n",
        "    <tr>\n",
        "      <th>4</th>\n",
        "      <td> 842584</td>\n",
        "      <td>                  Clc1ccccc1-c1[nH]nc(n1)-c1ccccc1</td>\n",
        "      <td>  644851</td>\n",
        "      <td> True</td>\n",
        "      <td> Biodiverse</td>\n",
        "      <td> 2</td>\n",
        "      <td> 1</td>\n",
        "      <td> 41</td>\n",
        "      <td> 3</td>\n",
        "      <td> 20</td>\n",
        "      <td> 3</td>\n",
        "      <td> 20</td>\n",
        "      <td> 2</td>\n",
        "      <td> 86</td>\n",
        "      <td> 2</td>\n",
        "      <td> 40</td>\n",
        "      <td> 36.787930</td>\n",
        "      <td> 3</td>\n",
        "      <td> 0</td>\n",
        "      <td> 17</td>\n",
        "      <td>...</td>\n",
        "    </tr>\n",
        "    <tr>\n",
        "      <th>5</th>\n",
        "      <td> 842618</td>\n",
        "      <td> O(C)c1ccccc1C([NH+]1CC[NH+](CC1)Cc1ccncc1)c1nn...</td>\n",
        "      <td>  644890</td>\n",
        "      <td> True</td>\n",
        "      <td> Biodiverse</td>\n",
        "      <td> 2</td>\n",
        "      <td> 1</td>\n",
        "      <td> 85</td>\n",
        "      <td> 2</td>\n",
        "      <td> 44</td>\n",
        "      <td> 2</td>\n",
        "      <td> 84</td>\n",
        "      <td> 3</td>\n",
        "      <td> 20</td>\n",
        "      <td> 2</td>\n",
        "      <td> 88</td>\n",
        "      <td> 70.986168</td>\n",
        "      <td> 5</td>\n",
        "      <td> 0</td>\n",
        "      <td> 17</td>\n",
        "      <td>...</td>\n",
        "    </tr>\n",
        "  </tbody>\n",
        "</table>\n",
        "<p>5 rows \u00d7 211 columns</p>\n",
        "</div>"
       ],
       "metadata": {},
       "output_type": "pyout",
       "prompt_number": 17,
       "text": [
        "   PUBCHEM_SID                                         WashedMols  \\\n",
        "0       842238              Clc1cc(NC(=O)CCC)ccc1N1CC[NH+](CC1)CC   \n",
        "2       842319  S1\\C(=C/2\\c3c(N(CC)C\\2=O)cccc3)\\C(=O)N(CCCOC)C1=S   \n",
        "3       842408         S1c2cc(N(S(=O)(=O)c3sccc3)C(=O)C)ccc2OC1=O   \n",
        "4       842584                   Clc1ccccc1-c1[nH]nc(n1)-c1ccccc1   \n",
        "5       842618  O(C)c1ccccc1C([NH+]1CC[NH+](CC1)Cc1ccncc1)c1nn...   \n",
        "\n",
        "   PUBCHEM_CID Inhibition Observed Approved Drug  \\\n",
        "0      6602638                True    Biodiverse   \n",
        "2      1960010                True    Biodiverse   \n",
        "3       644675                True    Biodiverse   \n",
        "4       644851                True    Biodiverse   \n",
        "5       644890                True    Biodiverse   \n",
        "\n",
        "   p450-cyp2c19-Activity Outcome  binnedActivity  p450-cyp2c19-Activity Score  \\\n",
        "0                              1               0                            0   \n",
        "2                              3               0                           20   \n",
        "3                              2               1                           90   \n",
        "4                              2               1                           41   \n",
        "5                              2               1                           85   \n",
        "\n",
        "   p450-cyp2d6-Activity Outcome  p450-cyp2d6-Activity Score  \\\n",
        "0                             3                          20   \n",
        "2                             1                           0   \n",
        "3                             1                           0   \n",
        "4                             3                          20   \n",
        "5                             2                          44   \n",
        "\n",
        "   p450-cyp3a4-Activity Outcome  p450-cyp3a4-Activity Score  \\\n",
        "0                             1                           0   \n",
        "2                             3                          22   \n",
        "3                             2                          41   \n",
        "4                             3                          20   \n",
        "5                             2                          84   \n",
        "\n",
        "   p450-cyp1a2-Activity Outcome  p450-cyp1a2-Activity Score  \\\n",
        "0                             1                           0   \n",
        "2                             2                          85   \n",
        "3                             2                          41   \n",
        "4                             2                          86   \n",
        "5                             3                          20   \n",
        "\n",
        "   p450-cyp2c9-Activity Outcome  p450-cyp2c9-Activity Score       apol  a_acc  \\\n",
        "0                             3                          20  51.111824      1   \n",
        "2                             2                          87  52.328274      4   \n",
        "3                             3                          20  42.691135      4   \n",
        "4                             2                          40  36.787930      3   \n",
        "5                             2                          88  70.986168      5   \n",
        "\n",
        "   a_acid  a_aro      \n",
        "0       0      6 ...  \n",
        "2       0      6 ...  \n",
        "3       0     11 ...  \n",
        "4       0     17 ...  \n",
        "5       0     17 ...  \n",
        "\n",
        "[5 rows x 211 columns]"
       ]
      }
     ],
     "prompt_number": 17
    },
    {
     "cell_type": "markdown",
     "metadata": {},
     "source": [
      "## The code below was run on the imbalanced dataset - with far more inactive than actives"
     ]
    },
    {
     "cell_type": "code",
     "collapsed": false,
     "input": [
      "datafr.columns[16:25], datafr.columns[200:202], datafr.columns[6]"
     ],
     "language": "python",
     "metadata": {},
     "outputs": [
      {
       "metadata": {},
       "output_type": "pyout",
       "prompt_number": 18,
       "text": [
        "(Index(['apol', 'a_acc', 'a_acid', 'a_aro', 'a_base', 'a_count', 'a_don', 'a_heavy', 'a_hyd'], dtype='object'),\n",
        " Index(['weinerPol', 'zagreb'], dtype='object'),\n",
        " 'binnedActivity')"
       ]
      }
     ],
     "prompt_number": 18
    },
    {
     "cell_type": "code",
     "collapsed": false,
     "input": [
      "datafr1 = datafr.ix[:,16:202]"
     ],
     "language": "python",
     "metadata": {},
     "outputs": [],
     "prompt_number": 19
    },
    {
     "cell_type": "code",
     "collapsed": false,
     "input": [
      "o = datafr[[6]]\n",
      "np.ravel(o)"
     ],
     "language": "python",
     "metadata": {},
     "outputs": [
      {
       "metadata": {},
       "output_type": "pyout",
       "prompt_number": 20,
       "text": [
        "array([0, 0, 0, ..., 1, 0, 0])"
       ]
      }
     ],
     "prompt_number": 20
    },
    {
     "cell_type": "code",
     "collapsed": false,
     "input": [
      "from sklearn.cross_validation import train_test_split"
     ],
     "language": "python",
     "metadata": {},
     "outputs": [],
     "prompt_number": 30
    },
    {
     "cell_type": "code",
     "collapsed": false,
     "input": [
      "X, y = datafr.ix[:,16:202], np.ravel(o)\n",
      "\n",
      "# create 80%-20% train-test split\n",
      "X_train, X_test, y_train, y_test = train_test_split(X, y, test_size=0.2, random_state=1)\n",
      "\n",
      "# standardize data\n",
      "scaler = StandardScaler().fit(X_train)\n",
      "\n",
      "est = KNeighborsClassifier(9)\n",
      "est.fit(X_train, y_train)"
     ],
     "language": "python",
     "metadata": {},
     "outputs": [
      {
       "ename": "ValueError",
       "evalue": "Found array with dim 11828. Expected 17143",
       "output_type": "pyerr",
       "traceback": [
        "\u001b[1;31m---------------------------------------------------------------------------\u001b[0m\n\u001b[1;31mValueError\u001b[0m                                Traceback (most recent call last)",
        "\u001b[1;32m<ipython-input-31-e0a56faf82da>\u001b[0m in \u001b[0;36m<module>\u001b[1;34m()\u001b[0m\n\u001b[0;32m      2\u001b[0m \u001b[1;33m\u001b[0m\u001b[0m\n\u001b[0;32m      3\u001b[0m \u001b[1;31m# create 80%-20% train-test split\u001b[0m\u001b[1;33m\u001b[0m\u001b[1;33m\u001b[0m\u001b[0m\n\u001b[1;32m----> 4\u001b[1;33m \u001b[0mX_train\u001b[0m\u001b[1;33m,\u001b[0m \u001b[0mX_test\u001b[0m\u001b[1;33m,\u001b[0m \u001b[0my_train\u001b[0m\u001b[1;33m,\u001b[0m \u001b[0my_test\u001b[0m \u001b[1;33m=\u001b[0m \u001b[0mtrain_test_split\u001b[0m\u001b[1;33m(\u001b[0m\u001b[0mX\u001b[0m\u001b[1;33m,\u001b[0m \u001b[0my\u001b[0m\u001b[1;33m,\u001b[0m \u001b[0mtest_size\u001b[0m\u001b[1;33m=\u001b[0m\u001b[1;36m0.2\u001b[0m\u001b[1;33m,\u001b[0m \u001b[0mrandom_state\u001b[0m\u001b[1;33m=\u001b[0m\u001b[1;36m1\u001b[0m\u001b[1;33m)\u001b[0m\u001b[1;33m\u001b[0m\u001b[0m\n\u001b[0m\u001b[0;32m      5\u001b[0m \u001b[1;33m\u001b[0m\u001b[0m\n\u001b[0;32m      6\u001b[0m \u001b[1;31m# standardize data\u001b[0m\u001b[1;33m\u001b[0m\u001b[1;33m\u001b[0m\u001b[0m\n",
        "\u001b[1;32m/home/ubuntu/miniconda3/lib/python3.3/site-packages/sklearn/cross_validation.py\u001b[0m in \u001b[0;36mtrain_test_split\u001b[1;34m(*arrays, **options)\u001b[0m\n\u001b[0;32m   1392\u001b[0m         \u001b[0mtest_size\u001b[0m \u001b[1;33m=\u001b[0m \u001b[1;36m0.25\u001b[0m\u001b[1;33m\u001b[0m\u001b[0m\n\u001b[0;32m   1393\u001b[0m \u001b[1;33m\u001b[0m\u001b[0m\n\u001b[1;32m-> 1394\u001b[1;33m     \u001b[0marrays\u001b[0m \u001b[1;33m=\u001b[0m \u001b[0mcheck_arrays\u001b[0m\u001b[1;33m(\u001b[0m\u001b[1;33m*\u001b[0m\u001b[0marrays\u001b[0m\u001b[1;33m,\u001b[0m \u001b[1;33m**\u001b[0m\u001b[0moptions\u001b[0m\u001b[1;33m)\u001b[0m\u001b[1;33m\u001b[0m\u001b[0m\n\u001b[0m\u001b[0;32m   1395\u001b[0m     \u001b[0mn_samples\u001b[0m \u001b[1;33m=\u001b[0m \u001b[0marrays\u001b[0m\u001b[1;33m[\u001b[0m\u001b[1;36m0\u001b[0m\u001b[1;33m]\u001b[0m\u001b[1;33m.\u001b[0m\u001b[0mshape\u001b[0m\u001b[1;33m[\u001b[0m\u001b[1;36m0\u001b[0m\u001b[1;33m]\u001b[0m\u001b[1;33m\u001b[0m\u001b[0m\n\u001b[0;32m   1396\u001b[0m     cv = ShuffleSplit(n_samples, test_size=test_size,\n",
        "\u001b[1;32m/home/ubuntu/miniconda3/lib/python3.3/site-packages/sklearn/utils/validation.py\u001b[0m in \u001b[0;36mcheck_arrays\u001b[1;34m(*arrays, **options)\u001b[0m\n\u001b[0;32m    209\u001b[0m         \u001b[1;32mif\u001b[0m \u001b[0msize\u001b[0m \u001b[1;33m!=\u001b[0m \u001b[0mn_samples\u001b[0m\u001b[1;33m:\u001b[0m\u001b[1;33m\u001b[0m\u001b[0m\n\u001b[0;32m    210\u001b[0m             raise ValueError(\"Found array with dim %d. Expected %d\"\n\u001b[1;32m--> 211\u001b[1;33m                              % (size, n_samples))\n\u001b[0m\u001b[0;32m    212\u001b[0m \u001b[1;33m\u001b[0m\u001b[0m\n\u001b[0;32m    213\u001b[0m         \u001b[1;32mif\u001b[0m \u001b[1;32mnot\u001b[0m \u001b[0mallow_lists\u001b[0m \u001b[1;32mor\u001b[0m \u001b[0mhasattr\u001b[0m\u001b[1;33m(\u001b[0m\u001b[0marray\u001b[0m\u001b[1;33m,\u001b[0m \u001b[1;34m\"shape\"\u001b[0m\u001b[1;33m)\u001b[0m\u001b[1;33m:\u001b[0m\u001b[1;33m\u001b[0m\u001b[0m\n",
        "\u001b[1;31mValueError\u001b[0m: Found array with dim 11828. Expected 17143"
       ]
      }
     ],
     "prompt_number": 31
    },
    {
     "cell_type": "code",
     "collapsed": false,
     "input": [
      "y_predict = est.predict(X_train)"
     ],
     "language": "python",
     "metadata": {},
     "outputs": [
      {
       "ename": "NameError",
       "evalue": "name 'est' is not defined",
       "output_type": "pyerr",
       "traceback": [
        "\u001b[1;31m---------------------------------------------------------------------------\u001b[0m\n\u001b[1;31mNameError\u001b[0m                                 Traceback (most recent call last)",
        "\u001b[1;32m<ipython-input-32-2aca40e08bb3>\u001b[0m in \u001b[0;36m<module>\u001b[1;34m()\u001b[0m\n\u001b[1;32m----> 1\u001b[1;33m \u001b[0my_predict\u001b[0m \u001b[1;33m=\u001b[0m \u001b[0mest\u001b[0m\u001b[1;33m.\u001b[0m\u001b[0mpredict\u001b[0m\u001b[1;33m(\u001b[0m\u001b[0mX_train\u001b[0m\u001b[1;33m)\u001b[0m\u001b[1;33m\u001b[0m\u001b[0m\n\u001b[0m",
        "\u001b[1;31mNameError\u001b[0m: name 'est' is not defined"
       ]
      }
     ],
     "prompt_number": 32
    },
    {
     "cell_type": "code",
     "collapsed": false,
     "input": [
      "from sklearn.metrics import classification_report\n",
      "\n",
      "cr = classification_report(y_test, y_predict)\n",
      "\n",
      "print(cr)"
     ],
     "language": "python",
     "metadata": {},
     "outputs": [
      {
       "ename": "NameError",
       "evalue": "name 'y_test' is not defined",
       "output_type": "pyerr",
       "traceback": [
        "\u001b[1;31m---------------------------------------------------------------------------\u001b[0m\n\u001b[1;31mNameError\u001b[0m                                 Traceback (most recent call last)",
        "\u001b[1;32m<ipython-input-22-c454b045fd48>\u001b[0m in \u001b[0;36m<module>\u001b[1;34m()\u001b[0m\n\u001b[0;32m      1\u001b[0m \u001b[1;32mfrom\u001b[0m \u001b[0msklearn\u001b[0m\u001b[1;33m.\u001b[0m\u001b[0mmetrics\u001b[0m \u001b[1;32mimport\u001b[0m \u001b[0mclassification_report\u001b[0m\u001b[1;33m\u001b[0m\u001b[0m\n\u001b[0;32m      2\u001b[0m \u001b[1;33m\u001b[0m\u001b[0m\n\u001b[1;32m----> 3\u001b[1;33m \u001b[0mcr\u001b[0m \u001b[1;33m=\u001b[0m \u001b[0mclassification_report\u001b[0m\u001b[1;33m(\u001b[0m\u001b[0my_test\u001b[0m\u001b[1;33m,\u001b[0m \u001b[0my_predict\u001b[0m\u001b[1;33m)\u001b[0m\u001b[1;33m\u001b[0m\u001b[0m\n\u001b[0m\u001b[0;32m      4\u001b[0m \u001b[1;33m\u001b[0m\u001b[0m\n\u001b[0;32m      5\u001b[0m \u001b[0mprint\u001b[0m\u001b[1;33m(\u001b[0m\u001b[0mcr\u001b[0m\u001b[1;33m)\u001b[0m\u001b[1;33m\u001b[0m\u001b[0m\n",
        "\u001b[1;31mNameError\u001b[0m: name 'y_test' is not defined"
       ]
      }
     ],
     "prompt_number": 22
    },
    {
     "cell_type": "code",
     "collapsed": false,
     "input": [
      "y_predict.shape"
     ],
     "language": "python",
     "metadata": {},
     "outputs": []
    },
    {
     "cell_type": "code",
     "collapsed": false,
     "input": [
      "errors = y_train - y_predict"
     ],
     "language": "python",
     "metadata": {},
     "outputs": []
    },
    {
     "cell_type": "code",
     "collapsed": false,
     "input": [
      "t_pos = (y_predict == 1).sum()\n",
      "t_neg = (y_predict == 0).sum()\n",
      "f_neg = (errors == 1).sum()\n",
      "f_pos = (errors == -1).sum()\n",
      "t_pos, t_neg, f_pos, f_neg"
     ],
     "language": "python",
     "metadata": {},
     "outputs": []
    },
    {
     "cell_type": "code",
     "collapsed": false,
     "input": [
      "f_pos/t_pos, f_neg/t_neg"
     ],
     "language": "python",
     "metadata": {},
     "outputs": []
    },
    {
     "cell_type": "markdown",
     "metadata": {},
     "source": [
      "## This is copied an pasted from the above scratchwork for use with the balanced dataset"
     ]
    },
    {
     "cell_type": "code",
     "collapsed": false,
     "input": [
      "balanced.columns[16:25], balanced.columns[200:202], balanced.columns[6]"
     ],
     "language": "python",
     "metadata": {},
     "outputs": [
      {
       "metadata": {},
       "output_type": "pyout",
       "prompt_number": 25,
       "text": [
        "(Index(['apol', 'a_acc', 'a_acid', 'a_aro', 'a_base', 'a_count', 'a_don', 'a_heavy', 'a_hyd'], dtype='object'),\n",
        " Index(['weinerPol', 'zagreb'], dtype='object'),\n",
        " 'binnedActivity')"
       ]
      }
     ],
     "prompt_number": 25
    },
    {
     "cell_type": "code",
     "collapsed": false,
     "input": [
      "datafr1 = balanced.ix[:,16:202]"
     ],
     "language": "python",
     "metadata": {},
     "outputs": [],
     "prompt_number": 26
    },
    {
     "cell_type": "code",
     "collapsed": false,
     "input": [
      "o = balanced[[6]]\n",
      "np.ravel(o)"
     ],
     "language": "python",
     "metadata": {},
     "outputs": [
      {
       "metadata": {},
       "output_type": "pyout",
       "prompt_number": 27,
       "text": [
        "array([0, 0, 1, ..., 0, 1, 0])"
       ]
      }
     ],
     "prompt_number": 27
    },
    {
     "cell_type": "code",
     "collapsed": false,
     "input": [
      "X, y = balanced.ix[:,16:202], np.ravel(o)\n",
      "\n",
      "# create 80%-20% train-test split\n",
      "X_train, X_test, y_train, y_test = train_test_split(X, y, test_size=0.2, random_state=1)\n",
      "\n",
      "# standardize data\n",
      "scaler = StandardScaler().fit(X_train)\n",
      "\n",
      "est = KNeighborsClassifier(5)\n",
      "est.fit(X_train, y_train)"
     ],
     "language": "python",
     "metadata": {},
     "outputs": [
      {
       "ename": "NameError",
       "evalue": "name 'StandardScaler' is not defined",
       "output_type": "pyerr",
       "traceback": [
        "\u001b[1;31m---------------------------------------------------------------------------\u001b[0m\n\u001b[1;31mNameError\u001b[0m                                 Traceback (most recent call last)",
        "\u001b[1;32m<ipython-input-33-21b973e37b59>\u001b[0m in \u001b[0;36m<module>\u001b[1;34m()\u001b[0m\n\u001b[0;32m      5\u001b[0m \u001b[1;33m\u001b[0m\u001b[0m\n\u001b[0;32m      6\u001b[0m \u001b[1;31m# standardize data\u001b[0m\u001b[1;33m\u001b[0m\u001b[1;33m\u001b[0m\u001b[0m\n\u001b[1;32m----> 7\u001b[1;33m \u001b[0mscaler\u001b[0m \u001b[1;33m=\u001b[0m \u001b[0mStandardScaler\u001b[0m\u001b[1;33m(\u001b[0m\u001b[1;33m)\u001b[0m\u001b[1;33m.\u001b[0m\u001b[0mfit\u001b[0m\u001b[1;33m(\u001b[0m\u001b[0mX_train\u001b[0m\u001b[1;33m)\u001b[0m\u001b[1;33m\u001b[0m\u001b[0m\n\u001b[0m\u001b[0;32m      8\u001b[0m \u001b[1;33m\u001b[0m\u001b[0m\n\u001b[0;32m      9\u001b[0m \u001b[0mest\u001b[0m \u001b[1;33m=\u001b[0m \u001b[0mKNeighborsClassifier\u001b[0m\u001b[1;33m(\u001b[0m\u001b[1;36m5\u001b[0m\u001b[1;33m)\u001b[0m\u001b[1;33m\u001b[0m\u001b[0m\n",
        "\u001b[1;31mNameError\u001b[0m: name 'StandardScaler' is not defined"
       ]
      }
     ],
     "prompt_number": 33
    },
    {
     "cell_type": "code",
     "collapsed": false,
     "input": [
      "y_predict = est.predict(X_test)"
     ],
     "language": "python",
     "metadata": {},
     "outputs": []
    },
    {
     "cell_type": "code",
     "collapsed": false,
     "input": [
      "y_predict.shape"
     ],
     "language": "python",
     "metadata": {},
     "outputs": []
    },
    {
     "cell_type": "code",
     "collapsed": false,
     "input": [
      "errors = y_test - y_predict"
     ],
     "language": "python",
     "metadata": {},
     "outputs": []
    },
    {
     "cell_type": "code",
     "collapsed": false,
     "input": [
      "t_pos = (y_predict == 1).sum()\n",
      "t_neg = (y_predict == 0).sum()\n",
      "f_neg = (errors == 1).sum()\n",
      "f_pos = (errors == -1).sum()\n",
      "t_pos, t_neg, f_pos, f_neg"
     ],
     "language": "python",
     "metadata": {},
     "outputs": []
    },
    {
     "cell_type": "code",
     "collapsed": false,
     "input": [
      "f_pos/t_pos, f_neg/t_neg"
     ],
     "language": "python",
     "metadata": {},
     "outputs": []
    },
    {
     "cell_type": "code",
     "collapsed": false,
     "input": [
      "# My way is above. The python way is below\n",
      "from sklearn.metrics import confusion_matrix\n",
      "\n",
      "cm = confusion_matrix(y_test, y_predict)\n",
      "\n",
      "print(cm)"
     ],
     "language": "python",
     "metadata": {},
     "outputs": []
    },
    {
     "cell_type": "code",
     "collapsed": false,
     "input": [
      "from sklearn.metrics import classification_report\n",
      "\n",
      "cr = classification_report(y_test, y_predict)\n",
      "\n",
      "print(cr)"
     ],
     "language": "python",
     "metadata": {},
     "outputs": []
    },
    {
     "cell_type": "markdown",
     "metadata": {},
     "source": [
      "### kNN on 2 principal components with graph - and now balanced"
     ]
    },
    {
     "cell_type": "code",
     "collapsed": false,
     "input": [
      "balanced = pd.read_csv('data/balanced2c19.csv')\n",
      "balanced.head(2)"
     ],
     "language": "python",
     "metadata": {},
     "outputs": [
      {
       "html": [
        "<div style=\"max-height:1000px;max-width:1500px;overflow:auto;\">\n",
        "<table border=\"1\" class=\"dataframe\">\n",
        "  <thead>\n",
        "    <tr style=\"text-align: right;\">\n",
        "      <th></th>\n",
        "      <th>SID</th>\n",
        "      <th>ActivityScore</th>\n",
        "      <th>apol</th>\n",
        "      <th>a_acc</th>\n",
        "      <th>a_acid</th>\n",
        "      <th>a_aro</th>\n",
        "      <th>a_base</th>\n",
        "      <th>a_count</th>\n",
        "      <th>a_don</th>\n",
        "      <th>a_heavy</th>\n",
        "      <th>...</th>\n",
        "      <th>vsa_acid</th>\n",
        "      <th>vsa_base</th>\n",
        "      <th>vsa_don</th>\n",
        "      <th>vsa_hyd</th>\n",
        "      <th>vsa_other</th>\n",
        "      <th>vsa_pol</th>\n",
        "      <th>Weight</th>\n",
        "      <th>weinerPath</th>\n",
        "      <th>weinerPol</th>\n",
        "      <th>zagreb</th>\n",
        "    </tr>\n",
        "  </thead>\n",
        "  <tbody>\n",
        "    <tr>\n",
        "      <th>0</th>\n",
        "      <td> 842238</td>\n",
        "      <td>  0</td>\n",
        "      <td> 51.111824</td>\n",
        "      <td> 1</td>\n",
        "      <td> 0</td>\n",
        "      <td> 6</td>\n",
        "      <td> 1</td>\n",
        "      <td> 46</td>\n",
        "      <td> 1</td>\n",
        "      <td> 21</td>\n",
        "      <td>...</td>\n",
        "      <td> 0</td>\n",
        "      <td> 0</td>\n",
        "      <td> 5.682576</td>\n",
        "      <td> 286.85770</td>\n",
        "      <td> 12.949531</td>\n",
        "      <td> 19.249496</td>\n",
        "      <td> 310.849</td>\n",
        "      <td> 1050</td>\n",
        "      <td> 30</td>\n",
        "      <td> 102</td>\n",
        "    </tr>\n",
        "    <tr>\n",
        "      <th>1</th>\n",
        "      <td> 842319</td>\n",
        "      <td> 20</td>\n",
        "      <td> 52.328274</td>\n",
        "      <td> 4</td>\n",
        "      <td> 0</td>\n",
        "      <td> 6</td>\n",
        "      <td> 0</td>\n",
        "      <td> 42</td>\n",
        "      <td> 0</td>\n",
        "      <td> 24</td>\n",
        "      <td>...</td>\n",
        "      <td> 0</td>\n",
        "      <td> 0</td>\n",
        "      <td> 0.000000</td>\n",
        "      <td> 241.82869</td>\n",
        "      <td> 36.550735</td>\n",
        "      <td> 61.022110</td>\n",
        "      <td> 362.474</td>\n",
        "      <td> 1295</td>\n",
        "      <td> 41</td>\n",
        "      <td> 126</td>\n",
        "    </tr>\n",
        "  </tbody>\n",
        "</table>\n",
        "<p>2 rows \u00d7 188 columns</p>\n",
        "</div>"
       ],
       "metadata": {},
       "output_type": "pyout",
       "prompt_number": 4,
       "text": [
        "      SID  ActivityScore       apol  a_acc  a_acid  a_aro  a_base  a_count  \\\n",
        "0  842238              0  51.111824      1       0      6       1       46   \n",
        "1  842319             20  52.328274      4       0      6       0       42   \n",
        "\n",
        "   a_don  a_heavy   ...     vsa_acid  vsa_base   vsa_don    vsa_hyd  \\\n",
        "0      1       21   ...            0         0  5.682576  286.85770   \n",
        "1      0       24   ...            0         0  0.000000  241.82869   \n",
        "\n",
        "   vsa_other    vsa_pol   Weight  weinerPath  weinerPol  zagreb  \n",
        "0  12.949531  19.249496  310.849        1050         30     102  \n",
        "1  36.550735  61.022110  362.474        1295         41     126  \n",
        "\n",
        "[2 rows x 188 columns]"
       ]
      }
     ],
     "prompt_number": 4
    },
    {
     "cell_type": "code",
     "collapsed": false,
     "input": [
      "f = lambda x: np.where( x >= 40,1,0)"
     ],
     "language": "python",
     "metadata": {},
     "outputs": [],
     "prompt_number": 24
    },
    {
     "cell_type": "code",
     "collapsed": false,
     "input": [
      "o = balanced['ActivityScore'].map(f)"
     ],
     "language": "python",
     "metadata": {},
     "outputs": [],
     "prompt_number": 26
    },
    {
     "cell_type": "code",
     "collapsed": false,
     "input": [],
     "language": "python",
     "metadata": {},
     "outputs": []
    },
    {
     "cell_type": "code",
     "collapsed": false,
     "input": [
      "from sklearn.decomposition import PCA\n",
      "\n",
      "#data = pd.read_csv('filename.csv')\n",
      "datafr2 = balanced.ix[:,2:188]\n",
      "#data_std = (data - data.mean()) / data.std()\n",
      "data_std = (datafr2 - datafr2.mean()) / (datafr2.std()-.0000001)\n",
      "\n",
      "pca = PCA(n_components=2)\n",
      "pca.fit(datafr2)\n",
      "pca.explained_variance_ratio_"
     ],
     "language": "python",
     "metadata": {},
     "outputs": [
      {
       "metadata": {},
       "output_type": "pyout",
       "prompt_number": 27,
       "text": [
        "array([ 0.98495925,  0.0064957 ])"
       ]
      }
     ],
     "prompt_number": 27
    },
    {
     "cell_type": "code",
     "collapsed": false,
     "input": [],
     "language": "python",
     "metadata": {},
     "outputs": []
    },
    {
     "cell_type": "code",
     "collapsed": false,
     "input": [],
     "language": "python",
     "metadata": {},
     "outputs": []
    },
    {
     "cell_type": "code",
     "collapsed": false,
     "input": [
      "data_reduced = pca.fit_transform(data_std)"
     ],
     "language": "python",
     "metadata": {},
     "outputs": [],
     "prompt_number": 28
    },
    {
     "cell_type": "code",
     "collapsed": false,
     "input": [
      "#o = balanced[[1]]\n",
      "y = ravel(o)\n",
      "y"
     ],
     "language": "python",
     "metadata": {},
     "outputs": [
      {
       "metadata": {},
       "output_type": "pyout",
       "prompt_number": 29,
       "text": [
        "array([0, 0, 1, ..., 0, 0, 1])"
       ]
      }
     ],
     "prompt_number": 29
    },
    {
     "cell_type": "code",
     "collapsed": false,
     "input": [
      "from sklearn.cross_validation import train_test_split\n",
      "\n",
      "# convert data into train and test data set, 80% and 20% split\n",
      "X_train, X_test, y_train, y_test = train_test_split(data_reduced, y, test_size=0.2)"
     ],
     "language": "python",
     "metadata": {},
     "outputs": [],
     "prompt_number": 30
    },
    {
     "cell_type": "code",
     "collapsed": false,
     "input": [
      "from sklearn.neighbors import KNeighborsClassifier\n",
      "\n",
      "est = KNeighborsClassifier(5)\n",
      "\n",
      "est.fit(X_train, y_train) # fit knn model\n",
      "y_predict = est.predict(X_test) # validate using test data\n",
      "y_test # show real test data"
     ],
     "language": "python",
     "metadata": {},
     "outputs": [
      {
       "metadata": {},
       "output_type": "pyout",
       "prompt_number": 31,
       "text": [
        "array([0, 1, 0, ..., 1, 0, 0])"
       ]
      }
     ],
     "prompt_number": 31
    },
    {
     "cell_type": "code",
     "collapsed": false,
     "input": [
      "from sklearn.metrics import confusion_matrix\n",
      "\n",
      "cm = confusion_matrix(y_test, y_predict)\n",
      "\n",
      "print(cm)"
     ],
     "language": "python",
     "metadata": {},
     "outputs": [
      {
       "output_type": "stream",
       "stream": "stdout",
       "text": [
        "[[736 483]\n",
        " [387 760]]\n"
       ]
      }
     ],
     "prompt_number": 32
    },
    {
     "cell_type": "code",
     "collapsed": false,
     "input": [
      "from sklearn.metrics import classification_report\n",
      "\n",
      "cr = classification_report(y_test, y_predict)\n",
      "\n",
      "print(cr)"
     ],
     "language": "python",
     "metadata": {},
     "outputs": [
      {
       "output_type": "stream",
       "stream": "stdout",
       "text": [
        "             precision    recall  f1-score   support\n",
        "\n",
        "          0       0.66      0.60      0.63      1219\n",
        "          1       0.61      0.66      0.64      1147\n",
        "\n",
        "avg / total       0.63      0.63      0.63      2366\n",
        "\n"
       ]
      }
     ],
     "prompt_number": 33
    },
    {
     "cell_type": "markdown",
     "metadata": {},
     "source": [
      "###This plotting setup doesn't work with current memory limitations. Get a bigger EC2 mebbe."
     ]
    },
    {
     "cell_type": "code",
     "collapsed": false,
     "input": [
      "import numpy as np\n",
      "import pylab as pl\n",
      "from matplotlib.colors import ListedColormap\n",
      "\n",
      "n_neighbors = 3\n",
      "\n",
      "X = data_reduced  # we only take the first two features. We could\n",
      "                      # avoid this ugly slicing by using a two-dim dataset\n",
      "y = y\n",
      "\n",
      "h = .02  # step size in the mesh\n",
      "\n",
      "# Create color maps\n",
      "cmap_light = ListedColormap(['#FFAAAA', '#AAFFAA', '#AAAAFF'])\n",
      "cmap_bold = ListedColormap(['#FF0000', '#00FF00', '#0000FF'])\n",
      "\n",
      "\n",
      "for weights in ['uniform', 'distance']:\n",
      "    # we create an instance of Neighbours Classifier and fit the data.\n",
      "    clf = KNeighborsClassifier(n_neighbors, weights=weights)\n",
      "    clf.fit(X, y)\n",
      "\n",
      "    # Plot the decision boundary. For that, we will assign a color to each\n",
      "    # point in the mesh [x_min, m_max]x[y_min, y_max].\n",
      "    x_min, x_max = X[:, 0].min() - 1, X[:, 0].max() + 1\n",
      "    y_min, y_max = X[:, 1].min() - 1, X[:, 1].max() + 1\n",
      "    xx, yy = np.meshgrid(np.arange(x_min, x_max, h),\n",
      "                         np.arange(y_min, y_max, h))\n",
      "    Z = clf.predict(np.c_[xx.ravel(), yy.ravel()])\n",
      "\n",
      "    # Put the result into a color plot\n",
      "    Z = Z.reshape(xx.shape)\n",
      "    pl.figure()\n",
      "    pl.pcolormesh(xx, yy, Z, cmap=cmap_light)\n",
      "\n",
      "    # Plot also the training points\n",
      "    pl.scatter(X[:, 0], X[:, 1], c=y, cmap=cmap_bold)\n",
      "    pl.xlim(xx.min(), xx.max())\n",
      "    pl.ylim(yy.min(), yy.max())\n",
      "    pl.title(\"2-Class classification (k = %i, weights = '%s')\"\n",
      "             % (n_neighbors, weights))\n",
      "\n",
      "pl.show()"
     ],
     "language": "python",
     "metadata": {},
     "outputs": []
    },
    {
     "cell_type": "code",
     "collapsed": false,
     "input": [
      "plt.prism() # gives us a nice color map\n",
      "plt.xlim(-22.5, 22.5)\n",
      "plt.ylim(-12.5, 20)\n",
      "plt.scatter(X_test[:, 0], X_test[:, 1], c=y_predict, marker='^')\n",
      "plt.scatter(X_train[:, 0], X_train[:, 1], c=y_train)\n",
      "print('Accuracy of KNN test set:', est.score(X_test, y_test))"
     ],
     "language": "python",
     "metadata": {},
     "outputs": [
      {
       "output_type": "stream",
       "stream": "stderr",
       "text": [
        "/home/ubuntu/miniconda3/lib/python3.3/site-packages/matplotlib/backends/backend_agg.py:517: DeprecationWarning: npy_PyFile_Dup is deprecated, use npy_PyFile_Dup2\n",
        "  filename_or_obj, self.figure.dpi)\n",
        "/home/ubuntu/miniconda3/lib/python3.3/site-packages/matplotlib/backends/backend_agg.py:517: DeprecationWarning: npy_PyFile_Dup is deprecated, use npy_PyFile_Dup2\n",
        "  filename_or_obj, self.figure.dpi)\n"
       ]
      },
      {
       "output_type": "stream",
       "stream": "stdout",
       "text": [
        "Accuracy of KNN test set: 0.632290786137\n"
       ]
      },
      {
       "metadata": {},
       "output_type": "display_data",
       "png": "[encoded data removed]",
       "text": [
        "<matplotlib.figure.Figure at 0x7fe8c307d990>"
       ]
      }
     ],
     "prompt_number": 36
    },
    {
     "cell_type": "code",
     "collapsed": false,
     "input": [
      "%reset array"
     ],
     "language": "python",
     "metadata": {},
     "outputs": []
    },
    {
     "cell_type": "code",
     "collapsed": false,
     "input": [],
     "language": "python",
     "metadata": {},
     "outputs": []
    }
   ],
   "metadata": {}
  }
 ]
}
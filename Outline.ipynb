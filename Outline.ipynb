{
 "metadata": {
  "name": "",
  "signature": "sha256:4dd87e75b12f92dbb8738ceb8790e15c5f4d7b6fa4ae99ae3634848c633e46f5"
 },
 "nbformat": 3,
 "nbformat_minor": 0,
 "worksheets": [
  {
   "cells": [
    {
     "cell_type": "heading",
     "level": 1,
     "metadata": {},
     "source": [
      "Modeling tools for QSAR"
     ]
    },
    {
     "cell_type": "heading",
     "level": 3,
     "metadata": {},
     "source": [
      "(Quantitative Structure Activity Relationship)"
     ]
    },
    {
     "cell_type": "markdown",
     "metadata": {},
     "source": [
      "This analysis uses data from a high-throughput screen of inhibitors of five isozymes of Cytochrome P450.\n",
      "\n",
      "Cytochrome P450s are arguably the most important class of enzymes in drug metabolism and xenobiotic clearance. CYPs catalyze the oxidation of organic substances, which frequently has the effect of making the substrate more hydrophilic, soluble and excretable.\n",
      "\n",
      "Substances that interfere with CYPs have the potential to upset the metabolism of any other concorently administered pharmaceutical substances. Therefore, incidental CYP inhibition is a constant concern in drug design and a frequent cause for drug candidate failure.\n",
      "\n",
      "In silico screening for CYP inhibition would save alot of time and money."
     ]
    },
    {
     "cell_type": "code",
     "collapsed": false,
     "input": [
      "import sys\n",
      "sys.version"
     ],
     "language": "python",
     "metadata": {},
     "outputs": [
      {
       "metadata": {},
       "output_type": "pyout",
       "prompt_number": 1,
       "text": [
        "'3.3.5 |Anaconda 1.9.2 (64-bit)| (default, Mar 10 2014, 11:19:31) \\n[GCC 4.1.2 20080704 (Red Hat 4.1.2-54)]'"
       ]
      }
     ],
     "prompt_number": 1
    },
    {
     "cell_type": "code",
     "collapsed": false,
     "input": [
      "import numpy as np\n",
      "np.version"
     ],
     "language": "python",
     "metadata": {},
     "outputs": [
      {
       "metadata": {},
       "output_type": "pyout",
       "prompt_number": 2,
       "text": [
        "<module 'numpy.version' from '/home/ubuntu/miniconda3/lib/python3.3/site-packages/numpy/version.py'>"
       ]
      }
     ],
     "prompt_number": 2
    },
    {
     "cell_type": "code",
     "collapsed": false,
     "input": [
      "matplotlib"
     ],
     "language": "python",
     "metadata": {},
     "outputs": [
      {
       "metadata": {},
       "output_type": "pyout",
       "prompt_number": 3,
       "text": [
        "<module 'matplotlib' from '/home/ubuntu/miniconda3/lib/python3.3/site-packages/matplotlib/__init__.py'>"
       ]
      }
     ],
     "prompt_number": 3
    },
    {
     "cell_type": "code",
     "collapsed": false,
     "input": [
      "%timeit np.linalg.eigvals(np.random.rand(100,100))"
     ],
     "language": "python",
     "metadata": {},
     "outputs": [
      {
       "output_type": "stream",
       "stream": "stdout",
       "text": [
        "100 loops, best of 3: 14 ms per loop\n"
       ]
      }
     ],
     "prompt_number": 4
    },
    {
     "cell_type": "markdown",
     "metadata": {},
     "source": [
      "##Reproducible research"
     ]
    },
    {
     "cell_type": "code",
     "collapsed": false,
     "input": [],
     "language": "python",
     "metadata": {},
     "outputs": [],
     "prompt_number": 2
    },
    {
     "cell_type": "markdown",
     "metadata": {},
     "source": [
      "### First pass at model in MOE\n"
     ]
    },
    {
     "cell_type": "code",
     "collapsed": false,
     "input": [],
     "language": "python",
     "metadata": {},
     "outputs": [],
     "prompt_number": 2
    },
    {
     "cell_type": "code",
     "collapsed": false,
     "input": [
      "from rdkit import Chem"
     ],
     "language": "python",
     "metadata": {},
     "outputs": [
      {
       "ename": "ImportError",
       "evalue": "No module named 'rdkit'",
       "output_type": "pyerr",
       "traceback": [
        "\u001b[1;31m---------------------------------------------------------------------------\u001b[0m\n\u001b[1;31mImportError\u001b[0m                               Traceback (most recent call last)",
        "\u001b[1;32m<ipython-input-2-17d7acb427ab>\u001b[0m in \u001b[0;36m<module>\u001b[1;34m()\u001b[0m\n\u001b[1;32m----> 1\u001b[1;33m \u001b[1;32mfrom\u001b[0m \u001b[0mrdkit\u001b[0m \u001b[1;32mimport\u001b[0m \u001b[0mChem\u001b[0m\u001b[1;33m\u001b[0m\u001b[0m\n\u001b[0m",
        "\u001b[1;31mImportError\u001b[0m: No module named 'rdkit'"
       ]
      }
     ],
     "prompt_number": 2
    },
    {
     "cell_type": "code",
     "collapsed": false,
     "input": [
      "import rdkit\n",
      "from rdkit.Chem import AllChem as Chem"
     ],
     "language": "python",
     "metadata": {},
     "outputs": [
      {
       "ename": "ImportError",
       "evalue": "No module named 'rdkit'",
       "output_type": "pyerr",
       "traceback": [
        "\u001b[1;31m---------------------------------------------------------------------------\u001b[0m\n\u001b[1;31mImportError\u001b[0m                               Traceback (most recent call last)",
        "\u001b[1;32m<ipython-input-1-ca0af5d00c9d>\u001b[0m in \u001b[0;36m<module>\u001b[1;34m()\u001b[0m\n\u001b[1;32m----> 1\u001b[1;33m \u001b[1;32mimport\u001b[0m \u001b[0mrdkit\u001b[0m\u001b[1;33m\u001b[0m\u001b[0m\n\u001b[0m\u001b[0;32m      2\u001b[0m \u001b[1;32mfrom\u001b[0m \u001b[0mrdkit\u001b[0m\u001b[1;33m.\u001b[0m\u001b[0mChem\u001b[0m \u001b[1;32mimport\u001b[0m \u001b[0mAllChem\u001b[0m \u001b[1;32mas\u001b[0m \u001b[0mChem\u001b[0m\u001b[1;33m\u001b[0m\u001b[0m\n",
        "\u001b[1;31mImportError\u001b[0m: No module named 'rdkit'"
       ]
      }
     ],
     "prompt_number": 1
    },
    {
     "cell_type": "code",
     "collapsed": false,
     "input": [],
     "language": "python",
     "metadata": {},
     "outputs": []
    },
    {
     "cell_type": "markdown",
     "metadata": {},
     "source": [
      "###Can I do my git business from this window too?"
     ]
    },
    {
     "cell_type": "code",
     "collapsed": false,
     "input": [
      "!git pull"
     ],
     "language": "python",
     "metadata": {},
     "outputs": [
      {
       "output_type": "stream",
       "stream": "stdout",
       "text": [
        "Already up-to-date.\r\n"
       ]
      }
     ],
     "prompt_number": 5
    },
    {
     "cell_type": "code",
     "collapsed": false,
     "input": [
      "##"
     ],
     "language": "python",
     "metadata": {},
     "outputs": []
    },
    {
     "cell_type": "code",
     "collapsed": false,
     "input": [],
     "language": "python",
     "metadata": {},
     "outputs": []
    },
    {
     "cell_type": "code",
     "collapsed": false,
     "input": [],
     "language": "python",
     "metadata": {},
     "outputs": []
    },
    {
     "cell_type": "code",
     "collapsed": false,
     "input": [
      "!sudo lshw"
     ],
     "language": "python",
     "metadata": {},
     "outputs": [
      {
       "output_type": "stream",
       "stream": "stdout",
       "text": [
        "\r",
        "\r",
        "DMI\r"
       ]
      },
      {
       "output_type": "stream",
       "stream": "stdout",
       "text": [
        "\r",
        "   \r",
        "SMP\r",
        "\r",
        "   \r",
        "PA-RISC\r",
        "\r",
        "       \r",
        "device-tree\r",
        "\r",
        "           \r",
        "SPD\r",
        "\r",
        "   \r",
        "memory\r",
        "\r",
        "      \r",
        "/proc/cpuinfo\r",
        "\r",
        "             \r",
        "CPUID\r",
        "\r",
        "     \r",
        "PCI (sysfs)\r"
       ]
      },
      {
       "output_type": "stream",
       "stream": "stdout",
       "text": [
        "\r",
        "           \r",
        "ISA PnP\r",
        "\r",
        "       \r",
        "PCMCIA\r",
        "\r",
        "      \r",
        "PCMCIA\r",
        "\r",
        "      \r",
        "kernel device tree (sysfs)\r",
        "\r",
        "                          \r",
        "USB\r",
        "\r",
        "   \r",
        "IDE\r",
        "\r",
        "   \r",
        "SCSI\r"
       ]
      },
      {
       "output_type": "stream",
       "stream": "stdout",
       "text": [
        "\r",
        "    \r",
        "Network interfaces\r",
        "\r",
        "                  \r",
        "Framebuffer devices\r",
        "\r",
        "                   \r",
        "Display\r",
        "\r",
        "       \r",
        "CPUFreq\r",
        "\r",
        "       \r",
        "ABI\r",
        "\r",
        "   \r",
        "\r",
        "domu-12-31-39-0b-10-be\r\n",
        "    description: Computer\r\n",
        "    width: 64 bits\r\n",
        "    capabilities: vsyscall32\r\n",
        "  *-core\r\n",
        "       description: Motherboard\r\n",
        "       physical id: 0\r\n",
        "     *-memory\r\n",
        "          description: System memory\r\n",
        "          physical id: 0\r\n",
        "          size: 590MiB\r\n",
        "     *-cpu\r\n",
        "          product: Intel(R) Xeon(R) CPU           E5430  @ 2.66GHz\r\n",
        "          vendor: Intel Corp.\r\n",
        "          physical id: 1\r\n",
        "          bus info: cpu@0\r\n",
        "          width: 64 bits\r\n",
        "          capabilities: fpu fpu_exception wp de tsc msr pae cx8 sep cmov pat clflush mmx fxsr sse sse2 ss ht syscall nx x86-64 constant_tsc up rep_good nopl pni ssse3 cx16 sse4_1 hypervisor lahf_lm\r\n",
        "  *-network\r\n",
        "       description: Ethernet interface\r\n",
        "       physical id: 1\r\n",
        "       logical name: eth0\r\n",
        "       serial: 12:31:39:0b:10:be\r\n",
        "       capabilities: ethernet physical\r\n",
        "       configuration: broadcast=yes driver=vif ip=10.214.23.76 link=yes multicast=yes\r\n"
       ]
      }
     ],
     "prompt_number": 2
    }
   ],
   "metadata": {}
  }
 ]
}
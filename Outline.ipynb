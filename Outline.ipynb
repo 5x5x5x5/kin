{
 "metadata": {
  "name": "",
  "signature": "sha256:60772ac5f2c3ea4c696fcfcb46c0ed241c49210b09f35cee41415eb0b4919a8f"
 },
 "nbformat": 3,
 "nbformat_minor": 0,
 "worksheets": [
  {
   "cells": [
    {
     "cell_type": "heading",
     "level": 1,
     "metadata": {},
     "source": [
      "Modeling tools for QSAR"
     ]
    },
    {
     "cell_type": "heading",
     "level": 3,
     "metadata": {},
     "source": [
      "(Quantitative Structure Activity Relationship)"
     ]
    },
    {
     "cell_type": "markdown",
     "metadata": {},
     "source": [
      "This analysis uses data from a high-throughput screen of inhibitors of five isozymes of Cytochrome P450.\n",
      "\n",
      "Cytochrome P450s are arguably the most important class of enzymes in drug metabolism and xenobiotic clearance. CYPs catalyze the oxidation of organic substances, which frequently has the effect of making the substrate more hydrophilic, soluble and excretable.\n",
      "\n",
      "Substances that interfere with CYPs have the potential to upset the metabolism of any other concurrently administered pharmaceutical substances. Therefore incidental CYP inhibition is a constant concern in drug development and a frequent cause of drug candidate failure.\n",
      "\n",
      "In silico screening for CYP inhibition would save alot of time and money."
     ]
    },
    {
     "cell_type": "code",
     "collapsed": false,
     "input": [
      "import sys\n",
      "sys.version"
     ],
     "language": "python",
     "metadata": {},
     "outputs": [
      {
       "metadata": {},
       "output_type": "pyout",
       "prompt_number": 12,
       "text": [
        "'3.3.5 |Anaconda 1.9.2 (64-bit)| (default, Mar 10 2014, 11:19:31) \\n[GCC 4.1.2 20080704 (Red Hat 4.1.2-54)]'"
       ]
      }
     ],
     "prompt_number": 12
    },
    {
     "cell_type": "code",
     "collapsed": false,
     "input": [
      "import numpy as np\n",
      "np.version.version"
     ],
     "language": "python",
     "metadata": {},
     "outputs": [
      {
       "metadata": {},
       "output_type": "pyout",
       "prompt_number": 19,
       "text": [
        "'1.8.0'"
       ]
      }
     ],
     "prompt_number": 19
    },
    {
     "cell_type": "code",
     "collapsed": false,
     "input": [
      "import pandas as pd\n",
      "pd.version.version"
     ],
     "language": "python",
     "metadata": {},
     "outputs": [
      {
       "metadata": {},
       "output_type": "pyout",
       "prompt_number": 20,
       "text": [
        "'0.13.1'"
       ]
      }
     ],
     "prompt_number": 20
    },
    {
     "cell_type": "code",
     "collapsed": false,
     "input": [
      "%timeit np.linalg.eigvals(np.random.rand(100,100))"
     ],
     "language": "python",
     "metadata": {},
     "outputs": [
      {
       "output_type": "stream",
       "stream": "stdout",
       "text": [
        "100 loops, best of 3: 14.4 ms per loop\n"
       ]
      }
     ],
     "prompt_number": 22
    },
    {
     "cell_type": "heading",
     "level": 3,
     "metadata": {},
     "source": [
      "Reproducible research"
     ]
    },
    {
     "cell_type": "markdown",
     "metadata": {},
     "source": [
      "* Do good science. Nothing is better at dimensionality reduction than asking a focused, well-considered question.\n",
      "* Precisely document things done by hand (or in spreadsheet or GUI)\n",
      "* Code and script as much as possible\n",
      "* Use a version control system\n",
      "* Document the software environment\n",
      "* Only save output that cannot be resconstructed from original data + code (except for presentation purposes)\n",
      "* Set seed whenever random numbers are generated for a non-trivial purpose\n",
      "* Automate as much of the analysis pipline as possible\n",
      " * Raw data -> processed data -> analysis -> report"
     ]
    },
    {
     "cell_type": "code",
     "collapsed": false,
     "input": [],
     "language": "python",
     "metadata": {},
     "outputs": []
    },
    {
     "cell_type": "heading",
     "level": 3,
     "metadata": {},
     "source": [
      "Getting Data"
     ]
    },
    {
     "cell_type": "markdown",
     "metadata": {},
     "source": [
      "Assay data from: \n",
      "\n",
      "**Comprehansive Characterization of Cytochrome P450 Isozyme Selectivity across Chemical Libraries** *Nat Biotechnology.* November ; 27(11): 1050-1055. doi:10.1038/nbt.1851\n",
      "\n",
      "The assay results and the chemical structure of substances tested are available as separately. I downloaded both files and manually merged them in a spreadsheet, merging on the SID number (Substance ID) with no mismatches. \n",
      "\n",
      "The Molecular Operating Environment loaded the merged .csv into a proprietary database format. MOE preprocessed the molecular structure of all ligands by calculating their 'washed' ro aqueous 3-D configurations. The 'washed' configurations were used to generate molecular descriptors. \n",
      "\n",
      "The resulting file was saved as a .csv, uploaded and made publicly available on www.figshare.com under the name supermergewashdescriptors.txt\n",
      "\n"
     ]
    },
    {
     "cell_type": "code",
     "collapsed": false,
     "input": [
      "!wget http://files.figshare.com/1471460/supermergewashdescriptors.txt"
     ],
     "language": "python",
     "metadata": {},
     "outputs": [
      {
       "output_type": "stream",
       "stream": "stdout",
       "text": [
        "--2014-05-05 18:22:19--  http://files.figshare.com/1471460/supermergewashdescriptors.txt\r\n",
        "Resolving files.figshare.com (files.figshare.com)... "
       ]
      },
      {
       "output_type": "stream",
       "stream": "stdout",
       "text": [
        "54.239.34.28\r\n",
        "Connecting to files.figshare.com (files.figshare.com)|54.239.34.28|:80... "
       ]
      },
      {
       "output_type": "stream",
       "stream": "stdout",
       "text": [
        "connected.\r\n",
        "HTTP request sent, awaiting response... "
       ]
      },
      {
       "output_type": "stream",
       "stream": "stdout",
       "text": [
        "200 OK\r\n",
        "Length: 49148674 (47M) [text/plain]\r\n",
        "Saving to: `supermergewashdescriptors.txt'\r\n",
        "\r\n",
        "\r",
        " 0% [                                       ] 0           --.-K/s              "
       ]
      },
      {
       "output_type": "stream",
       "stream": "stdout",
       "text": [
        "\r",
        " 0% [                                       ] 43,679       166K/s              "
       ]
      },
      {
       "output_type": "stream",
       "stream": "stdout",
       "text": [
        "\r",
        " 0% [                                       ] 96,239       183K/s              "
       ]
      },
      {
       "output_type": "stream",
       "stream": "stdout",
       "text": [
        "\r",
        " 0% [                                       ] 151,719      190K/s              "
       ]
      },
      {
       "output_type": "stream",
       "stream": "stdout",
       "text": [
        "\r",
        " 0% [                                       ] 215,959      202K/s              "
       ]
      },
      {
       "output_type": "stream",
       "stream": "stdout",
       "text": [
        "\r",
        " 0% [                                       ] 309,399      233K/s              "
       ]
      },
      {
       "output_type": "stream",
       "stream": "stdout",
       "text": [
        "\r",
        " 0% [                                       ] 475,839      310K/s              "
       ]
      },
      {
       "output_type": "stream",
       "stream": "stdout",
       "text": [
        "\r",
        " 1% [                                       ] 691,919      392K/s              "
       ]
      },
      {
       "output_type": "stream",
       "stream": "stdout",
       "text": [
        "\r",
        " 2% [                                       ] 1,118,239    567K/s              "
       ]
      },
      {
       "output_type": "stream",
       "stream": "stdout",
       "text": [
        "\r",
        " 3% [>                                      ] 1,573,759    717K/s              "
       ]
      },
      {
       "output_type": "stream",
       "stream": "stdout",
       "text": [
        "\r",
        " 4% [>                                      ] 2,287,699    953K/s              "
       ]
      },
      {
       "output_type": "stream",
       "stream": "stdout",
       "text": [
        "\r",
        " 6% [=>                                     ] 3,006,019   1.13M/s              "
       ]
      },
      {
       "output_type": "stream",
       "stream": "stdout",
       "text": [
        "\r",
        " 7% [=>                                     ] 3,679,079   1.28M/s              "
       ]
      },
      {
       "output_type": "stream",
       "stream": "stdout",
       "text": [
        "\r",
        " 9% [==>                                    ] 4,496,679   1.45M/s              "
       ]
      },
      {
       "output_type": "stream",
       "stream": "stdout",
       "text": [
        "\r",
        "10% [===>                                   ] 5,149,299   1.56M/s  eta 27s     "
       ]
      },
      {
       "output_type": "stream",
       "stream": "stdout",
       "text": [
        "\r",
        "11% [===>                                   ] 5,893,899   1.68M/s  eta 27s     "
       ]
      },
      {
       "output_type": "stream",
       "stream": "stdout",
       "text": [
        "\r",
        "13% [====>                                  ] 6,656,019   1.87M/s  eta 27s     "
       ]
      },
      {
       "output_type": "stream",
       "stream": "stdout",
       "text": [
        "\r",
        "14% [====>                                  ] 7,296,959   2.02M/s  eta 27s     "
       ]
      },
      {
       "output_type": "stream",
       "stream": "stdout",
       "text": [
        "\r",
        "16% [=====>                                 ] 8,110,179   2.33M/s  eta 27s     "
       ]
      },
      {
       "output_type": "stream",
       "stream": "stdout",
       "text": [
        "\r"
       ]
      },
      {
       "output_type": "stream",
       "stream": "stdout",
       "text": [
        "17% [=====>                                 ] 8,812,439   2.50M/s  eta 19s     "
       ]
      },
      {
       "output_type": "stream",
       "stream": "stdout",
       "text": [
        "\r",
        "19% [======>                                ] 9,489,879   2.67M/s  eta 19s     "
       ]
      },
      {
       "output_type": "stream",
       "stream": "stdout",
       "text": [
        "\r",
        "20% [=======>                               ] 10,292,879  2.98M/s  eta 19s     "
       ]
      },
      {
       "output_type": "stream",
       "stream": "stdout",
       "text": [
        "\r",
        "22% [=======>                               ] 10,960,099  3.11M/s  eta 19s     "
       ]
      },
      {
       "output_type": "stream",
       "stream": "stdout",
       "text": [
        "\r",
        "23% [========>                              ] 11,598,119  3.20M/s  eta 19s     "
       ]
      },
      {
       "output_type": "stream",
       "stream": "stdout",
       "text": [
        "\r",
        "25% [========>                              ] 12,357,319  3.29M/s  eta 15s     "
       ]
      },
      {
       "output_type": "stream",
       "stream": "stdout",
       "text": [
        "\r",
        "26% [=========>                             ] 13,126,739  3.38M/s  eta 15s     "
       ]
      },
      {
       "output_type": "stream",
       "stream": "stdout",
       "text": [
        "\r",
        "28% [=========>                             ] 13,766,219  3.41M/s  eta 15s     "
       ]
      },
      {
       "output_type": "stream",
       "stream": "stdout",
       "text": [
        "\r",
        "29% [==========>                            ] 14,550,239  3.43M/s  eta 15s     "
       ]
      },
      {
       "output_type": "stream",
       "stream": "stdout",
       "text": [
        "\r",
        "31% [===========>                           ] 15,277,319  3.38M/s  eta 15s     "
       ]
      },
      {
       "output_type": "stream",
       "stream": "stdout",
       "text": [
        "\r",
        "32% [===========>                           ] 15,981,039  3.38M/s  eta 13s     "
       ]
      },
      {
       "output_type": "stream",
       "stream": "stdout",
       "text": [
        "\r",
        "34% [============>                          ] 16,795,719  3.42M/s  eta 13s     "
       ]
      },
      {
       "output_type": "stream",
       "stream": "stdout",
       "text": [
        "\r",
        "35% [============>                          ] 17,433,739  3.39M/s  eta 13s     "
       ]
      },
      {
       "output_type": "stream",
       "stream": "stdout",
       "text": [
        "\r",
        "37% [=============>                         ] 18,220,679  3.40M/s  eta 13s     "
       ]
      },
      {
       "output_type": "stream",
       "stream": "stdout",
       "text": [
        "\r",
        "38% [==============>                        ] 18,949,219  3.39M/s  eta 13s     "
       ]
      },
      {
       "output_type": "stream",
       "stream": "stdout",
       "text": [
        "\r",
        "39% [==============>                        ] 19,591,619  3.39M/s  eta 11s     "
       ]
      },
      {
       "output_type": "stream",
       "stream": "stdout",
       "text": [
        "\r",
        "41% [===============>                       ] 20,441,339  3.41M/s  eta 11s     "
       ]
      },
      {
       "output_type": "stream",
       "stream": "stdout",
       "text": [
        "\r",
        "42% [===============>                       ] 21,095,419  3.38M/s  eta 11s     "
       ]
      },
      {
       "output_type": "stream",
       "stream": "stdout",
       "text": [
        "\r",
        "44% [================>                      ] 21,826,879  3.47M/s  eta 11s     "
       ]
      },
      {
       "output_type": "stream",
       "stream": "stdout",
       "text": [
        "\r",
        "45% [================>                      ] 22,593,379  3.46M/s  eta 11s     "
       ]
      },
      {
       "output_type": "stream",
       "stream": "stdout",
       "text": [
        "\r",
        "47% [=================>                     ] 23,237,239  3.43M/s  eta 9s      "
       ]
      },
      {
       "output_type": "stream",
       "stream": "stdout",
       "text": [
        "\r",
        "48% [==================>                    ] 24,019,799  3.43M/s  eta 9s      "
       ]
      },
      {
       "output_type": "stream",
       "stream": "stdout",
       "text": [
        "\r",
        "50% [==================>                    ] 24,743,959  3.42M/s  eta 9s      "
       ]
      },
      {
       "output_type": "stream",
       "stream": "stdout",
       "text": [
        "\r",
        "51% [===================>                   ] 25,380,519  3.43M/s  eta 9s      "
       ]
      },
      {
       "output_type": "stream",
       "stream": "stdout",
       "text": [
        "\r",
        "53% [===================>                   ] 26,217,099  3.46M/s  eta 9s      "
       ]
      },
      {
       "output_type": "stream",
       "stream": "stdout",
       "text": [
        "\r",
        "54% [====================>                  ] 26,897,459  3.42M/s  eta 8s      "
       ]
      },
      {
       "output_type": "stream",
       "stream": "stdout",
       "text": [
        "\r",
        "56% [====================>                  ] 27,536,939  3.39M/s  eta 8s      "
       ]
      },
      {
       "output_type": "stream",
       "stream": "stdout",
       "text": [
        "\r",
        "57% [=====================>                 ] 28,391,039  3.47M/s  eta 8s      "
       ]
      },
      {
       "output_type": "stream",
       "stream": "stdout",
       "text": [
        "\r",
        "59% [======================>                ] 29,048,039  3.41M/s  eta 8s      "
       ]
      },
      {
       "output_type": "stream",
       "stream": "stdout",
       "text": [
        "\r",
        "60% [======================>                ] 29,821,271  3.41M/s  eta 8s      "
       ]
      },
      {
       "output_type": "stream",
       "stream": "stdout",
       "text": [
        "\r",
        "62% [=======================>               ] 30,550,379  3.43M/s  eta 6s      "
       ]
      },
      {
       "output_type": "stream",
       "stream": "stdout",
       "text": [
        "\r",
        "63% [=======================>               ] 31,188,399  3.41M/s  eta 6s      "
       ]
      },
      {
       "output_type": "stream",
       "stream": "stdout",
       "text": [
        "\r",
        "64% [========================>              ] 31,899,419  3.39M/s  eta 6s      "
       ]
      },
      {
       "output_type": "stream",
       "stream": "stdout",
       "text": [
        "\r",
        "66% [========================>              ] 32,693,659  3.41M/s  eta 6s      "
       ]
      },
      {
       "output_type": "stream",
       "stream": "stdout",
       "text": [
        "\r",
        "67% [=========================>             ] 33,353,579  3.42M/s  eta 6s      "
       ]
      },
      {
       "output_type": "stream",
       "stream": "stdout",
       "text": [
        "\r",
        "69% [==========================>            ] 34,061,679  3.40M/s  eta 5s      "
       ]
      },
      {
       "output_type": "stream",
       "stream": "stdout",
       "text": [
        "\r",
        "70% [==========================>            ] 34,844,239  3.40M/s  eta 5s      "
       ]
      },
      {
       "output_type": "stream",
       "stream": "stdout",
       "text": [
        "\r",
        "72% [===========================>           ] 35,518,759  3.43M/s  eta 5s      "
       ]
      },
      {
       "output_type": "stream",
       "stream": "stdout",
       "text": [
        "\r",
        "73% [===========================>           ] 36,221,019  3.41M/s  eta 5s      "
       ]
      },
      {
       "output_type": "stream",
       "stream": "stdout",
       "text": [
        "\r",
        "75% [============================>          ] 36,988,979  3.41M/s  eta 5s      "
       ]
      },
      {
       "output_type": "stream",
       "stream": "stdout",
       "text": [
        "\r",
        "76% [============================>          ] 37,675,179  3.41M/s  eta 4s      "
       ]
      },
      {
       "output_type": "stream",
       "stream": "stdout",
       "text": [
        "\r"
       ]
      },
      {
       "output_type": "stream",
       "stream": "stdout",
       "text": [
        "78% [=============================>         ] 38,413,939  3.42M/s  eta 4s      "
       ]
      },
      {
       "output_type": "stream",
       "stream": "stdout",
       "text": [
        "\r",
        "79% [==============================>        ] 39,124,959  3.41M/s  eta 4s      "
       ]
      },
      {
       "output_type": "stream",
       "stream": "stdout",
       "text": [
        "\r",
        "81% [==============================>        ] 39,825,759  3.39M/s  eta 4s      "
       ]
      },
      {
       "output_type": "stream",
       "stream": "stdout",
       "text": [
        "\r",
        "82% [===============================>       ] 40,588,771  3.42M/s  eta 4s      "
       ]
      },
      {
       "output_type": "stream",
       "stream": "stdout",
       "text": [
        "\r",
        "83% [===============================>       ] 41,271,159  3.42M/s  eta 3s      "
       ]
      },
      {
       "output_type": "stream",
       "stream": "stdout",
       "text": [
        "\r",
        "85% [================================>      ] 41,982,179  3.42M/s  eta 3s      "
       ]
      },
      {
       "output_type": "stream",
       "stream": "stdout",
       "text": [
        "\r",
        "87% [================================>      ] 42,770,579  3.44M/s  eta 3s      "
       ]
      },
      {
       "output_type": "stream",
       "stream": "stdout",
       "text": [
        "\r",
        "88% [=================================>     ] 43,421,171  3.35M/s  eta 3s      "
       ]
      },
      {
       "output_type": "stream",
       "stream": "stdout",
       "text": [
        "\r",
        "90% [==================================>    ] 44,331,319  3.40M/s  eta 3s      "
       ]
      },
      {
       "output_type": "stream",
       "stream": "stdout",
       "text": [
        "\r",
        "91% [==================================>    ] 44,963,499  3.39M/s  eta 1s      "
       ]
      },
      {
       "output_type": "stream",
       "stream": "stdout",
       "text": [
        "\r",
        "92% [===================================>   ] 45,656,999  3.38M/s  eta 1s      "
       ]
      },
      {
       "output_type": "stream",
       "stream": "stdout",
       "text": [
        "\r",
        "94% [===================================>   ] 46,433,151  2.73M/s  eta 1s      "
       ]
      },
      {
       "output_type": "stream",
       "stream": "stdout",
       "text": [
        "\r",
        "95% [====================================>  ] 46,792,759  2.51M/s  eta 1s      "
       ]
      },
      {
       "output_type": "stream",
       "stream": "stdout",
       "text": [
        "\r",
        "96% [====================================>  ] 47,303,879  2.44M/s  eta 1s      "
       ]
      },
      {
       "output_type": "stream",
       "stream": "stdout",
       "text": [
        "\r",
        "97% [====================================>  ] 47,686,399  2.30M/s  eta 1s      "
       ]
      },
      {
       "output_type": "stream",
       "stream": "stdout",
       "text": [
        "\r",
        "97% [=====================================> ] 48,023,659  2.23M/s  eta 0s      "
       ]
      },
      {
       "output_type": "stream",
       "stream": "stdout",
       "text": [
        "\r",
        "98% [=====================================> ] 48,433,919  2.17M/s  eta 0s      "
       ]
      },
      {
       "output_type": "stream",
       "stream": "stdout",
       "text": [
        "\r",
        "99% [=====================================> ] 49,010,619  2.15M/s  eta 0s      "
       ]
      },
      {
       "output_type": "stream",
       "stream": "stdout",
       "text": [
        "\r",
        "100%[======================================>] 49,148,674  2.10M/s   in 17s     \r\n",
        "\r\n",
        "2014-05-05 18:22:36 (2.74 MB/s) - `supermergewashdescriptors.txt' saved [49148674/49148674]\r\n",
        "\r\n"
       ]
      }
     ],
     "prompt_number": 27
    },
    {
     "cell_type": "code",
     "collapsed": false,
     "input": [],
     "language": "python",
     "metadata": {},
     "outputs": []
    },
    {
     "cell_type": "heading",
     "level": 3,
     "metadata": {},
     "source": [
      "Shaping Data"
     ]
    },
    {
     "cell_type": "code",
     "collapsed": false,
     "input": [],
     "language": "python",
     "metadata": {},
     "outputs": []
    },
    {
     "cell_type": "heading",
     "level": 3,
     "metadata": {},
     "source": [
      "First pass at model in MOE\n"
     ]
    },
    {
     "cell_type": "code",
     "collapsed": false,
     "input": [],
     "language": "python",
     "metadata": {},
     "outputs": []
    },
    {
     "cell_type": "code",
     "collapsed": false,
     "input": [
      "from rdkit import Chem"
     ],
     "language": "python",
     "metadata": {},
     "outputs": []
    },
    {
     "cell_type": "code",
     "collapsed": false,
     "input": [
      "import rdkit\n",
      "from rdkit.Chem import AllChem as Chem"
     ],
     "language": "python",
     "metadata": {},
     "outputs": []
    },
    {
     "cell_type": "heading",
     "level": 3,
     "metadata": {},
     "source": [
      "Results from MOE binary classification"
     ]
    },
    {
     "cell_type": "code",
     "collapsed": false,
     "input": [],
     "language": "python",
     "metadata": {},
     "outputs": []
    },
    {
     "cell_type": "heading",
     "level": 3,
     "metadata": {},
     "source": [
      "Model Building with Python Tools\n",
      "One Isozyme, One Model"
     ]
    },
    {
     "cell_type": "code",
     "collapsed": false,
     "input": [],
     "language": "python",
     "metadata": {},
     "outputs": []
    },
    {
     "cell_type": "heading",
     "level": 3,
     "metadata": {},
     "source": [
      "Results from kNN model in scikit-learn"
     ]
    },
    {
     "cell_type": "code",
     "collapsed": false,
     "input": [],
     "language": "python",
     "metadata": {},
     "outputs": []
    },
    {
     "cell_type": "code",
     "collapsed": false,
     "input": [],
     "language": "python",
     "metadata": {},
     "outputs": []
    },
    {
     "cell_type": "code",
     "collapsed": false,
     "input": [],
     "language": "python",
     "metadata": {},
     "outputs": []
    },
    {
     "cell_type": "heading",
     "level": 3,
     "metadata": {},
     "source": [
      "Workflow"
     ]
    },
    {
     "cell_type": "markdown",
     "metadata": {},
     "source": [
      "- Semi-scripted analysis environment setup on EC2 instance of size appropriate to problem.\n",
      "- Analysis performed through browser interface to R server or in IPython Notebooks\n",
      "- Data hosted remotely and pulled into the environment as needed.\n",
      "- Analysis scripts saved and updated through a DCVS (git)\n",
      "- Results pushed to remote repositories.\n",
      "- EC2 instance shutdown or terminated."
     ]
    },
    {
     "cell_type": "code",
     "collapsed": false,
     "input": [],
     "language": "python",
     "metadata": {},
     "outputs": []
    },
    {
     "cell_type": "heading",
     "level": 4,
     "metadata": {},
     "source": [
      "Can I do my git business from this window too?"
     ]
    },
    {
     "cell_type": "code",
     "collapsed": false,
     "input": [
      "%%bash\n",
      "git config --global user.name \"Daniel Siegle\"\n",
      "git config --global user.email \"daniel.siegle@gmail.com\"\n",
      "\n",
      "# git congfig --global core.editor /usr/bin/emacs #if not set, git will \n",
      "# honor the $EDITOR environment variable\n",
      "\n",
      "git config --global color.ui \"auto\"\n",
      "\n",
      "git config --global credential.helper cache\n",
      "# Set the cache to timeout after 2 hours (settings in seconds)\n",
      "git config --global credential.helper 'cache --timeout=7200'"
     ],
     "language": "python",
     "metadata": {},
     "outputs": []
    },
    {
     "cell_type": "code",
     "collapsed": false,
     "input": [
      "!git pull"
     ],
     "language": "python",
     "metadata": {},
     "outputs": []
    },
    {
     "cell_type": "code",
     "collapsed": false,
     "input": [
      "##Save your stuff now and then execute this cell to add, commit and push\n",
      "!git add *\n",
      "!git commit -m 'adding git to notebook'\n"
     ],
     "language": "python",
     "metadata": {},
     "outputs": [
      {
       "output_type": "stream",
       "stream": "stdout",
       "text": [
        "[master e266c2d] adding git to notebook\r\n",
        " 1 file changed, 141 insertions(+), 5 deletions(-)\r\n"
       ]
      }
     ],
     "prompt_number": 17
    },
    {
     "cell_type": "code",
     "collapsed": false,
     "input": [
      "!git push -u origin master"
     ],
     "language": "python",
     "metadata": {},
     "outputs": [
      {
       "output_type": "stream",
       "stream": "stdout",
       "text": [
        "To https://github.com/5x5x5x5/kin.git\r\n",
        "   5a17f9d..e266c2d  master -> master\r\n"
       ]
      },
      {
       "output_type": "stream",
       "stream": "stdout",
       "text": [
        "Branch master set up to track remote branch master from origin.\r\n"
       ]
      }
     ],
     "prompt_number": 18
    },
    {
     "cell_type": "code",
     "collapsed": false,
     "input": [],
     "language": "python",
     "metadata": {},
     "outputs": []
    },
    {
     "cell_type": "code",
     "collapsed": false,
     "input": [
      "!sudo lshw"
     ],
     "language": "python",
     "metadata": {},
     "outputs": [
      {
       "output_type": "stream",
       "stream": "stdout",
       "text": [
        "\r",
        "\r",
        "DMI\r"
       ]
      },
      {
       "output_type": "stream",
       "stream": "stdout",
       "text": [
        "\r",
        "   \r",
        "SMP\r",
        "\r",
        "   \r",
        "PA-RISC\r",
        "\r",
        "       \r",
        "device-tree\r",
        "\r",
        "           \r",
        "SPD\r",
        "\r",
        "   \r",
        "memory\r",
        "\r",
        "      \r",
        "/proc/cpuinfo\r",
        "\r",
        "             \r",
        "CPUID\r",
        "\r",
        "     \r",
        "PCI (sysfs)\r"
       ]
      },
      {
       "output_type": "stream",
       "stream": "stdout",
       "text": [
        "\r",
        "           \r",
        "ISA PnP\r",
        "\r",
        "       \r",
        "PCMCIA\r",
        "\r",
        "      \r",
        "PCMCIA\r",
        "\r",
        "      \r",
        "kernel device tree (sysfs)\r",
        "\r",
        "                          \r",
        "USB\r",
        "\r",
        "   \r",
        "IDE\r",
        "\r",
        "   \r",
        "SCSI\r"
       ]
      },
      {
       "output_type": "stream",
       "stream": "stdout",
       "text": [
        "\r",
        "    \r",
        "Network interfaces\r",
        "\r",
        "                  \r",
        "Framebuffer devices\r",
        "\r",
        "                   \r",
        "Display\r",
        "\r",
        "       \r",
        "CPUFreq\r",
        "\r",
        "       \r",
        "ABI\r",
        "\r",
        "   \r",
        "\r",
        "domu-12-31-39-0b-10-be\r\n",
        "    description: Computer\r\n",
        "    width: 64 bits\r\n",
        "    capabilities: vsyscall32\r\n",
        "  *-core\r\n",
        "       description: Motherboard\r\n",
        "       physical id: 0\r\n",
        "     *-memory\r\n",
        "          description: System memory\r\n",
        "          physical id: 0\r\n",
        "          size: 590MiB\r\n",
        "     *-cpu\r\n",
        "          product: Intel(R) Xeon(R) CPU           E5430  @ 2.66GHz\r\n",
        "          vendor: Intel Corp.\r\n",
        "          physical id: 1\r\n",
        "          bus info: cpu@0\r\n",
        "          width: 64 bits\r\n",
        "          capabilities: fpu fpu_exception wp de tsc msr pae cx8 sep cmov pat clflush mmx fxsr sse sse2 ss ht syscall nx x86-64 constant_tsc up rep_good nopl pni ssse3 cx16 sse4_1 hypervisor lahf_lm\r\n",
        "  *-network\r\n",
        "       description: Ethernet interface\r\n",
        "       physical id: 1\r\n",
        "       logical name: eth0\r\n",
        "       serial: 12:31:39:0b:10:be\r\n",
        "       capabilities: ethernet physical\r\n",
        "       configuration: broadcast=yes driver=vif ip=10.214.23.76 link=yes multicast=yes\r\n"
       ]
      }
     ],
     "prompt_number": 16
    },
    {
     "cell_type": "code",
     "collapsed": false,
     "input": [],
     "language": "python",
     "metadata": {},
     "outputs": []
    }
   ],
   "metadata": {}
  }
 ]
}
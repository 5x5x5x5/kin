{
 "metadata": {
  "name": "",
  "signature": "sha256:97cdba9895397d739a5cf84e48a306768d1279b74a1a3d0d3ae8516092bbd740"
 },
 "nbformat": 3,
 "nbformat_minor": 0,
 "worksheets": [
  {
   "cells": [
    {
     "cell_type": "heading",
     "level": 1,
     "metadata": {},
     "source": [
      "Modeling tools for QSAR"
     ]
    },
    {
     "cell_type": "heading",
     "level": 3,
     "metadata": {},
     "source": [
      "(Quantitative Structure Activity Relationship)"
     ]
    },
    {
     "cell_type": "markdown",
     "metadata": {},
     "source": [
      "This analysis uses data from a high-throughput screen of inhibitors of five isozymes of Cytochrome P450.\n",
      "\n",
      "Cytochrome P450s are arguably the most important class of enzymes in drug metabolism and xenobiotic clearance. CYPs catalyze the oxidation of organic substances, which frequently has the effect of making the substrate more hydrophilic, soluble and excretable.\n",
      "\n",
      "Substances that interfere with CYPs have the potential to upset the metabolism of any other concurrently administered pharmaceutical substances. Therefore incidental CYP inhibition is a constant concern in drug development and a frequent cause of drug candidate failure.\n",
      "\n",
      "In silico screening for CYP inhibition would save alot of time and money during drug development."
     ]
    },
    {
     "cell_type": "code",
     "collapsed": false,
     "input": [
      "import sys\n",
      "sys.version"
     ],
     "language": "python",
     "metadata": {},
     "outputs": [
      {
       "metadata": {},
       "output_type": "pyout",
       "prompt_number": 1,
       "text": [
        "'3.3.5 |Anaconda 1.9.2 (64-bit)| (default, Mar 10 2014, 11:19:31) \\n[GCC 4.1.2 20080704 (Red Hat 4.1.2-54)]'"
       ]
      }
     ],
     "prompt_number": 1
    },
    {
     "cell_type": "code",
     "collapsed": false,
     "input": [
      "import numpy as np\n",
      "np.version.version"
     ],
     "language": "python",
     "metadata": {},
     "outputs": [
      {
       "metadata": {},
       "output_type": "pyout",
       "prompt_number": 2,
       "text": [
        "'1.8.0'"
       ]
      }
     ],
     "prompt_number": 2
    },
    {
     "cell_type": "code",
     "collapsed": false,
     "input": [
      "import pandas as pd\n",
      "pd.version.version"
     ],
     "language": "python",
     "metadata": {},
     "outputs": [
      {
       "metadata": {},
       "output_type": "pyout",
       "prompt_number": 3,
       "text": [
        "'0.13.1'"
       ]
      }
     ],
     "prompt_number": 3
    },
    {
     "cell_type": "code",
     "collapsed": false,
     "input": [
      "%timeit np.linalg.eigvals(np.random.rand(100,100))"
     ],
     "language": "python",
     "metadata": {},
     "outputs": [
      {
       "output_type": "stream",
       "stream": "stdout",
       "text": [
        "100 loops, best of 3: 14.4 ms per loop\n"
       ]
      }
     ],
     "prompt_number": 4
    },
    {
     "cell_type": "heading",
     "level": 3,
     "metadata": {},
     "source": [
      "Reproducible research"
     ]
    },
    {
     "cell_type": "markdown",
     "metadata": {},
     "source": [
      "* Do good science. Nothing is better at dimensionality reduction than asking a focused, well-considered question.\n",
      "* Precisely document things done by hand (or in spreadsheet or GUI)\n",
      "* Code and script as much as possible\n",
      "* Use a version control system\n",
      "* Document the software environment\n",
      "* Only save output that cannot be resconstructed from original data + code (except for presentation purposes)\n",
      "* Set seed whenever random numbers are generated for a non-trivial purpose\n",
      "* Automate as much of the analysis pipline as possible\n",
      " * Raw data -> processed data -> analysis -> report"
     ]
    },
    {
     "cell_type": "code",
     "collapsed": false,
     "input": [],
     "language": "python",
     "metadata": {},
     "outputs": []
    },
    {
     "cell_type": "heading",
     "level": 3,
     "metadata": {},
     "source": [
      "Getting Data"
     ]
    },
    {
     "cell_type": "markdown",
     "metadata": {},
     "source": [
      "Assay data from: \n",
      "\n",
      "**Comprehansive Characterization of Cytochrome P450 Isozyme Selectivity across Chemical Libraries** *Nat Biotechnology.* November ; 27(11): 1050-1055. doi:10.1038/nbt.1851\n",
      "\n",
      "The assay results and the chemical structure of substances tested are available as separately. I downloaded both files and manually merged them in a spreadsheet, merging on the SID number (Substance ID) with no mismatches. \n",
      "\n",
      "The Molecular Operating Environment loaded the merged .csv into a proprietary database format. MOE preprocessed the molecular structure of all ligands by calculating their 'washed' or aqueous 3-D configurations. The 'washed' configurations were used to generate molecular descriptors. \n",
      "\n",
      "The resulting file was saved as a .csv, uploaded and made publicly available on www.figshare.com under the name supermergewashdescriptors.txt\n",
      "\n",
      "The command below is used to download the processed data."
     ]
    },
    {
     "cell_type": "code",
     "collapsed": false,
     "input": [
      "!wget http://files.figshare.com/1471460/supermergewashdescriptors.txt"
     ],
     "language": "python",
     "metadata": {},
     "outputs": [
      {
       "output_type": "stream",
       "stream": "stdout",
       "text": [
        "--2014-05-06 03:11:02--  http://files.figshare.com/1471460/supermergewashdescriptors.txt\r\n",
        "Resolving files.figshare.com (files.figshare.com)... 54.239.36.20\r\n",
        "Connecting to files.figshare.com (files.figshare.com)|54.239.36.20|:80... "
       ]
      },
      {
       "output_type": "stream",
       "stream": "stdout",
       "text": [
        "connected.\r\n",
        "HTTP request sent, awaiting response... "
       ]
      },
      {
       "output_type": "stream",
       "stream": "stdout",
       "text": [
        "200 OK\r\n",
        "Length: 49148674 (47M) [text/plain]\r\n",
        "Saving to: `supermergewashdescriptors.txt'\r\n",
        "\r\n",
        "\r",
        " 0% [                                       ] 0           --.-K/s              "
       ]
      },
      {
       "output_type": "stream",
       "stream": "stdout",
       "text": [
        "\r",
        " 0% [                                       ] 43,679       163K/s              "
       ]
      },
      {
       "output_type": "stream",
       "stream": "stdout",
       "text": [
        "\r",
        " 0% [                                       ] 93,319       173K/s              "
       ]
      },
      {
       "output_type": "stream",
       "stream": "stdout",
       "text": [
        "\r",
        " 0% [                                       ] 145,879      181K/s              "
       ]
      },
      {
       "output_type": "stream",
       "stream": "stdout",
       "text": [
        "\r",
        " 0% [                                       ] 204,279      196K/s              "
       ]
      },
      {
       "output_type": "stream",
       "stream": "stdout",
       "text": [
        "\r",
        " 0% [                                       ] 259,759      207K/s              "
       ]
      },
      {
       "output_type": "stream",
       "stream": "stdout",
       "text": [
        "\r",
        " 0% [                                       ] 382,399      262K/s              "
       ]
      },
      {
       "output_type": "stream",
       "stream": "stdout",
       "text": [
        "\r",
        " 1% [                                       ] 563,439      337K/s              "
       ]
      },
      {
       "output_type": "stream",
       "stream": "stdout",
       "text": [
        "\r",
        " 1% [                                       ] 820,399      437K/s              "
       ]
      },
      {
       "output_type": "stream",
       "stream": "stdout",
       "text": [
        "\r",
        " 2% [>                                      ] 1,274,459    612K/s              "
       ]
      },
      {
       "output_type": "stream",
       "stream": "stdout",
       "text": [
        "\r",
        " 3% [>                                      ] 1,804,439    786K/s              "
       ]
      },
      {
       "output_type": "stream",
       "stream": "stdout",
       "text": [
        "\r",
        " 4% [>                                      ] 2,382,599    951K/s              "
       ]
      },
      {
       "output_type": "stream",
       "stream": "stdout",
       "text": [
        "\r",
        " 6% [=>                                     ] 3,195,251   1.15M/s              "
       ]
      },
      {
       "output_type": "stream",
       "stream": "stdout",
       "text": [
        "\r",
        " 7% [==>                                    ] 3,912,679   1.31M/s              "
       ]
      },
      {
       "output_type": "stream",
       "stream": "stdout",
       "text": [
        "\r",
        " 9% [==>                                    ] 4,557,999   1.42M/s  eta 30s     "
       ]
      },
      {
       "output_type": "stream",
       "stream": "stdout",
       "text": [
        "\r",
        "10% [===>                                   ] 5,366,839   1.57M/s  eta 30s     "
       ]
      },
      {
       "output_type": "stream",
       "stream": "stdout",
       "text": [
        "\r",
        "12% [===>                                   ] 6,093,919   1.75M/s  eta 30s     "
       ]
      },
      {
       "output_type": "stream",
       "stream": "stdout",
       "text": [
        "\r",
        "13% [====>                                  ] 6,742,159   1.92M/s  eta 30s     "
       ]
      },
      {
       "output_type": "stream",
       "stream": "stdout",
       "text": [
        "\r",
        "15% [====>                                  ] 7,553,919   2.13M/s  eta 30s     "
       ]
      },
      {
       "output_type": "stream",
       "stream": "stdout",
       "text": [
        "\r",
        "16% [=====>                                 ] 8,278,079   2.41M/s  eta 20s     "
       ]
      },
      {
       "output_type": "stream",
       "stream": "stdout",
       "text": [
        "\r",
        "18% [======>                                ] 8,937,999   2.58M/s  eta 20s     "
       ]
      },
      {
       "output_type": "stream",
       "stream": "stdout",
       "text": [
        "\r",
        "19% [======>                                ] 9,726,399   2.77M/s  eta 20s     "
       ]
      },
      {
       "output_type": "stream",
       "stream": "stdout",
       "text": [
        "\r",
        "21% [=======>                               ] 10,447,639  3.06M/s  eta 20s     "
       ]
      },
      {
       "output_type": "stream",
       "stream": "stdout",
       "text": [
        "\r",
        "22% [=======>                               ] 11,095,879  3.16M/s  eta 20s     "
       ]
      },
      {
       "output_type": "stream",
       "stream": "stdout",
       "text": [
        "\r",
        "24% [========>                              ] 11,855,079  3.25M/s  eta 16s     "
       ]
      },
      {
       "output_type": "stream",
       "stream": "stdout",
       "text": [
        "\r",
        "25% [=========>                             ] 12,617,199  3.38M/s  eta 16s     "
       ]
      },
      {
       "output_type": "stream",
       "stream": "stdout",
       "text": [
        "\r",
        "26% [=========>                             ] 13,269,819  3.41M/s  eta 16s     "
       ]
      },
      {
       "output_type": "stream",
       "stream": "stdout",
       "text": [
        "\r",
        "28% [==========>                            ] 13,942,879  3.38M/s  eta 16s     "
       ]
      },
      {
       "output_type": "stream",
       "stream": "stdout",
       "text": [
        "\r",
        "30% [==========>                            ] 14,751,719  3.41M/s  eta 16s     "
       ]
      },
      {
       "output_type": "stream",
       "stream": "stdout",
       "text": [
        "\r",
        "31% [===========>                           ] 15,445,219  3.42M/s  eta 13s     "
       ]
      },
      {
       "output_type": "stream",
       "stream": "stdout",
       "text": [
        "\r",
        "32% [===========>                           ] 16,089,079  3.38M/s  eta 13s     "
       ]
      },
      {
       "output_type": "stream",
       "stream": "stdout",
       "text": [
        "\r",
        "34% [============>                          ] 16,890,051  3.41M/s  eta 13s     "
       ]
      },
      {
       "output_type": "stream",
       "stream": "stdout",
       "text": [
        "\r",
        "35% [============>                          ] 17,614,779  3.43M/s  eta 13s     "
       ]
      },
      {
       "output_type": "stream",
       "stream": "stdout",
       "text": [
        "\r",
        "37% [=============>                         ] 18,267,399  3.39M/s  eta 13s     "
       ]
      },
      {
       "output_type": "stream",
       "stream": "stdout",
       "text": [
        "\r",
        "38% [==============>                        ] 19,000,319  3.39M/s  eta 11s     "
       ]
      },
      {
       "output_type": "stream",
       "stream": "stdout",
       "text": [
        "\r",
        "40% [==============>                        ] 19,766,819  3.43M/s  eta 11s     "
       ]
      },
      {
       "output_type": "stream",
       "stream": "stdout",
       "text": [
        "\r",
        "41% [===============>                       ] 20,442,799  3.39M/s  eta 11s     "
       ]
      },
      {
       "output_type": "stream",
       "stream": "stdout",
       "text": [
        "\r",
        "42% [===============>                       ] 21,123,159  3.38M/s  eta 11s     "
       ]
      },
      {
       "output_type": "stream",
       "stream": "stdout",
       "text": [
        "\r",
        "44% [================>                      ] 21,907,179  3.42M/s  eta 11s     "
       ]
      },
      {
       "output_type": "stream",
       "stream": "stdout",
       "text": [
        "\r",
        "46% [================>                      ] 22,612,359  3.40M/s  eta 10s     "
       ]
      },
      {
       "output_type": "stream",
       "stream": "stdout",
       "text": [
        "\r",
        "47% [=================>                     ] 23,257,679  3.38M/s  eta 10s     "
       ]
      },
      {
       "output_type": "stream",
       "stream": "stdout",
       "text": [
        "\r",
        "48% [==================>                    ] 24,050,459  3.42M/s  eta 10s     "
       ]
      },
      {
       "output_type": "stream",
       "stream": "stdout",
       "text": [
        "\r",
        "50% [==================>                    ] 24,764,399  3.41M/s  eta 10s     "
       ]
      },
      {
       "output_type": "stream",
       "stream": "stdout",
       "text": [
        "\r",
        "51% [===================>                   ] 25,435,999  3.38M/s  eta 10s     "
       ]
      },
      {
       "output_type": "stream",
       "stream": "stdout",
       "text": [
        "\r",
        "53% [===================>                   ] 26,201,039  3.42M/s  eta 8s      "
       ]
      },
      {
       "output_type": "stream",
       "stream": "stdout",
       "text": [
        "\r",
        "54% [====================>                  ] 26,923,739  3.40M/s  eta 8s      "
       ]
      },
      {
       "output_type": "stream",
       "stream": "stdout",
       "text": [
        "\r",
        "56% [====================>                  ] 27,605,559  3.40M/s  eta 8s      "
       ]
      },
      {
       "output_type": "stream",
       "stream": "stdout",
       "text": [
        "\r",
        "57% [=====================>                 ] 28,320,391  3.40M/s  eta 8s      "
       ]
      },
      {
       "output_type": "stream",
       "stream": "stdout",
       "text": [
        "\r",
        "59% [======================>                ] 29,080,159  3.40M/s  eta 8s      "
       ]
      },
      {
       "output_type": "stream",
       "stream": "stdout",
       "text": [
        "\r",
        "60% [======================>                ] 29,773,659  3.41M/s  eta 7s      "
       ]
      },
      {
       "output_type": "stream",
       "stream": "stdout",
       "text": [
        "\r",
        "61% [=======================>               ] 30,470,079  3.39M/s  eta 7s      "
       ]
      },
      {
       "output_type": "stream",
       "stream": "stdout",
       "text": [
        "\r",
        "63% [=======================>               ] 31,208,839  3.39M/s  eta 7s      "
       ]
      },
      {
       "output_type": "stream",
       "stream": "stdout",
       "text": [
        "\r",
        "64% [========================>              ] 31,924,239  3.42M/s  eta 7s      "
       ]
      },
      {
       "output_type": "stream",
       "stream": "stdout",
       "text": [
        "\r",
        "66% [========================>              ] 32,601,679  3.38M/s  eta 7s      "
       ]
      },
      {
       "output_type": "stream",
       "stream": "stdout",
       "text": [
        "\r",
        "67% [=========================>             ] 33,344,819  3.39M/s  eta 5s      "
       ]
      },
      {
       "output_type": "stream",
       "stream": "stdout",
       "text": [
        "\r",
        "69% [==========================>            ] 34,064,599  3.41M/s  eta 5s      "
       ]
      },
      {
       "output_type": "stream",
       "stream": "stdout",
       "text": [
        "\r",
        "70% [==========================>            ] 34,762,479  3.39M/s  eta 5s      "
       ]
      },
      {
       "output_type": "stream",
       "stream": "stdout",
       "text": [
        "\r",
        "72% [===========================>           ] 35,472,039  3.39M/s  eta 5s      "
       ]
      },
      {
       "output_type": "stream",
       "stream": "stdout",
       "text": [
        "\r",
        "73% [===========================>           ] 36,218,099  3.40M/s  eta 5s      "
       ]
      },
      {
       "output_type": "stream",
       "stream": "stdout",
       "text": [
        "\r",
        "75% [============================>          ] 36,918,899  3.39M/s  eta 4s      "
       ]
      },
      {
       "output_type": "stream",
       "stream": "stdout",
       "text": [
        "\r",
        "76% [============================>          ] 37,590,499  3.38M/s  eta 4s      "
       ]
      },
      {
       "output_type": "stream",
       "stream": "stdout",
       "text": [
        "\r",
        "78% [=============================>         ] 38,338,019  3.39M/s  eta 4s      "
       ]
      },
      {
       "output_type": "stream",
       "stream": "stdout",
       "text": [
        "\r",
        "79% [=============================>         ] 39,049,039  3.39M/s  eta 4s      "
       ]
      },
      {
       "output_type": "stream",
       "stream": "stdout",
       "text": [
        "\r",
        "80% [==============================>        ] 39,749,839  3.39M/s  eta 4s      "
       ]
      },
      {
       "output_type": "stream",
       "stream": "stdout",
       "text": [
        "\r",
        "82% [===============================>       ] 40,500,279  3.39M/s  eta 3s      "
       ]
      },
      {
       "output_type": "stream",
       "stream": "stdout",
       "text": [
        "\r",
        "83% [===============================>       ] 41,221,519  3.39M/s  eta 3s      "
       ]
      },
      {
       "output_type": "stream",
       "stream": "stdout",
       "text": [
        "\r",
        "85% [================================>      ] 41,910,639  3.40M/s  eta 3s      "
       ]
      },
      {
       "output_type": "stream",
       "stream": "stdout",
       "text": [
        "\r",
        "86% [================================>      ] 42,633,339  3.39M/s  eta 3s      "
       ]
      },
      {
       "output_type": "stream",
       "stream": "stdout",
       "text": [
        "\r",
        "88% [=================================>     ] 43,356,039  3.39M/s  eta 3s      "
       ]
      },
      {
       "output_type": "stream",
       "stream": "stdout",
       "text": [
        "\r",
        "89% [=================================>     ] 44,043,131  3.39M/s  eta 2s      "
       ]
      },
      {
       "output_type": "stream",
       "stream": "stdout",
       "text": [
        "\r",
        "91% [==================================>    ] 44,759,991  3.37M/s  eta 2s      "
       ]
      },
      {
       "output_type": "stream",
       "stream": "stdout",
       "text": [
        "\r",
        "92% [===================================>   ] 45,483,259  3.38M/s  eta 2s      "
       ]
      },
      {
       "output_type": "stream",
       "stream": "stdout",
       "text": [
        "\r",
        "94% [===================================>   ] 46,204,499  3.39M/s  eta 2s      "
       ]
      },
      {
       "output_type": "stream",
       "stream": "stdout",
       "text": [
        "\r",
        "95% [====================================>  ] 46,896,539  3.37M/s  eta 2s      "
       ]
      },
      {
       "output_type": "stream",
       "stream": "stdout",
       "text": [
        "\r",
        "96% [====================================>  ] 47,636,759  3.38M/s  eta 0s      "
       ]
      },
      {
       "output_type": "stream",
       "stream": "stdout",
       "text": [
        "\r",
        "98% [=====================================> ] 48,357,999  3.38M/s  eta 0s      "
       ]
      },
      {
       "output_type": "stream",
       "stream": "stdout",
       "text": [
        "\r",
        "99% [=====================================> ] 49,067,559  3.38M/s  eta 0s      "
       ]
      },
      {
       "output_type": "stream",
       "stream": "stdout",
       "text": [
        "\r",
        "100%[======================================>] 49,148,674  3.38M/s   in 16s     \r\n",
        "\r\n",
        "2014-05-06 03:11:18 (3.01 MB/s) - `supermergewashdescriptors.txt' saved [49148674/49148674]\r\n",
        "\r\n"
       ]
      }
     ],
     "prompt_number": 24
    },
    {
     "cell_type": "code",
     "collapsed": false,
     "input": [],
     "language": "python",
     "metadata": {},
     "outputs": []
    },
    {
     "cell_type": "heading",
     "level": 3,
     "metadata": {},
     "source": [
      "And now the automated way to get the data"
     ]
    },
    {
     "cell_type": "code",
     "collapsed": false,
     "input": [
      "# Download bioassy data directly from PubChem\n",
      "!wget ftp://ftp-private.ncbi.nlm.nih.gov/pubchem/.fetch/76/651210585800200599.csv -P data/"
     ],
     "language": "python",
     "metadata": {},
     "outputs": [
      {
       "output_type": "stream",
       "stream": "stdout",
       "text": [
        "--2014-05-06 03:16:23--  ftp://ftp-private.ncbi.nlm.nih.gov/pubchem/.fetch/76/651210585800200599.csv\r\n",
        "           => `data/651210585800200599.csv.1'\r\n",
        "Resolving ftp-private.ncbi.nlm.nih.gov (ftp-private.ncbi.nlm.nih.gov)... 130.14.29.30\r\n",
        "Connecting to ftp-private.ncbi.nlm.nih.gov (ftp-private.ncbi.nlm.nih.gov)|130.14.29.30|:21... connected.\r\n",
        "Logging in as anonymous ... Logged in!\r\n",
        "==> SYST ... "
       ]
      },
      {
       "output_type": "stream",
       "stream": "stdout",
       "text": [
        "done.    ==> PWD ... done.\r\n",
        "==> TYPE I ... done.  ==> CWD (1) /pubchem/.fetch/76 ... done.\r\n",
        "==> SIZE 651210585800200599.csv ... 12687619\r\n",
        "==> PASV ... done.    ==> RETR 651210585800200599.csv ... done.\r\n",
        "Length: 12687619 (12M) (unauthoritative)\r\n",
        "\r\n",
        "\r",
        " 0% [                                       ] 0           --.-K/s              "
       ]
      },
      {
       "output_type": "stream",
       "stream": "stdout",
       "text": [
        "\r",
        "20% [======>                                ] 2,587,548   12.3M/s              "
       ]
      },
      {
       "output_type": "stream",
       "stream": "stdout",
       "text": [
        "\r",
        "61% [======================>                ] 7,783,908   18.5M/s              "
       ]
      },
      {
       "output_type": "stream",
       "stream": "stdout",
       "text": [
        "\r",
        "94% [===================================>   ] 12,009,172  19.1M/s              "
       ]
      },
      {
       "output_type": "stream",
       "stream": "stdout",
       "text": [
        "\r",
        "100%[======================================>] 12,687,619  19.2M/s   in 0.6s    \r\n",
        "\r\n",
        "2014-05-06 03:16:24 (19.2 MB/s) - `data/651210585800200599.csv.1' saved [12687619]\r\n",
        "\r\n"
       ]
      }
     ],
     "prompt_number": 27
    },
    {
     "cell_type": "code",
     "collapsed": false,
     "input": [
      "# Rename the file into something easier to work with.\n",
      "cp data/651210585800200599.csv data/1851bioassay.csv"
     ],
     "language": "python",
     "metadata": {},
     "outputs": [
      {
       "output_type": "stream",
       "stream": "stdout",
       "text": [
        "cp: overwrite `data/1851bioassay.csv'? "
       ]
      },
      {
       "output_type": "stream",
       "stream": "stdout",
       "text": [
        "^C\r\n"
       ]
      }
     ],
     "prompt_number": 28
    },
    {
     "cell_type": "code",
     "collapsed": false,
     "input": [
      "# Download the molecular structures directly from PubChem\n",
      "!wget ftp://ftp-private.ncbi.nlm.nih.gov/pubchem/.fetch/43/4334155645825289062.txt -P data/"
     ],
     "language": "python",
     "metadata": {},
     "outputs": [
      {
       "output_type": "stream",
       "stream": "stdout",
       "text": [
        "--2014-05-06 03:01:10--  ftp://ftp-private.ncbi.nlm.nih.gov/pubchem/.fetch/43/4334155645825289062.txt\r\n",
        "           => `data/4334155645825289062.txt'\r\n",
        "Resolving ftp-private.ncbi.nlm.nih.gov (ftp-private.ncbi.nlm.nih.gov)... 130.14.29.30\r\n",
        "Connecting to ftp-private.ncbi.nlm.nih.gov (ftp-private.ncbi.nlm.nih.gov)|130.14.29.30|:21... connected.\r\n",
        "Logging in as anonymous ... "
       ]
      },
      {
       "output_type": "stream",
       "stream": "stdout",
       "text": [
        "Logged in!\r\n",
        "==> SYST ... done.    ==> PWD ... done.\r\n",
        "==> TYPE I ... done.  ==> CWD (1) /pubchem/.fetch/43 ... done.\r\n",
        "==> SIZE 4334155645825289062.txt ... 1051404\r\n",
        "==> PASV ... "
       ]
      },
      {
       "output_type": "stream",
       "stream": "stdout",
       "text": [
        "done.    ==> RETR 4334155645825289062.txt ... done.\r\n",
        "Length: 1051404 (1.0M) (unauthoritative)\r\n",
        "\r\n",
        "\r",
        " 0% [                                       ] 0           --.-K/s              "
       ]
      },
      {
       "output_type": "stream",
       "stream": "stdout",
       "text": [
        "\r",
        "100%[======================================>] 1,051,404   --.-K/s   in 0.07s   \r\n",
        "\r\n",
        "2014-05-06 03:01:10 (13.4 MB/s) - `data/4334155645825289062.txt' saved [1051404]\r\n",
        "\r\n"
       ]
      }
     ],
     "prompt_number": 10
    },
    {
     "cell_type": "code",
     "collapsed": false,
     "input": [
      "# Rename file into something easier to work with.\n",
      "cp data/4334155645825289062.txt data/1851smiles.txt"
     ],
     "language": "python",
     "metadata": {},
     "outputs": [],
     "prompt_number": 14
    },
    {
     "cell_type": "code",
     "collapsed": false,
     "input": [
      "# Load the data into a DataFrame\n",
      "bioassay = pd.read_csv('data/1851bioassay.csv')"
     ],
     "language": "python",
     "metadata": {},
     "outputs": [
      {
       "output_type": "stream",
       "stream": "stderr",
       "text": [
        "/home/ubuntu/miniconda3/lib/python3.3/site-packages/pandas/io/parsers.py:1070: DtypeWarning: Columns (12) have mixed types. Specify dtype option on import or set low_memory=False.\n",
        "  data = self._reader.read(nrows)\n"
       ]
      }
     ],
     "prompt_number": 15
    },
    {
     "cell_type": "code",
     "collapsed": false,
     "input": [
      "# Inspect the first three rows of the DataFrame.\n",
      "bioassay.head(3)"
     ],
     "language": "python",
     "metadata": {},
     "outputs": [
      {
       "html": [
        "<div style=\"max-height:1000px;max-width:1500px;overflow:auto;\">\n",
        "<table border=\"1\" class=\"dataframe\">\n",
        "  <thead>\n",
        "    <tr style=\"text-align: right;\">\n",
        "      <th></th>\n",
        "      <th>#</th>\n",
        "      <th>SID</th>\n",
        "      <th>CID</th>\n",
        "      <th>BioAssay_Source</th>\n",
        "      <th>RankScore</th>\n",
        "      <th>Outcome</th>\n",
        "      <th>Xref</th>\n",
        "      <th>URL</th>\n",
        "      <th>Comment</th>\n",
        "      <th>DepositDate</th>\n",
        "      <th>Inhibition Observed</th>\n",
        "      <th>Approved Drug</th>\n",
        "      <th>Collection</th>\n",
        "      <th>Analysis Comment</th>\n",
        "      <th>Activity Outcome</th>\n",
        "      <th>Activity Score</th>\n",
        "      <th>p450-cyp2c19-Potency_&amp;#956;M</th>\n",
        "      <th>p450-cyp2c19-Curve_Description</th>\n",
        "      <th>p450-cyp2c19-Fit_LogAC50</th>\n",
        "      <th>p450-cyp2c19-Fit_HillSlope</th>\n",
        "      <th></th>\n",
        "    </tr>\n",
        "  </thead>\n",
        "  <tbody>\n",
        "    <tr>\n",
        "      <th>0</th>\n",
        "      <td> 1</td>\n",
        "      <td> 26751441</td>\n",
        "      <td> 10847630</td>\n",
        "      <td> NCGC</td>\n",
        "      <td>NaN</td>\n",
        "      <td> Unspecified</td>\n",
        "      <td>NaN</td>\n",
        "      <td>NaN</td>\n",
        "      <td>NaN</td>\n",
        "      <td> 2009/07/08</td>\n",
        "      <td> False</td>\n",
        "      <td> Exploratory</td>\n",
        "      <td> NaN</td>\n",
        "      <td>NaN</td>\n",
        "      <td> 1</td>\n",
        "      <td>  0</td>\n",
        "      <td>     NaN</td>\n",
        "      <td>                             NaN</td>\n",
        "      <td> NaN</td>\n",
        "      <td>   NaN</td>\n",
        "      <td>...</td>\n",
        "    </tr>\n",
        "    <tr>\n",
        "      <th>1</th>\n",
        "      <td> 2</td>\n",
        "      <td> 26751440</td>\n",
        "      <td> 16758818</td>\n",
        "      <td> NCGC</td>\n",
        "      <td>NaN</td>\n",
        "      <td> Unspecified</td>\n",
        "      <td>NaN</td>\n",
        "      <td>NaN</td>\n",
        "      <td>NaN</td>\n",
        "      <td> 2009/07/08</td>\n",
        "      <td> False</td>\n",
        "      <td> Exploratory</td>\n",
        "      <td> NaN</td>\n",
        "      <td>NaN</td>\n",
        "      <td> 1</td>\n",
        "      <td>  0</td>\n",
        "      <td>     NaN</td>\n",
        "      <td>                             NaN</td>\n",
        "      <td> NaN</td>\n",
        "      <td>   NaN</td>\n",
        "      <td>...</td>\n",
        "    </tr>\n",
        "    <tr>\n",
        "      <th>2</th>\n",
        "      <td> 3</td>\n",
        "      <td> 26751439</td>\n",
        "      <td> 16758817</td>\n",
        "      <td> NCGC</td>\n",
        "      <td>NaN</td>\n",
        "      <td> Unspecified</td>\n",
        "      <td>NaN</td>\n",
        "      <td>NaN</td>\n",
        "      <td>NaN</td>\n",
        "      <td> 2009/07/08</td>\n",
        "      <td>  True</td>\n",
        "      <td> Exploratory</td>\n",
        "      <td> NaN</td>\n",
        "      <td>NaN</td>\n",
        "      <td> 2</td>\n",
        "      <td> 44</td>\n",
        "      <td> 1.58489</td>\n",
        "      <td> Partial curve; partial efficacy</td>\n",
        "      <td>-5.8</td>\n",
        "      <td> 3.132</td>\n",
        "      <td>...</td>\n",
        "    </tr>\n",
        "  </tbody>\n",
        "</table>\n",
        "<p>3 rows \u00d7 150 columns</p>\n",
        "</div>"
       ],
       "metadata": {},
       "output_type": "pyout",
       "prompt_number": 19,
       "text": [
        "   #       SID       CID BioAssay_Source  RankScore      Outcome  Xref  URL  \\\n",
        "0  1  26751441  10847630            NCGC        NaN  Unspecified   NaN  NaN   \n",
        "1  2  26751440  16758818            NCGC        NaN  Unspecified   NaN  NaN   \n",
        "2  3  26751439  16758817            NCGC        NaN  Unspecified   NaN  NaN   \n",
        "\n",
        "   Comment DepositDate Inhibition Observed Approved Drug Collection  \\\n",
        "0      NaN  2009/07/08               False   Exploratory        NaN   \n",
        "1      NaN  2009/07/08               False   Exploratory        NaN   \n",
        "2      NaN  2009/07/08                True   Exploratory        NaN   \n",
        "\n",
        "   Analysis Comment  Activity Outcome  Activity Score  \\\n",
        "0               NaN                 1               0   \n",
        "1               NaN                 1               0   \n",
        "2               NaN                 2              44   \n",
        "\n",
        "   p450-cyp2c19-Potency_&#956;M   p450-cyp2c19-Curve_Description  \\\n",
        "0                           NaN                              NaN   \n",
        "1                           NaN                              NaN   \n",
        "2                       1.58489  Partial curve; partial efficacy   \n",
        "\n",
        "   p450-cyp2c19-Fit_LogAC50  p450-cyp2c19-Fit_HillSlope      \n",
        "0                       NaN                         NaN ...  \n",
        "1                       NaN                         NaN ...  \n",
        "2                      -5.8                       3.132 ...  \n",
        "\n",
        "[3 rows x 150 columns]"
       ]
      }
     ],
     "prompt_number": 19
    },
    {
     "cell_type": "code",
     "collapsed": false,
     "input": [
      "# Load the structure data into a DataFrame\n",
      "smiles = pd.read_table('data/1851smiles.txt', sep='\\t', names=('SID', 'SMILES'))"
     ],
     "language": "python",
     "metadata": {},
     "outputs": [],
     "prompt_number": 17
    },
    {
     "cell_type": "code",
     "collapsed": false,
     "input": [
      "# Inspect the first five rows of the DataFrame.\n",
      "smiles.head(5)"
     ],
     "language": "python",
     "metadata": {},
     "outputs": [
      {
       "html": [
        "<div style=\"max-height:1000px;max-width:1500px;overflow:auto;\">\n",
        "<table border=\"1\" class=\"dataframe\">\n",
        "  <thead>\n",
        "    <tr style=\"text-align: right;\">\n",
        "      <th></th>\n",
        "      <th>SID</th>\n",
        "      <th>SMILES</th>\n",
        "    </tr>\n",
        "  </thead>\n",
        "  <tbody>\n",
        "    <tr>\n",
        "      <th>0</th>\n",
        "      <td> 26751441</td>\n",
        "      <td>                     COC(=O)NC/C=C\\C1=NC(=CO1)CCCO</td>\n",
        "    </tr>\n",
        "    <tr>\n",
        "      <th>1</th>\n",
        "      <td> 26751440</td>\n",
        "      <td> C[C@H](C1=CC=CC=C1)N2C(=O)[C@@H]3CC[C@H]4[C@H]...</td>\n",
        "    </tr>\n",
        "    <tr>\n",
        "      <th>2</th>\n",
        "      <td> 26751439</td>\n",
        "      <td> CCN1C(=O)[C@H]2CC=C3[C@H]([C@H]2C1=O)[C@@H]([C...</td>\n",
        "    </tr>\n",
        "    <tr>\n",
        "      <th>3</th>\n",
        "      <td> 26751438</td>\n",
        "      <td> C1COC2([C@@H]3[C@H](O3)[C@H]([C@@H]4C2=CC[C@H]...</td>\n",
        "    </tr>\n",
        "    <tr>\n",
        "      <th>4</th>\n",
        "      <td> 26751437</td>\n",
        "      <td>          C=CC1=C[C@H]([C@H]2[C@@H](C13OCCCO3)O2)O</td>\n",
        "    </tr>\n",
        "  </tbody>\n",
        "</table>\n",
        "<p>5 rows \u00d7 2 columns</p>\n",
        "</div>"
       ],
       "metadata": {},
       "output_type": "pyout",
       "prompt_number": 18,
       "text": [
        "        SID                                             SMILES\n",
        "0  26751441                      COC(=O)NC/C=C\\C1=NC(=CO1)CCCO\n",
        "1  26751440  C[C@H](C1=CC=CC=C1)N2C(=O)[C@@H]3CC[C@H]4[C@H]...\n",
        "2  26751439  CCN1C(=O)[C@H]2CC=C3[C@H]([C@H]2C1=O)[C@@H]([C...\n",
        "3  26751438  C1COC2([C@@H]3[C@H](O3)[C@H]([C@@H]4C2=CC[C@H]...\n",
        "4  26751437           C=CC1=C[C@H]([C@H]2[C@@H](C13OCCCO3)O2)O\n",
        "\n",
        "[5 rows x 2 columns]"
       ]
      }
     ],
     "prompt_number": 18
    },
    {
     "cell_type": "heading",
     "level": 3,
     "metadata": {},
     "source": [
      "Shaping Data"
     ]
    },
    {
     "cell_type": "code",
     "collapsed": false,
     "input": [
      "df = pd.read_csv('supermergewashdescriptors.txt')"
     ],
     "language": "python",
     "metadata": {},
     "outputs": []
    },
    {
     "cell_type": "code",
     "collapsed": false,
     "input": [
      "df.head(5)"
     ],
     "language": "python",
     "metadata": {},
     "outputs": []
    },
    {
     "cell_type": "code",
     "collapsed": false,
     "input": [
      "df.columns"
     ],
     "language": "python",
     "metadata": {},
     "outputs": []
    },
    {
     "cell_type": "code",
     "collapsed": false,
     "input": [],
     "language": "python",
     "metadata": {},
     "outputs": []
    },
    {
     "cell_type": "heading",
     "level": 3,
     "metadata": {},
     "source": [
      "First pass at model in MOE\n"
     ]
    },
    {
     "cell_type": "code",
     "collapsed": false,
     "input": [],
     "language": "python",
     "metadata": {},
     "outputs": []
    },
    {
     "cell_type": "code",
     "collapsed": false,
     "input": [],
     "language": "python",
     "metadata": {},
     "outputs": []
    },
    {
     "cell_type": "code",
     "collapsed": false,
     "input": [],
     "language": "python",
     "metadata": {},
     "outputs": []
    },
    {
     "cell_type": "heading",
     "level": 3,
     "metadata": {},
     "source": [
      "Results from MOE binary classification"
     ]
    },
    {
     "cell_type": "code",
     "collapsed": false,
     "input": [],
     "language": "python",
     "metadata": {},
     "outputs": []
    },
    {
     "cell_type": "heading",
     "level": 3,
     "metadata": {},
     "source": [
      "Model Building with Python Tools\n",
      "One Isozyme, One Model"
     ]
    },
    {
     "cell_type": "code",
     "collapsed": false,
     "input": [],
     "language": "python",
     "metadata": {},
     "outputs": []
    },
    {
     "cell_type": "heading",
     "level": 3,
     "metadata": {},
     "source": [
      "Results from kNN model in scikit-learn"
     ]
    },
    {
     "cell_type": "code",
     "collapsed": false,
     "input": [],
     "language": "python",
     "metadata": {},
     "outputs": []
    },
    {
     "cell_type": "code",
     "collapsed": false,
     "input": [],
     "language": "python",
     "metadata": {},
     "outputs": []
    },
    {
     "cell_type": "code",
     "collapsed": false,
     "input": [],
     "language": "python",
     "metadata": {},
     "outputs": []
    },
    {
     "cell_type": "heading",
     "level": 3,
     "metadata": {},
     "source": [
      "Workflow"
     ]
    },
    {
     "cell_type": "markdown",
     "metadata": {},
     "source": [
      "- Semi-scripted analysis environment setup on EC2 instance of size appropriate to problem.\n",
      "- Analysis performed through browser interface to R server or in IPython Notebooks\n",
      "- Data hosted remotely and pulled into the environment as needed.\n",
      "- Analysis scripts saved and updated through a DVCS (git)\n",
      "- Results pushed to remote repositories.\n",
      "- EC2 instance shutdown or terminated."
     ]
    },
    {
     "cell_type": "code",
     "collapsed": false,
     "input": [],
     "language": "python",
     "metadata": {},
     "outputs": []
    },
    {
     "cell_type": "heading",
     "level": 4,
     "metadata": {},
     "source": [
      "Can I do my git business from this window too?"
     ]
    },
    {
     "cell_type": "code",
     "collapsed": false,
     "input": [
      "%%bash\n",
      "git config --global user.name \"Daniel Siegle\"\n",
      "git config --global user.email \"daniel.siegle@gmail.com\"\n",
      "\n",
      "# git congfig --global core.editor /usr/bin/emacs #if not set, git will \n",
      "# honor the $EDITOR environment variable\n",
      "\n",
      "git config --global color.ui \"auto\"\n",
      "\n",
      "git config --global credential.helper cache\n",
      "# Set the cache to timeout after 2 hours (settings in seconds)\n",
      "git config --global credential.helper 'cache --timeout=7200'"
     ],
     "language": "python",
     "metadata": {},
     "outputs": []
    },
    {
     "cell_type": "code",
     "collapsed": false,
     "input": [
      "!git pull"
     ],
     "language": "python",
     "metadata": {},
     "outputs": []
    },
    {
     "cell_type": "code",
     "collapsed": false,
     "input": [
      "##Save your stuff now and then execute this cell to add, commit and push\n",
      "!git add Outline.ipynb\n",
      "!git commit -m 'automated data fetch'\n"
     ],
     "language": "python",
     "metadata": {},
     "outputs": [
      {
       "output_type": "stream",
       "stream": "stdout",
       "text": [
        "[master edd45dd] automated data fetch\r\n",
        " 1 file changed, 659 insertions(+), 15 deletions(-)\r\n"
       ]
      }
     ],
     "prompt_number": 25
    },
    {
     "cell_type": "code",
     "collapsed": false,
     "input": [
      "!git push -u origin master"
     ],
     "language": "python",
     "metadata": {},
     "outputs": [
      {
       "output_type": "stream",
       "stream": "stdout",
       "text": [
        "To https://github.com/5x5x5x5/kin.git\r\n",
        "   190c728..edd45dd  master -> master\r\n",
        "Branch master set up to track remote branch master from origin.\r\n"
       ]
      }
     ],
     "prompt_number": 26
    },
    {
     "cell_type": "code",
     "collapsed": false,
     "input": [],
     "language": "python",
     "metadata": {},
     "outputs": []
    },
    {
     "cell_type": "code",
     "collapsed": false,
     "input": [
      "!sudo lshw"
     ],
     "language": "python",
     "metadata": {},
     "outputs": []
    },
    {
     "cell_type": "code",
     "collapsed": false,
     "input": [],
     "language": "python",
     "metadata": {},
     "outputs": []
    }
   ],
   "metadata": {}
  }
 ]
}
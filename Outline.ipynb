{
 "metadata": {
  "name": "",
  "signature": "sha256:d70a939b53cbe7330fffcc6ca9b4094c0d1c9789872b81ef33d6b1c7b74e1819"
 },
 "nbformat": 3,
 "nbformat_minor": 0,
 "worksheets": [
  {
   "cells": [
    {
     "cell_type": "heading",
     "level": 1,
     "metadata": {},
     "source": [
      "Modeling tools for QSAR"
     ]
    },
    {
     "cell_type": "heading",
     "level": 3,
     "metadata": {},
     "source": [
      "(Quantitative Structure Activity Relationship)"
     ]
    },
    {
     "cell_type": "markdown",
     "metadata": {},
     "source": [
      "This analysis uses data from a high-throughput screen of inhibitors of five isozymes of Cytochrome P450.\n",
      "\n",
      "Cytochrome P450s are arguably the most important class of enzymes in drug metabolism and xenobiotic clearance. CYPs catalyze the oxidation of organic substances, which frequently has the effect of making the substrate more hydrophilic, soluble and excretable.\n",
      "\n",
      "Substances that interfere with CYPs have the potential to upset the metabolism of any other concurrently administered pharmaceutical substances. Therefore incidental CYP inhibition is a constant concern in drug development and a frequent cause of drug candidate failure.\n",
      "\n",
      "In silico screening for CYP inhibition would save alot of time and money."
     ]
    },
    {
     "cell_type": "code",
     "collapsed": false,
     "input": [
      "import sys\n",
      "sys.version"
     ],
     "language": "python",
     "metadata": {},
     "outputs": [
      {
       "metadata": {},
       "output_type": "pyout",
       "prompt_number": 6,
       "text": [
        "'3.3.5 |Anaconda 1.9.2 (64-bit)| (default, Mar 10 2014, 11:19:31) \\n[GCC 4.1.2 20080704 (Red Hat 4.1.2-54)]'"
       ]
      }
     ],
     "prompt_number": 6
    },
    {
     "cell_type": "code",
     "collapsed": false,
     "input": [
      "import numpy as np\n",
      "np.version.version"
     ],
     "language": "python",
     "metadata": {},
     "outputs": [
      {
       "metadata": {},
       "output_type": "pyout",
       "prompt_number": 7,
       "text": [
        "'1.8.0'"
       ]
      }
     ],
     "prompt_number": 7
    },
    {
     "cell_type": "code",
     "collapsed": false,
     "input": [
      "import pandas as pd\n",
      "pd.version.version"
     ],
     "language": "python",
     "metadata": {},
     "outputs": [
      {
       "metadata": {},
       "output_type": "pyout",
       "prompt_number": 8,
       "text": [
        "'0.13.1'"
       ]
      }
     ],
     "prompt_number": 8
    },
    {
     "cell_type": "code",
     "collapsed": false,
     "input": [
      "%timeit np.linalg.eigvals(np.random.rand(100,100))"
     ],
     "language": "python",
     "metadata": {},
     "outputs": [
      {
       "output_type": "stream",
       "stream": "stdout",
       "text": [
        "100 loops, best of 3: 14.3 ms per loop\n"
       ]
      }
     ],
     "prompt_number": 9
    },
    {
     "cell_type": "heading",
     "level": 3,
     "metadata": {},
     "source": [
      "Reproducible research"
     ]
    },
    {
     "cell_type": "markdown",
     "metadata": {},
     "source": [
      "* Do good science. Nothing is better at dimensionality reduction than asking a focused, well-considered question.\n",
      "* Precisely document things done by hand (or in spreadsheet or GUI)\n",
      "* Code and script as much as possible\n",
      "* Use a version control system\n",
      "* Document the software environment\n",
      "* Only save output that cannot be resconstructed from original data + code (except for presentation purposes)\n",
      "* Set seed whenever random numbers are generated for a non-trivial purpose\n",
      "* Automate as much of the analysis pipline as possible\n",
      " * Raw data -> processed data -> analysis -> report"
     ]
    },
    {
     "cell_type": "code",
     "collapsed": false,
     "input": [],
     "language": "python",
     "metadata": {},
     "outputs": []
    },
    {
     "cell_type": "heading",
     "level": 3,
     "metadata": {},
     "source": [
      "Getting Data"
     ]
    },
    {
     "cell_type": "markdown",
     "metadata": {},
     "source": [
      "Assay data from: \n",
      "\n",
      "**Comprehansive Characterization of Cytochrome P450 Isozyme Selectivity across Chemical Libraries** *Nat Biotechnology.* November ; 27(11): 1050-1055. doi:10.1038/nbt.1851\n",
      "\n",
      "The assay results and the chemical structure of substances tested are available as separately. I downloaded both files and manually merged them in a spreadsheet, merging on the SID number (Substance ID) with no mismatches. \n",
      "\n",
      "The Molecular Operating Environment loaded the merged .csv into a proprietary database format. MOE preprocessed the molecular structure of all ligands by calculating their 'washed' or aqueous 3-D configurations. The 'washed' configurations were used to generate molecular descriptors. \n",
      "\n",
      "The resulting file was saved as a .csv, uploaded and made publicly available on www.figshare.com under the name supermergewashdescriptors.txt\n",
      "\n",
      "The command below is used to "
     ]
    },
    {
     "cell_type": "code",
     "collapsed": false,
     "input": [
      "!wget http://files.figshare.com/1471460/supermergewashdescriptors.txt"
     ],
     "language": "python",
     "metadata": {},
     "outputs": [
      {
       "output_type": "stream",
       "stream": "stdout",
       "text": [
        "--2014-05-06 01:30:21--  http://files.figshare.com/1471460/supermergewashdescriptors.txt\r\n",
        "Resolving files.figshare.com (files.figshare.com)... 54.239.34.12\r\n",
        "Connecting to files.figshare.com (files.figshare.com)|54.239.34.12|:80... "
       ]
      },
      {
       "output_type": "stream",
       "stream": "stdout",
       "text": [
        "connected.\r\n",
        "HTTP request sent, awaiting response... "
       ]
      },
      {
       "output_type": "stream",
       "stream": "stdout",
       "text": [
        "200 OK\r\n",
        "Length: 49148674 (47M) [text/plain]\r\n",
        "Saving to: `supermergewashdescriptors.txt'\r\n",
        "\r\n",
        "\r",
        " 0% [                                       ] 0           --.-K/s              "
       ]
      },
      {
       "output_type": "stream",
       "stream": "stdout",
       "text": [
        "\r",
        " 0% [                                       ] 86,019       322K/s              "
       ]
      },
      {
       "output_type": "stream",
       "stream": "stdout",
       "text": [
        "\r",
        " 0% [                                       ] 338,599      634K/s              "
       ]
      },
      {
       "output_type": "stream",
       "stream": "stdout",
       "text": [
        "\r",
        " 1% [                                       ] 845,219     1.11M/s              "
       ]
      },
      {
       "output_type": "stream",
       "stream": "stdout",
       "text": [
        "\r",
        " 2% [>                                      ] 1,290,519   1.31M/s              "
       ]
      },
      {
       "output_type": "stream",
       "stream": "stdout",
       "text": [
        "\r",
        " 3% [>                                      ] 1,896,419   1.59M/s              "
       ]
      },
      {
       "output_type": "stream",
       "stream": "stdout",
       "text": [
        "\r",
        " 5% [=>                                     ] 2,665,839   1.89M/s              "
       ]
      },
      {
       "output_type": "stream",
       "stream": "stdout",
       "text": [
        "\r",
        " 6% [=>                                     ] 3,387,079   2.08M/s              "
       ]
      },
      {
       "output_type": "stream",
       "stream": "stdout",
       "text": [
        "\r",
        " 8% [==>                                    ] 4,099,559   2.23M/s              "
       ]
      },
      {
       "output_type": "stream",
       "stream": "stdout",
       "text": [
        "\r",
        " 9% [==>                                    ] 4,874,251   2.38M/s              "
       ]
      },
      {
       "output_type": "stream",
       "stream": "stdout",
       "text": [
        "\r",
        "11% [===>                                   ] 5,572,699   2.46M/s              "
       ]
      },
      {
       "output_type": "stream",
       "stream": "stdout",
       "text": [
        "\r",
        "12% [===>                                   ] 6,226,779   2.52M/s              "
       ]
      },
      {
       "output_type": "stream",
       "stream": "stdout",
       "text": [
        "\r",
        "14% [====>                                  ] 6,984,519   2.60M/s              "
       ]
      },
      {
       "output_type": "stream",
       "stream": "stdout",
       "text": [
        "\r",
        "15% [=====>                                 ] 7,724,739   2.67M/s              "
       ]
      },
      {
       "output_type": "stream",
       "stream": "stdout",
       "text": [
        "\r",
        "17% [=====>                                 ] 8,372,979   2.69M/s              "
       ]
      },
      {
       "output_type": "stream",
       "stream": "stdout",
       "text": [
        "\r",
        "18% [======>                                ] 9,135,099   2.75M/s  eta 14s     "
       ]
      },
      {
       "output_type": "stream",
       "stream": "stdout",
       "text": [
        "\r",
        "20% [======>                                ] 9,875,319   2.94M/s  eta 14s     "
       ]
      },
      {
       "output_type": "stream",
       "stream": "stdout",
       "text": [
        "\r",
        "21% [=======>                               ] 10,548,379  3.09M/s  eta 14s     "
       ]
      },
      {
       "output_type": "stream",
       "stream": "stdout",
       "text": [
        "\r",
        "22% [=======>                               ] 11,241,879  3.29M/s  eta 14s     "
       ]
      },
      {
       "output_type": "stream",
       "stream": "stdout",
       "text": [
        "\r",
        "24% [========>                              ] 12,012,759  3.36M/s  eta 14s     "
       ]
      },
      {
       "output_type": "stream",
       "stream": "stdout",
       "text": [
        "\r",
        "25% [=========>                             ] 12,700,419  3.37M/s  eta 12s     "
       ]
      },
      {
       "output_type": "stream",
       "stream": "stdout",
       "text": [
        "\r",
        "27% [=========>                             ] 13,372,019  3.40M/s  eta 12s     "
       ]
      },
      {
       "output_type": "stream",
       "stream": "stdout",
       "text": [
        "\r",
        "28% [==========>                            ] 14,132,679  3.40M/s  eta 12s     "
       ]
      },
      {
       "output_type": "stream",
       "stream": "stdout",
       "text": [
        "\r",
        "30% [==========>                            ] 14,841,671  3.38M/s  eta 12s     "
       ]
      },
      {
       "output_type": "stream",
       "stream": "stdout",
       "text": [
        "\r",
        "31% [===========>                           ] 15,515,299  3.38M/s  eta 12s     "
       ]
      },
      {
       "output_type": "stream",
       "stream": "stdout",
       "text": [
        "\r",
        "33% [===========>                           ] 16,248,219  3.39M/s  eta 10s     "
       ]
      },
      {
       "output_type": "stream",
       "stream": "stdout",
       "text": [
        "\r",
        "34% [============>                          ] 16,992,819  3.38M/s  eta 10s     "
       ]
      },
      {
       "output_type": "stream",
       "stream": "stdout",
       "text": [
        "\r",
        "35% [=============>                         ] 17,668,799  3.39M/s  eta 10s     "
       ]
      },
      {
       "output_type": "stream",
       "stream": "stdout",
       "text": [
        "\r",
        "37% [=============>                         ] 18,385,659  3.40M/s  eta 10s     "
       ]
      },
      {
       "output_type": "stream",
       "stream": "stdout",
       "text": [
        "\r",
        "38% [==============>                        ] 19,133,179  3.39M/s  eta 10s     "
       ]
      },
      {
       "output_type": "stream",
       "stream": "stdout",
       "text": [
        "\r",
        "40% [==============>                        ] 19,813,539  3.37M/s  eta 9s      "
       ]
      },
      {
       "output_type": "stream",
       "stream": "stdout",
       "text": [
        "\r"
       ]
      },
      {
       "output_type": "stream",
       "stream": "stdout",
       "text": [
        "41% [===============>                       ] 20,498,279  3.39M/s  eta 9s      "
       ]
      },
      {
       "output_type": "stream",
       "stream": "stdout",
       "text": [
        "\r",
        "43% [===============>                       ] 21,267,699  3.39M/s  eta 9s      "
       ]
      },
      {
       "output_type": "stream",
       "stream": "stdout",
       "text": [
        "\r",
        "44% [================>                      ] 21,958,279  3.38M/s  eta 9s      "
       ]
      },
      {
       "output_type": "stream",
       "stream": "stdout",
       "text": [
        "\r",
        "46% [================>                      ] 22,634,259  3.38M/s  eta 9s      "
       ]
      },
      {
       "output_type": "stream",
       "stream": "stdout",
       "text": [
        "\r",
        "47% [=================>                     ] 23,397,839  3.38M/s  eta 8s      "
       ]
      },
      {
       "output_type": "stream",
       "stream": "stdout",
       "text": [
        "\r",
        "49% [==================>                    ] 24,105,939  3.40M/s  eta 8s      "
       ]
      },
      {
       "output_type": "stream",
       "stream": "stdout",
       "text": [
        "\r",
        "50% [==================>                    ] 24,802,359  3.38M/s  eta 8s      "
       ]
      },
      {
       "output_type": "stream",
       "stream": "stdout",
       "text": [
        "\r",
        "51% [===================>                   ] 25,511,351  3.37M/s  eta 8s      "
       ]
      },
      {
       "output_type": "stream",
       "stream": "stdout",
       "text": [
        "\r",
        "53% [===================>                   ] 26,264,711  3.39M/s  eta 8s      "
       ]
      },
      {
       "output_type": "stream",
       "stream": "stdout",
       "text": [
        "\r",
        "54% [====================>                  ] 26,948,559  3.38M/s  eta 7s      "
       ]
      },
      {
       "output_type": "stream",
       "stream": "stdout",
       "text": [
        "\r",
        "56% [====================>                  ] 27,625,999  3.36M/s  eta 7s      "
       ]
      },
      {
       "output_type": "stream",
       "stream": "stdout",
       "text": [
        "\r",
        "57% [=====================>                 ] 28,380,819  3.39M/s  eta 7s      "
       ]
      },
      {
       "output_type": "stream",
       "stream": "stdout",
       "text": [
        "\r",
        "59% [======================>                ] 29,104,979  3.38M/s  eta 7s      "
       ]
      },
      {
       "output_type": "stream",
       "stream": "stdout",
       "text": [
        "\r",
        "60% [======================>                ] 29,785,339  3.37M/s  eta 7s      "
       ]
      },
      {
       "output_type": "stream",
       "stream": "stdout",
       "text": [
        "\r",
        "62% [=======================>               ] 30,548,919  3.40M/s  eta 6s      "
       ]
      },
      {
       "output_type": "stream",
       "stream": "stdout",
       "text": [
        "\r",
        "63% [=======================>               ] 31,259,939  3.38M/s  eta 6s      "
       ]
      },
      {
       "output_type": "stream",
       "stream": "stdout",
       "text": [
        "\r",
        "64% [========================>              ] 31,940,299  3.38M/s  eta 6s      "
       ]
      },
      {
       "output_type": "stream",
       "stream": "stdout",
       "text": [
        "\r",
        "66% [========================>              ] 32,686,359  3.40M/s  eta 6s      "
       ]
      },
      {
       "output_type": "stream",
       "stream": "stdout",
       "text": [
        "\r",
        "67% [=========================>             ] 33,414,899  3.38M/s  eta 6s      "
       ]
      },
      {
       "output_type": "stream",
       "stream": "stdout",
       "text": [
        "\r",
        "69% [==========================>            ] 34,086,499  3.38M/s  eta 5s      "
       ]
      },
      {
       "output_type": "stream",
       "stream": "stdout",
       "text": [
        "\r",
        "70% [==========================>            ] 34,819,419  3.39M/s  eta 5s      "
       ]
      },
      {
       "output_type": "stream",
       "stream": "stdout",
       "text": [
        "\r",
        "72% [===========================>           ] 35,559,639  3.39M/s  eta 5s      "
       ]
      },
      {
       "output_type": "stream",
       "stream": "stdout",
       "text": [
        "\r",
        "73% [===========================>           ] 36,238,539  3.40M/s  eta 5s      "
       ]
      },
      {
       "output_type": "stream",
       "stream": "stdout",
       "text": [
        "\r",
        "75% [============================>          ] 36,921,819  3.38M/s  eta 5s      "
       ]
      },
      {
       "output_type": "stream",
       "stream": "stdout",
       "text": [
        "\r",
        "76% [============================>          ] 37,672,259  3.38M/s  eta 3s      "
       ]
      },
      {
       "output_type": "stream",
       "stream": "stdout",
       "text": [
        "\r",
        "78% [=============================>         ] 38,383,279  3.40M/s  eta 3s      "
       ]
      },
      {
       "output_type": "stream",
       "stream": "stdout",
       "text": [
        "\r",
        "79% [=============================>         ] 39,059,259  3.37M/s  eta 3s      "
       ]
      },
      {
       "output_type": "stream",
       "stream": "stdout",
       "text": [
        "\r",
        "81% [==============================>        ] 39,827,219  3.39M/s  eta 3s      "
       ]
      },
      {
       "output_type": "stream",
       "stream": "stdout",
       "text": [
        "\r",
        "82% [===============================>       ] 40,542,619  3.40M/s  eta 3s      "
       ]
      },
      {
       "output_type": "stream",
       "stream": "stdout",
       "text": [
        "\r",
        "83% [===============================>       ] 41,217,139  3.38M/s  eta 2s      "
       ]
      },
      {
       "output_type": "stream",
       "stream": "stdout",
       "text": [
        "\r",
        "85% [================================>      ] 41,966,119  3.40M/s  eta 2s      "
       ]
      },
      {
       "output_type": "stream",
       "stream": "stdout",
       "text": [
        "\r",
        "86% [================================>      ] 42,684,439  3.40M/s  eta 2s      "
       ]
      },
      {
       "output_type": "stream",
       "stream": "stdout",
       "text": [
        "\r",
        "88% [=================================>     ] 43,373,559  3.38M/s  eta 2s      "
       ]
      },
      {
       "output_type": "stream",
       "stream": "stdout",
       "text": [
        "\r",
        "89% [=================================>     ] 44,100,639  3.40M/s  eta 2s      "
       ]
      },
      {
       "output_type": "stream",
       "stream": "stdout",
       "text": [
        "\r",
        "91% [==================================>    ] 44,823,339  3.40M/s  eta 1s      "
       ]
      },
      {
       "output_type": "stream",
       "stream": "stdout",
       "text": [
        "\r",
        "92% [===================================>   ] 45,518,299  3.38M/s  eta 1s      "
       ]
      },
      {
       "output_type": "stream",
       "stream": "stdout",
       "text": [
        "\r",
        "94% [===================================>   ] 46,210,339  3.40M/s  eta 1s      "
       ]
      },
      {
       "output_type": "stream",
       "stream": "stdout",
       "text": [
        "\r",
        "95% [====================================>  ] 46,956,399  3.39M/s  eta 1s      "
       ]
      },
      {
       "output_type": "stream",
       "stream": "stdout",
       "text": [
        "\r",
        "96% [====================================>  ] 47,673,259  3.39M/s  eta 1s      "
       ]
      },
      {
       "output_type": "stream",
       "stream": "stdout",
       "text": [
        "\r",
        "98% [=====================================> ] 48,360,919  3.39M/s  eta 0s      "
       ]
      },
      {
       "output_type": "stream",
       "stream": "stdout",
       "text": [
        "\r",
        "99% [=====================================> ] 49,117,199  3.39M/s  eta 0s      \r",
        "100%[======================================>] 49,148,674  3.39M/s   in 14s     \r\n",
        "\r\n",
        "2014-05-06 01:30:36 (3.25 MB/s) - `supermergewashdescriptors.txt' saved [49148674/49148674]\r\n",
        "\r\n"
       ]
      }
     ],
     "prompt_number": 10
    },
    {
     "cell_type": "code",
     "collapsed": false,
     "input": [],
     "language": "python",
     "metadata": {},
     "outputs": []
    },
    {
     "cell_type": "heading",
     "level": 3,
     "metadata": {},
     "source": [
      "Shaping Data"
     ]
    },
    {
     "cell_type": "code",
     "collapsed": false,
     "input": [
      "df = pd.read_csv('supermergewashdescriptors.txt')"
     ],
     "language": "python",
     "metadata": {},
     "outputs": [],
     "prompt_number": 15
    },
    {
     "cell_type": "code",
     "collapsed": false,
     "input": [
      "df.head(5)"
     ],
     "language": "python",
     "metadata": {},
     "outputs": [
      {
       "html": [
        "<div style=\"max-height:1000px;max-width:1500px;overflow:auto;\">\n",
        "<table border=\"1\" class=\"dataframe\">\n",
        "  <thead>\n",
        "    <tr style=\"text-align: right;\">\n",
        "      <th></th>\n",
        "      <th>Field_1</th>\n",
        "      <th>Field_2</th>\n",
        "      <th>Minimized</th>\n",
        "      <th>WashedMols</th>\n",
        "      <th>PUBCHEM_CID</th>\n",
        "      <th>PUBCHEM_ACTIVITY_OUTCOME</th>\n",
        "      <th>PUBCHEM_ACTIVITY_SCORE</th>\n",
        "      <th>PUBCHEM_ACTIVITY_URL</th>\n",
        "      <th>PUBCHEM_ASSAYDATA_COMMENT</th>\n",
        "      <th>Inhibition Observed</th>\n",
        "      <th>Approved Drug</th>\n",
        "      <th>Collection</th>\n",
        "      <th>Analysis Comment</th>\n",
        "      <th>Activity Outcome</th>\n",
        "      <th>Activity Score</th>\n",
        "      <th>p450-cyp2c19-Potency</th>\n",
        "      <th>p450-cyp2c19-Curve_Description</th>\n",
        "      <th>p450-cyp2c19-Fit_LogAC50</th>\n",
        "      <th>p450-cyp2c19-Fit_HillSlope</th>\n",
        "      <th>p450-cyp2c19-Fit_R2</th>\n",
        "      <th></th>\n",
        "    </tr>\n",
        "  </thead>\n",
        "  <tbody>\n",
        "    <tr>\n",
        "      <th>0</th>\n",
        "      <td> 842238</td>\n",
        "      <td>              Cl.Clc1cc(NC(=O)CCC)ccc1N1CCN(CC1)CC</td>\n",
        "      <td>              Cl.Clc1cc(NC(=O)CCC)ccc1N1CCN(CC1)CC</td>\n",
        "      <td>             Clc1cc(NC(=O)CCC)ccc1N1CC[NH+](CC1)CC</td>\n",
        "      <td> 6602638</td>\n",
        "      <td> Unspecified</td>\n",
        "      <td>NaN</td>\n",
        "      <td>NaN</td>\n",
        "      <td>NaN</td>\n",
        "      <td> True</td>\n",
        "      <td> Biodiverse</td>\n",
        "      <td> NaN</td>\n",
        "      <td>NaN</td>\n",
        "      <td> 1</td>\n",
        "      <td>  0</td>\n",
        "      <td>       NaN</td>\n",
        "      <td>                                    NaN</td>\n",
        "      <td>  NaN</td>\n",
        "      <td>    NaN</td>\n",
        "      <td>    NaN</td>\n",
        "      <td>...</td>\n",
        "    </tr>\n",
        "    <tr>\n",
        "      <th>1</th>\n",
        "      <td> 842250</td>\n",
        "      <td> Fc1ccc(cc1)Cn1nnnc1CN(CC1=Cc2c(NC1=O)cc1OCOc1c...</td>\n",
        "      <td> Fc1ccc(cc1)Cn1nnnc1CN(CC1=Cc2c(NC1=O)cc1OCOc1c...</td>\n",
        "      <td> Fc1ccc(cc1)Cn1nnnc1C[NH+](CC1=Cc2c(NC1=O)cc1OC...</td>\n",
        "      <td>  644510</td>\n",
        "      <td> Unspecified</td>\n",
        "      <td>NaN</td>\n",
        "      <td>NaN</td>\n",
        "      <td>NaN</td>\n",
        "      <td> True</td>\n",
        "      <td> Biodiverse</td>\n",
        "      <td> NaN</td>\n",
        "      <td>NaN</td>\n",
        "      <td> 3</td>\n",
        "      <td> 20</td>\n",
        "      <td> 12.589300</td>\n",
        "      <td>        Partial curve; partial efficacy</td>\n",
        "      <td>-4.90</td>\n",
        "      <td> 2.7868</td>\n",
        "      <td> 0.9543</td>\n",
        "      <td>...</td>\n",
        "    </tr>\n",
        "    <tr>\n",
        "      <th>2</th>\n",
        "      <td> 842319</td>\n",
        "      <td> S1\\C(=C/2\\c3c(N(CC)C\\2=O)cccc3)\\C(=O)N(CCCOC)C1=S</td>\n",
        "      <td> S1\\C(=C/2\\c3c(N(CC)C\\2=O)cccc3)\\C(=O)N(CCCOC)C1=S</td>\n",
        "      <td> S1\\C(=C/2\\c3c(N(CC)C\\2=O)cccc3)\\C(=O)N(CCCOC)C1=S</td>\n",
        "      <td> 1960010</td>\n",
        "      <td> Unspecified</td>\n",
        "      <td>NaN</td>\n",
        "      <td>NaN</td>\n",
        "      <td>NaN</td>\n",
        "      <td> True</td>\n",
        "      <td> Biodiverse</td>\n",
        "      <td> NaN</td>\n",
        "      <td>NaN</td>\n",
        "      <td> 3</td>\n",
        "      <td> 20</td>\n",
        "      <td> 11.220200</td>\n",
        "      <td> Partial curve; high efficacy; poor fit</td>\n",
        "      <td>-4.95</td>\n",
        "      <td> 0.7000</td>\n",
        "      <td> 0.8710</td>\n",
        "      <td>...</td>\n",
        "    </tr>\n",
        "    <tr>\n",
        "      <th>3</th>\n",
        "      <td> 842408</td>\n",
        "      <td>        S1c2cc(N(S(=O)(=O)c3sccc3)C(=O)C)ccc2OC1=O</td>\n",
        "      <td>        S1c2cc(N(S(=O)(=O)c3sccc3)C(=O)C)ccc2OC1=O</td>\n",
        "      <td>        S1c2cc(N(S(=O)(=O)c3sccc3)C(=O)C)ccc2OC1=O</td>\n",
        "      <td>  644675</td>\n",
        "      <td> Unspecified</td>\n",
        "      <td>NaN</td>\n",
        "      <td>NaN</td>\n",
        "      <td>NaN</td>\n",
        "      <td> True</td>\n",
        "      <td> Biodiverse</td>\n",
        "      <td> NaN</td>\n",
        "      <td>NaN</td>\n",
        "      <td> 2</td>\n",
        "      <td> 90</td>\n",
        "      <td>  0.316228</td>\n",
        "      <td>          Complete curve; high efficacy</td>\n",
        "      <td>-6.50</td>\n",
        "      <td> 1.1000</td>\n",
        "      <td> 0.9297</td>\n",
        "      <td>...</td>\n",
        "    </tr>\n",
        "    <tr>\n",
        "      <th>4</th>\n",
        "      <td> 842584</td>\n",
        "      <td>                  Clc1ccccc1-c1[nH]nc(n1)-c1ccccc1</td>\n",
        "      <td>                  Clc1ccccc1-c1[nH]nc(n1)-c1ccccc1</td>\n",
        "      <td>                  Clc1ccccc1-c1[nH]nc(n1)-c1ccccc1</td>\n",
        "      <td>  644851</td>\n",
        "      <td> Unspecified</td>\n",
        "      <td>NaN</td>\n",
        "      <td>NaN</td>\n",
        "      <td>NaN</td>\n",
        "      <td> True</td>\n",
        "      <td> Biodiverse</td>\n",
        "      <td> NaN</td>\n",
        "      <td>NaN</td>\n",
        "      <td> 2</td>\n",
        "      <td> 41</td>\n",
        "      <td> 17.782801</td>\n",
        "      <td>           Partial curve; high efficacy</td>\n",
        "      <td>-4.75</td>\n",
        "      <td> 0.8000</td>\n",
        "      <td> 0.9390</td>\n",
        "      <td>...</td>\n",
        "    </tr>\n",
        "  </tbody>\n",
        "</table>\n",
        "<p>5 rows \u00d7 327 columns</p>\n",
        "</div>"
       ],
       "metadata": {},
       "output_type": "pyout",
       "prompt_number": 16,
       "text": [
        "   Field_1                                            Field_2  \\\n",
        "0   842238               Cl.Clc1cc(NC(=O)CCC)ccc1N1CCN(CC1)CC   \n",
        "1   842250  Fc1ccc(cc1)Cn1nnnc1CN(CC1=Cc2c(NC1=O)cc1OCOc1c...   \n",
        "2   842319  S1\\C(=C/2\\c3c(N(CC)C\\2=O)cccc3)\\C(=O)N(CCCOC)C1=S   \n",
        "3   842408         S1c2cc(N(S(=O)(=O)c3sccc3)C(=O)C)ccc2OC1=O   \n",
        "4   842584                   Clc1ccccc1-c1[nH]nc(n1)-c1ccccc1   \n",
        "\n",
        "                                           Minimized  \\\n",
        "0               Cl.Clc1cc(NC(=O)CCC)ccc1N1CCN(CC1)CC   \n",
        "1  Fc1ccc(cc1)Cn1nnnc1CN(CC1=Cc2c(NC1=O)cc1OCOc1c...   \n",
        "2  S1\\C(=C/2\\c3c(N(CC)C\\2=O)cccc3)\\C(=O)N(CCCOC)C1=S   \n",
        "3         S1c2cc(N(S(=O)(=O)c3sccc3)C(=O)C)ccc2OC1=O   \n",
        "4                   Clc1ccccc1-c1[nH]nc(n1)-c1ccccc1   \n",
        "\n",
        "                                          WashedMols  PUBCHEM_CID  \\\n",
        "0              Clc1cc(NC(=O)CCC)ccc1N1CC[NH+](CC1)CC      6602638   \n",
        "1  Fc1ccc(cc1)Cn1nnnc1C[NH+](CC1=Cc2c(NC1=O)cc1OC...       644510   \n",
        "2  S1\\C(=C/2\\c3c(N(CC)C\\2=O)cccc3)\\C(=O)N(CCCOC)C1=S      1960010   \n",
        "3         S1c2cc(N(S(=O)(=O)c3sccc3)C(=O)C)ccc2OC1=O       644675   \n",
        "4                   Clc1ccccc1-c1[nH]nc(n1)-c1ccccc1       644851   \n",
        "\n",
        "  PUBCHEM_ACTIVITY_OUTCOME  PUBCHEM_ACTIVITY_SCORE  PUBCHEM_ACTIVITY_URL  \\\n",
        "0              Unspecified                     NaN                   NaN   \n",
        "1              Unspecified                     NaN                   NaN   \n",
        "2              Unspecified                     NaN                   NaN   \n",
        "3              Unspecified                     NaN                   NaN   \n",
        "4              Unspecified                     NaN                   NaN   \n",
        "\n",
        "   PUBCHEM_ASSAYDATA_COMMENT Inhibition Observed Approved Drug Collection  \\\n",
        "0                        NaN                True    Biodiverse        NaN   \n",
        "1                        NaN                True    Biodiverse        NaN   \n",
        "2                        NaN                True    Biodiverse        NaN   \n",
        "3                        NaN                True    Biodiverse        NaN   \n",
        "4                        NaN                True    Biodiverse        NaN   \n",
        "\n",
        "   Analysis Comment  Activity Outcome  Activity Score  p450-cyp2c19-Potency  \\\n",
        "0               NaN                 1               0                   NaN   \n",
        "1               NaN                 3              20             12.589300   \n",
        "2               NaN                 3              20             11.220200   \n",
        "3               NaN                 2              90              0.316228   \n",
        "4               NaN                 2              41             17.782801   \n",
        "\n",
        "           p450-cyp2c19-Curve_Description  p450-cyp2c19-Fit_LogAC50  \\\n",
        "0                                     NaN                       NaN   \n",
        "1         Partial curve; partial efficacy                     -4.90   \n",
        "2  Partial curve; high efficacy; poor fit                     -4.95   \n",
        "3           Complete curve; high efficacy                     -6.50   \n",
        "4            Partial curve; high efficacy                     -4.75   \n",
        "\n",
        "   p450-cyp2c19-Fit_HillSlope  p450-cyp2c19-Fit_R2      \n",
        "0                         NaN                  NaN ...  \n",
        "1                      2.7868               0.9543 ...  \n",
        "2                      0.7000               0.8710 ...  \n",
        "3                      1.1000               0.9297 ...  \n",
        "4                      0.8000               0.9390 ...  \n",
        "\n",
        "[5 rows x 327 columns]"
       ]
      }
     ],
     "prompt_number": 16
    },
    {
     "cell_type": "code",
     "collapsed": false,
     "input": [
      "df.columns"
     ],
     "language": "python",
     "metadata": {},
     "outputs": [
      {
       "metadata": {},
       "output_type": "pyout",
       "prompt_number": 18,
       "text": [
        "Index(['Field_1', 'Field_2', 'Minimized', 'WashedMols', 'PUBCHEM_CID', 'PUBCHEM_ACTIVITY_OUTCOME', 'PUBCHEM_ACTIVITY_SCORE', 'PUBCHEM_ACTIVITY_URL', 'PUBCHEM_ASSAYDATA_COMMENT', 'Inhibition Observed', 'Approved Drug', 'Collection', 'Analysis Comment', 'Activity Outcome', 'Activity Score', 'p450-cyp2c19-Potency', 'p450-cyp2c19-Curve_Description', 'p450-cyp2c19-Fit_LogAC50', 'p450-cyp2c19-Fit_HillSlope', 'p450-cyp2c19-Fit_R2', 'p450-cyp2c19-Fit_InfiniteActivity', 'p450-cyp2c19-Fit_ZeroActivity', 'p450-cyp2c19-Fit_CurveClass', 'p450-cyp2c19-Excluded_Points', 'p450-cyp2c19-Max_Response', 'p450-cyp2c19-Activity at 0.0007 uM', 'p450-cyp2c19-Activity at 0.00160 uM', 'p450-cyp2c19-Activity at 0.00368 uM', 'p450-cyp2c19-Activity at 0.00820 uM', 'p450-cyp2c19-Activity at 0.018 uM', 'p450-cyp2c19-Activity at 0.041 uM', 'p450-cyp2c19-Activity at 0.091 uM', 'p450-cyp2c19-Activity at 0.204 uM', 'p450-cyp2c19-Activity at 0.457 uM', 'p450-cyp2c19-Activity at 1.022 uM', 'p450-cyp2c19-Activity at 2.286 uM', 'p450-cyp2c19-Activity at 5.111 uM', 'p450-cyp2c19-Activity at 11.43 uM', 'p450-cyp2c19-Activity at 25.56 uM', 'p450-cyp2c19-Activity at 57.14 uM', 'p450-cyp2d6-Potency', 'p450-cyp2d6-Curve_Description', 'p450-cyp2d6-Fit_LogAC50', 'p450-cyp2d6-Fit_HillSlope', 'p450-cyp2d6-Fit_R2', 'p450-cyp2d6-Fit_InfiniteActivity', 'p450-cyp2d6-Fit_ZeroActivity', 'p450-cyp2d6-Fit_CurveClass', 'p450-cyp2d6-Excluded_Points', 'p450-cyp2d6-Max_Response', 'p450-cyp2d6-Activity at 0.0007 uM', 'p450-cyp2d6-Activity at 0.00160 uM', 'p450-cyp2d6-Activity at 0.00368 uM', 'p450-cyp2d6-Activity at 0.00820 uM', 'p450-cyp2d6-Activity at 0.018 uM', 'p450-cyp2d6-Activity at 0.041 uM', 'p450-cyp2d6-Activity at 0.091 uM', 'p450-cyp2d6-Activity at 0.204 uM', 'p450-cyp2d6-Activity at 0.457 uM', 'p450-cyp2d6-Activity at 1.022 uM', 'p450-cyp2d6-Activity at 2.286 uM', 'p450-cyp2d6-Activity at 5.111 uM', 'p450-cyp2d6-Activity at 11.43 uM', 'p450-cyp2d6-Activity at 25.56 uM', 'p450-cyp2d6-Activity at 57.14 uM', 'p450-cyp3a4-Potency', 'p450-cyp3a4-Curve_Description', 'p450-cyp3a4-Fit_LogAC50', 'p450-cyp3a4-Fit_HillSlope', 'p450-cyp3a4-Fit_R2', 'p450-cyp3a4-Fit_InfiniteActivity', 'p450-cyp3a4-Fit_ZeroActivity', 'p450-cyp3a4-Fit_CurveClass', 'p450-cyp3a4-Excluded_Points', 'p450-cyp3a4-Max_Response', 'p450-cyp3a4-Activity at 0.0007 uM', 'p450-cyp3a4-Activity at 0.00164 uM', 'p450-cyp3a4-Activity at 0.00366 uM', 'p450-cyp3a4-Activity at 0.00818 uM', 'p450-cyp3a4-Activity at 0.018 uM', 'p450-cyp3a4-Activity at 0.041 uM', 'p450-cyp3a4-Activity at 0.091 uM', 'p450-cyp3a4-Activity at 0.204 uM', 'p450-cyp3a4-Activity at 0.457 uM', 'p450-cyp3a4-Activity at 1.022 uM', 'p450-cyp3a4-Activity at 2.286 uM', 'p450-cyp3a4-Activity at 5.111 uM', 'p450-cyp3a4-Activity at 11.43 uM', 'p450-cyp3a4-Activity at 25.56 uM', 'p450-cyp3a4-Activity at 57.14 uM', 'p450-cyp1a2-Potency', 'p450-cyp1a2-Curve_Description', 'p450-cyp1a2-Fit_LogAC50', 'p450-cyp1a2-Fit_HillSlope', 'p450-cyp1a2-Fit_R2', 'p450-cyp1a2-Fit_InfiniteActivity', 'p450-cyp1a2-Fit_ZeroActivity', 'p450-cyp1a2-Fit_CurveClass', 'p450-cyp1a2-Excluded_Points', 'p450-cyp1a2-Max_Response', ...], dtype='object')"
       ]
      }
     ],
     "prompt_number": 18
    },
    {
     "cell_type": "heading",
     "level": 3,
     "metadata": {},
     "source": [
      "First pass at model in MOE\n"
     ]
    },
    {
     "cell_type": "code",
     "collapsed": false,
     "input": [],
     "language": "python",
     "metadata": {},
     "outputs": []
    },
    {
     "cell_type": "code",
     "collapsed": false,
     "input": [
      "from rdkit import Chem"
     ],
     "language": "python",
     "metadata": {},
     "outputs": []
    },
    {
     "cell_type": "code",
     "collapsed": false,
     "input": [
      "import rdkit\n",
      "from rdkit.Chem import AllChem as Chem"
     ],
     "language": "python",
     "metadata": {},
     "outputs": []
    },
    {
     "cell_type": "heading",
     "level": 3,
     "metadata": {},
     "source": [
      "Results from MOE binary classification"
     ]
    },
    {
     "cell_type": "code",
     "collapsed": false,
     "input": [],
     "language": "python",
     "metadata": {},
     "outputs": []
    },
    {
     "cell_type": "heading",
     "level": 3,
     "metadata": {},
     "source": [
      "Model Building with Python Tools\n",
      "One Isozyme, One Model"
     ]
    },
    {
     "cell_type": "code",
     "collapsed": false,
     "input": [],
     "language": "python",
     "metadata": {},
     "outputs": []
    },
    {
     "cell_type": "heading",
     "level": 3,
     "metadata": {},
     "source": [
      "Results from kNN model in scikit-learn"
     ]
    },
    {
     "cell_type": "code",
     "collapsed": false,
     "input": [],
     "language": "python",
     "metadata": {},
     "outputs": []
    },
    {
     "cell_type": "code",
     "collapsed": false,
     "input": [],
     "language": "python",
     "metadata": {},
     "outputs": []
    },
    {
     "cell_type": "code",
     "collapsed": false,
     "input": [],
     "language": "python",
     "metadata": {},
     "outputs": []
    },
    {
     "cell_type": "heading",
     "level": 3,
     "metadata": {},
     "source": [
      "Workflow"
     ]
    },
    {
     "cell_type": "markdown",
     "metadata": {},
     "source": [
      "- Semi-scripted analysis environment setup on EC2 instance of size appropriate to problem.\n",
      "- Analysis performed through browser interface to R server or in IPython Notebooks\n",
      "- Data hosted remotely and pulled into the environment as needed.\n",
      "- Analysis scripts saved and updated through a DCVS (git)\n",
      "- Results pushed to remote repositories.\n",
      "- EC2 instance shutdown or terminated."
     ]
    },
    {
     "cell_type": "code",
     "collapsed": false,
     "input": [],
     "language": "python",
     "metadata": {},
     "outputs": []
    },
    {
     "cell_type": "heading",
     "level": 4,
     "metadata": {},
     "source": [
      "Can I do my git business from this window too?"
     ]
    },
    {
     "cell_type": "code",
     "collapsed": false,
     "input": [
      "%%bash\n",
      "git config --global user.name \"Daniel Siegle\"\n",
      "git config --global user.email \"daniel.siegle@gmail.com\"\n",
      "\n",
      "# git congfig --global core.editor /usr/bin/emacs #if not set, git will \n",
      "# honor the $EDITOR environment variable\n",
      "\n",
      "git config --global color.ui \"auto\"\n",
      "\n",
      "git config --global credential.helper cache\n",
      "# Set the cache to timeout after 2 hours (settings in seconds)\n",
      "git config --global credential.helper 'cache --timeout=7200'"
     ],
     "language": "python",
     "metadata": {},
     "outputs": [],
     "prompt_number": 26
    },
    {
     "cell_type": "code",
     "collapsed": false,
     "input": [
      "!git pull"
     ],
     "language": "python",
     "metadata": {},
     "outputs": [
      {
       "output_type": "stream",
       "stream": "stdout",
       "text": [
        "Already up-to-date.\r\n"
       ]
      }
     ],
     "prompt_number": 27
    },
    {
     "cell_type": "code",
     "collapsed": false,
     "input": [
      "##Save your stuff now and then execute this cell to add, commit and push\n",
      "!git add Outline.ipynb\n",
      "!git commit -m 'updated outline'\n"
     ],
     "language": "python",
     "metadata": {},
     "outputs": [
      {
       "output_type": "stream",
       "stream": "stdout",
       "text": [
        "[master 2034930] updated outline\r\n",
        " 1 file changed, 10 insertions(+), 22 deletions(-)\r\n"
       ]
      }
     ],
     "prompt_number": 23
    },
    {
     "cell_type": "code",
     "collapsed": false,
     "input": [
      "!git push -u origin master"
     ],
     "language": "python",
     "metadata": {},
     "outputs": [
      {
       "output_type": "stream",
       "stream": "stdout",
       "text": [
        "To https://github.com/5x5x5x5/kin.git\r\n",
        "   e018e43..2034930  master -> master\r\n",
        "Branch master set up to track remote branch master from origin.\r\n"
       ]
      }
     ],
     "prompt_number": 24
    },
    {
     "cell_type": "code",
     "collapsed": false,
     "input": [],
     "language": "python",
     "metadata": {},
     "outputs": []
    },
    {
     "cell_type": "code",
     "collapsed": false,
     "input": [
      "!sudo lshw"
     ],
     "language": "python",
     "metadata": {},
     "outputs": [
      {
       "output_type": "stream",
       "stream": "stdout",
       "text": [
        "\r",
        "\r",
        "DMI\r"
       ]
      },
      {
       "output_type": "stream",
       "stream": "stdout",
       "text": [
        "\r",
        "   \r",
        "SMP\r",
        "\r",
        "   \r",
        "PA-RISC\r",
        "\r",
        "       \r",
        "device-tree\r",
        "\r",
        "           \r",
        "SPD\r",
        "\r",
        "   \r",
        "memory\r",
        "\r",
        "      \r",
        "/proc/cpuinfo\r",
        "\r",
        "             \r",
        "CPUID\r",
        "\r",
        "     \r",
        "PCI (sysfs)\r"
       ]
      },
      {
       "output_type": "stream",
       "stream": "stdout",
       "text": [
        "\r",
        "           \r",
        "ISA PnP\r",
        "\r",
        "       \r",
        "PCMCIA\r",
        "\r",
        "      \r",
        "PCMCIA\r",
        "\r",
        "      \r",
        "kernel device tree (sysfs)\r",
        "\r",
        "                          \r",
        "USB\r",
        "\r",
        "   \r",
        "IDE\r",
        "\r",
        "   \r",
        "SCSI\r",
        "\r",
        "    \r",
        "Network interfaces\r",
        "\r",
        "                  \r",
        "Framebuffer devices\r",
        "\r",
        "                   \r",
        "Display\r",
        "\r",
        "       \r",
        "CPUFreq\r",
        "\r",
        "       \r",
        "ABI\r",
        "\r",
        "   \r",
        "\r",
        "domu-12-31-39-0b-10-be\r\n",
        "    description: Computer\r\n",
        "    width: 64 bits\r\n",
        "    capabilities: vsyscall32\r\n",
        "  *-core\r\n",
        "       description: Motherboard\r\n",
        "       physical id: 0\r\n",
        "     *-memory\r\n",
        "          description: System memory\r\n",
        "          physical id: 0\r\n",
        "          size: 590MiB\r\n",
        "     *-cpu\r\n",
        "          product: Intel(R) Xeon(R) CPU           E5430  @ 2.66GHz\r\n",
        "          vendor: Intel Corp.\r\n",
        "          physical id: 1\r\n",
        "          bus info: cpu@0\r\n",
        "          width: 64 bits\r\n",
        "          capabilities: fpu fpu_exception wp de tsc msr pae cx8 sep cmov pat clflush mmx fxsr sse sse2 ss ht syscall nx x86-64 constant_tsc up rep_good nopl pni ssse3 cx16 sse4_1 hypervisor lahf_lm\r\n",
        "  *-network\r\n",
        "       description: Ethernet interface\r\n",
        "       physical id: 1\r\n",
        "       logical name: eth0\r\n",
        "       serial: 12:31:39:0b:10:be\r\n",
        "       capabilities: ethernet physical\r\n",
        "       configuration: broadcast=yes driver=vif ip=10.214.23.76 link=yes multicast=yes\r\n"
       ]
      }
     ],
     "prompt_number": 25
    },
    {
     "cell_type": "code",
     "collapsed": false,
     "input": [],
     "language": "python",
     "metadata": {},
     "outputs": []
    }
   ],
   "metadata": {}
  }
 ]
}
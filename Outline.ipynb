{
 "metadata": {
  "name": "",
  "signature": "sha256:b1c9429303275ae9cda883566075c2850860019a3261f5292ac06e80f7c4fba2"
 },
 "nbformat": 3,
 "nbformat_minor": 0,
 "worksheets": [
  {
   "cells": [
    {
     "cell_type": "heading",
     "level": 1,
     "metadata": {},
     "source": [
      "Modeling tools for QSAR"
     ]
    },
    {
     "cell_type": "heading",
     "level": 3,
     "metadata": {},
     "source": [
      "(Quantitative Structure Activity Relationship)"
     ]
    },
    {
     "cell_type": "markdown",
     "metadata": {},
     "source": [
      "This analysis uses data from a high-throughput screen of inhibitors of five isozymes of Cytochrome P450.\n",
      "\n",
      "Cytochrome P450s are arguably the most important class of enzymes in drug metabolism and xenobiotic clearance. CYPs catalyze the oxidation of organic substances, which frequently has the effect of making the substrate more hydrophilic, soluble and excretable.\n",
      "\n",
      "Substances that interfere with CYPs have the potential to upset the metabolism of any other concorently administered pharmaceutical substances. Therefore, incidental CYP inhibition is a constant concern in drug design and a frequent cause for drug candidate failure.\n",
      "\n",
      "In silico screening for CYP inhibition would save alot of time and money."
     ]
    },
    {
     "cell_type": "code",
     "collapsed": false,
     "input": [
      "import sys\n",
      "sys.version"
     ],
     "language": "python",
     "metadata": {},
     "outputs": [
      {
       "metadata": {},
       "output_type": "pyout",
       "prompt_number": 12,
       "text": [
        "'3.3.5 |Anaconda 1.9.2 (64-bit)| (default, Mar 10 2014, 11:19:31) \\n[GCC 4.1.2 20080704 (Red Hat 4.1.2-54)]'"
       ]
      }
     ],
     "prompt_number": 12
    },
    {
     "cell_type": "code",
     "collapsed": false,
     "input": [
      "import numpy as np\n",
      "np.version.version"
     ],
     "language": "python",
     "metadata": {},
     "outputs": []
    },
    {
     "cell_type": "code",
     "collapsed": false,
     "input": [
      "import pandas as pd\n",
      "pd.version.version"
     ],
     "language": "python",
     "metadata": {},
     "outputs": []
    },
    {
     "cell_type": "code",
     "collapsed": false,
     "input": [
      "%timeit np.linalg.eigvals(np.random.rand(100,100))"
     ],
     "language": "python",
     "metadata": {},
     "outputs": []
    },
    {
     "cell_type": "heading",
     "level": 3,
     "metadata": {},
     "source": [
      "Reproducible research"
     ]
    },
    {
     "cell_type": "markdown",
     "metadata": {},
     "source": [
      "* Do good science. Nothing is better at dimensionality reduction than asking a focused, well-considered question.\n",
      "* Precisely document things done by hand (or in spreadsheet or GUI)\n",
      "* Code and script as much as possible\n",
      "* Use a version control system\n",
      "* Document the software environment\n",
      "* Only save output that cannot be resconstructed from original data + code (except for presentation purposes)\n",
      "* Set seed whenever random numbers are generated for a non-trivial purpose\n",
      "* Automate as much of the analysis pipline as possible\n",
      " * Raw data -> processed data -> analysis -> report"
     ]
    },
    {
     "cell_type": "code",
     "collapsed": false,
     "input": [],
     "language": "python",
     "metadata": {},
     "outputs": []
    },
    {
     "cell_type": "heading",
     "level": 3,
     "metadata": {},
     "source": [
      "Getting Data"
     ]
    },
    {
     "cell_type": "code",
     "collapsed": false,
     "input": [],
     "language": "python",
     "metadata": {},
     "outputs": []
    },
    {
     "cell_type": "code",
     "collapsed": false,
     "input": [],
     "language": "python",
     "metadata": {},
     "outputs": []
    },
    {
     "cell_type": "heading",
     "level": 3,
     "metadata": {},
     "source": [
      "Shaping Data"
     ]
    },
    {
     "cell_type": "code",
     "collapsed": false,
     "input": [],
     "language": "python",
     "metadata": {},
     "outputs": []
    },
    {
     "cell_type": "heading",
     "level": 3,
     "metadata": {},
     "source": [
      "First pass at model in MOE\n"
     ]
    },
    {
     "cell_type": "code",
     "collapsed": false,
     "input": [],
     "language": "python",
     "metadata": {},
     "outputs": []
    },
    {
     "cell_type": "code",
     "collapsed": false,
     "input": [
      "from rdkit import Chem"
     ],
     "language": "python",
     "metadata": {},
     "outputs": []
    },
    {
     "cell_type": "code",
     "collapsed": false,
     "input": [
      "import rdkit\n",
      "from rdkit.Chem import AllChem as Chem"
     ],
     "language": "python",
     "metadata": {},
     "outputs": []
    },
    {
     "cell_type": "heading",
     "level": 3,
     "metadata": {},
     "source": [
      "Results from MOE binary classification"
     ]
    },
    {
     "cell_type": "code",
     "collapsed": false,
     "input": [],
     "language": "python",
     "metadata": {},
     "outputs": []
    },
    {
     "cell_type": "heading",
     "level": 3,
     "metadata": {},
     "source": [
      "Model Building with Python Tools\n",
      "One Isozyme, One Model"
     ]
    },
    {
     "cell_type": "code",
     "collapsed": false,
     "input": [],
     "language": "python",
     "metadata": {},
     "outputs": []
    },
    {
     "cell_type": "heading",
     "level": 3,
     "metadata": {},
     "source": [
      "Results from kNN model in scikit-learn"
     ]
    },
    {
     "cell_type": "code",
     "collapsed": false,
     "input": [],
     "language": "python",
     "metadata": {},
     "outputs": []
    },
    {
     "cell_type": "code",
     "collapsed": false,
     "input": [],
     "language": "python",
     "metadata": {},
     "outputs": []
    },
    {
     "cell_type": "code",
     "collapsed": false,
     "input": [],
     "language": "python",
     "metadata": {},
     "outputs": []
    },
    {
     "cell_type": "heading",
     "level": 3,
     "metadata": {},
     "source": [
      "Workflow"
     ]
    },
    {
     "cell_type": "markdown",
     "metadata": {},
     "source": [
      "- Semi-scripted analysis environment setup on EC2 instance of size appropriate to problem.\n",
      "- Analysis performed through browser interface to R server or in IPython Notebooks\n",
      "- Data hosted remotely and pulled into the environment as needed.\n",
      "- Analysis scripts saved and updated through a DCVS (git)\n",
      "- Results pushed to remote repositories.\n",
      "- EC2 instance shutdown or terminated."
     ]
    },
    {
     "cell_type": "code",
     "collapsed": false,
     "input": [],
     "language": "python",
     "metadata": {},
     "outputs": []
    },
    {
     "cell_type": "heading",
     "level": 4,
     "metadata": {},
     "source": [
      "Can I do my git business from this window too?"
     ]
    },
    {
     "cell_type": "code",
     "collapsed": false,
     "input": [
      "%%bash\n",
      "git config --global user.name \"Daniel Siegle\"\n",
      "git config --global user.email \"daniel.siegle@gmail.com\"\n",
      "\n",
      "# git congfig --global core.editor /usr/bin/emacs #if not set, git will \n",
      "# honor the $EDITOR environment variable\n",
      "\n",
      "git config --global color.ui \"auto\"\n",
      "\n",
      "git config --global credential.helper cache\n",
      "# Set the cache to timeout after 2 hours (settings in seconds)\n",
      "git config --global credential.helper 'cache --timeout=7200'"
     ],
     "language": "python",
     "metadata": {},
     "outputs": []
    },
    {
     "cell_type": "code",
     "collapsed": false,
     "input": [
      "!git pull"
     ],
     "language": "python",
     "metadata": {},
     "outputs": []
    },
    {
     "cell_type": "code",
     "collapsed": false,
     "input": [
      "##Save your stuff now and then execute this cell to add, commit and push\n",
      "!git add *\n",
      "!git commit -m 'adding git to notebook'\n"
     ],
     "language": "python",
     "metadata": {},
     "outputs": [
      {
       "output_type": "stream",
       "stream": "stdout",
       "text": [
        "[master 5a17f9d] adding git to notebook\r\n",
        " 1 file changed, 13 insertions(+), 3 deletions(-)\r\n"
       ]
      }
     ],
     "prompt_number": 14
    },
    {
     "cell_type": "code",
     "collapsed": false,
     "input": [
      "!git push -u origin master"
     ],
     "language": "python",
     "metadata": {},
     "outputs": [
      {
       "output_type": "stream",
       "stream": "stdout",
       "text": [
        "To https://github.com/5x5x5x5/kin.git\r\n",
        "   3911e90..5a17f9d  master -> master\r\n",
        "Branch master set up to track remote branch master from origin.\r\n"
       ]
      }
     ],
     "prompt_number": 15
    },
    {
     "cell_type": "code",
     "collapsed": false,
     "input": [],
     "language": "python",
     "metadata": {},
     "outputs": []
    },
    {
     "cell_type": "code",
     "collapsed": false,
     "input": [
      "!sudo lshw"
     ],
     "language": "python",
     "metadata": {},
     "outputs": [
      {
       "output_type": "stream",
       "stream": "stdout",
       "text": [
        "\r",
        "\r",
        "DMI\r"
       ]
      },
      {
       "output_type": "stream",
       "stream": "stdout",
       "text": [
        "\r",
        "   \r",
        "SMP\r",
        "\r",
        "   \r",
        "PA-RISC\r",
        "\r",
        "       \r",
        "device-tree\r",
        "\r",
        "           \r",
        "SPD\r",
        "\r",
        "   \r",
        "memory\r",
        "\r",
        "      \r",
        "/proc/cpuinfo\r",
        "\r",
        "             \r",
        "CPUID\r",
        "\r",
        "     \r",
        "PCI (sysfs)\r"
       ]
      },
      {
       "output_type": "stream",
       "stream": "stdout",
       "text": [
        "\r",
        "           \r",
        "ISA PnP\r",
        "\r",
        "       \r",
        "PCMCIA\r",
        "\r",
        "      \r",
        "PCMCIA\r",
        "\r",
        "      \r",
        "kernel device tree (sysfs)\r",
        "\r",
        "                          \r",
        "USB\r",
        "\r",
        "   \r",
        "IDE\r",
        "\r",
        "   \r",
        "SCSI\r"
       ]
      },
      {
       "output_type": "stream",
       "stream": "stdout",
       "text": [
        "\r",
        "    \r",
        "Network interfaces\r",
        "\r",
        "                  \r",
        "Framebuffer devices\r",
        "\r",
        "                   \r",
        "Display\r",
        "\r",
        "       \r",
        "CPUFreq\r",
        "\r",
        "       \r",
        "ABI\r",
        "\r",
        "   \r",
        "\r",
        "domu-12-31-39-0b-10-be\r\n",
        "    description: Computer\r\n",
        "    width: 64 bits\r\n",
        "    capabilities: vsyscall32\r\n",
        "  *-core\r\n",
        "       description: Motherboard\r\n",
        "       physical id: 0\r\n",
        "     *-memory\r\n",
        "          description: System memory\r\n",
        "          physical id: 0\r\n",
        "          size: 590MiB\r\n",
        "     *-cpu\r\n",
        "          product: Intel(R) Xeon(R) CPU           E5430  @ 2.66GHz\r\n",
        "          vendor: Intel Corp.\r\n",
        "          physical id: 1\r\n",
        "          bus info: cpu@0\r\n",
        "          width: 64 bits\r\n",
        "          capabilities: fpu fpu_exception wp de tsc msr pae cx8 sep cmov pat clflush mmx fxsr sse sse2 ss ht syscall nx x86-64 constant_tsc up rep_good nopl pni ssse3 cx16 sse4_1 hypervisor lahf_lm\r\n",
        "  *-network\r\n",
        "       description: Ethernet interface\r\n",
        "       physical id: 1\r\n",
        "       logical name: eth0\r\n",
        "       serial: 12:31:39:0b:10:be\r\n",
        "       capabilities: ethernet physical\r\n",
        "       configuration: broadcast=yes driver=vif ip=10.214.23.76 link=yes multicast=yes\r\n"
       ]
      }
     ],
     "prompt_number": 16
    },
    {
     "cell_type": "code",
     "collapsed": false,
     "input": [],
     "language": "python",
     "metadata": {},
     "outputs": []
    }
   ],
   "metadata": {}
  }
 ]
}